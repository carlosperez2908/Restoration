{
 "cells": [
  {
   "cell_type": "code",
   "execution_count": 61,
   "id": "1df59399",
   "metadata": {},
   "outputs": [
    {
     "name": "stdout",
     "output_type": "stream",
     "text": [
      "Note: you may need to restart the kernel to use updated packages.Collecting jupyterthemes\n",
      "\n",
      "  Downloading jupyterthemes-0.20.0-py2.py3-none-any.whl (7.0 MB)\n",
      "Requirement already satisfied: matplotlib>=1.4.3 in c:\\users\\carlos.perez-sintica\\anaconda3\\lib\\site-packages (from jupyterthemes) (3.5.1)\n",
      "Collecting lesscpy>=0.11.2\n",
      "  Downloading lesscpy-0.15.1-py2.py3-none-any.whl (46 kB)\n",
      "Requirement already satisfied: jupyter-core in c:\\users\\carlos.perez-sintica\\anaconda3\\lib\\site-packages (from jupyterthemes) (4.9.2)\n",
      "Requirement already satisfied: ipython>=5.4.1 in c:\\users\\carlos.perez-sintica\\anaconda3\\lib\\site-packages (from jupyterthemes) (8.2.0)\n",
      "Requirement already satisfied: notebook>=5.6.0 in c:\\users\\carlos.perez-sintica\\anaconda3\\lib\\site-packages (from jupyterthemes) (6.4.8)\n",
      "Requirement already satisfied: decorator in c:\\users\\carlos.perez-sintica\\anaconda3\\lib\\site-packages (from ipython>=5.4.1->jupyterthemes) (5.1.1)\n",
      "Requirement already satisfied: backcall in c:\\users\\carlos.perez-sintica\\anaconda3\\lib\\site-packages (from ipython>=5.4.1->jupyterthemes) (0.2.0)\n",
      "Requirement already satisfied: prompt-toolkit!=3.0.0,!=3.0.1,<3.1.0,>=2.0.0 in c:\\users\\carlos.perez-sintica\\anaconda3\\lib\\site-packages (from ipython>=5.4.1->jupyterthemes) (3.0.20)\n",
      "Requirement already satisfied: traitlets>=5 in c:\\users\\carlos.perez-sintica\\anaconda3\\lib\\site-packages (from ipython>=5.4.1->jupyterthemes) (5.9.0)\n",
      "Requirement already satisfied: pygments>=2.4.0 in c:\\users\\carlos.perez-sintica\\anaconda3\\lib\\site-packages (from ipython>=5.4.1->jupyterthemes) (2.11.2)\n",
      "Requirement already satisfied: matplotlib-inline in c:\\users\\carlos.perez-sintica\\anaconda3\\lib\\site-packages (from ipython>=5.4.1->jupyterthemes) (0.1.2)\n",
      "Requirement already satisfied: stack-data in c:\\users\\carlos.perez-sintica\\anaconda3\\lib\\site-packages (from ipython>=5.4.1->jupyterthemes) (0.2.0)\n",
      "Requirement already satisfied: jedi>=0.16 in c:\\users\\carlos.perez-sintica\\anaconda3\\lib\\site-packages (from ipython>=5.4.1->jupyterthemes) (0.18.1)\n",
      "Requirement already satisfied: setuptools>=18.5 in c:\\users\\carlos.perez-sintica\\anaconda3\\lib\\site-packages (from ipython>=5.4.1->jupyterthemes) (61.2.0)\n",
      "Requirement already satisfied: colorama in c:\\users\\carlos.perez-sintica\\anaconda3\\lib\\site-packages (from ipython>=5.4.1->jupyterthemes) (0.4.4)\n",
      "Requirement already satisfied: pickleshare in c:\\users\\carlos.perez-sintica\\anaconda3\\lib\\site-packages (from ipython>=5.4.1->jupyterthemes) (0.7.5)\n",
      "Requirement already satisfied: parso<0.9.0,>=0.8.0 in c:\\users\\carlos.perez-sintica\\anaconda3\\lib\\site-packages (from jedi>=0.16->ipython>=5.4.1->jupyterthemes) (0.8.3)\n",
      "Collecting ply\n",
      "  Downloading ply-3.11-py2.py3-none-any.whl (49 kB)\n",
      "Requirement already satisfied: cycler>=0.10 in c:\\users\\carlos.perez-sintica\\anaconda3\\lib\\site-packages (from matplotlib>=1.4.3->jupyterthemes) (0.11.0)\n",
      "Requirement already satisfied: numpy>=1.17 in c:\\users\\carlos.perez-sintica\\anaconda3\\lib\\site-packages (from matplotlib>=1.4.3->jupyterthemes) (1.21.5)\n",
      "Requirement already satisfied: fonttools>=4.22.0 in c:\\users\\carlos.perez-sintica\\anaconda3\\lib\\site-packages (from matplotlib>=1.4.3->jupyterthemes) (4.25.0)\n",
      "Requirement already satisfied: kiwisolver>=1.0.1 in c:\\users\\carlos.perez-sintica\\anaconda3\\lib\\site-packages (from matplotlib>=1.4.3->jupyterthemes) (1.3.2)\n",
      "Requirement already satisfied: pillow>=6.2.0 in c:\\users\\carlos.perez-sintica\\anaconda3\\lib\\site-packages (from matplotlib>=1.4.3->jupyterthemes) (9.0.1)\n",
      "Requirement already satisfied: python-dateutil>=2.7 in c:\\users\\carlos.perez-sintica\\anaconda3\\lib\\site-packages (from matplotlib>=1.4.3->jupyterthemes) (2.8.2)\n",
      "Requirement already satisfied: packaging>=20.0 in c:\\users\\carlos.perez-sintica\\anaconda3\\lib\\site-packages (from matplotlib>=1.4.3->jupyterthemes) (21.3)\n",
      "Requirement already satisfied: pyparsing>=2.2.1 in c:\\users\\carlos.perez-sintica\\anaconda3\\lib\\site-packages (from matplotlib>=1.4.3->jupyterthemes) (3.0.4)\n",
      "Requirement already satisfied: nbconvert in c:\\users\\carlos.perez-sintica\\anaconda3\\lib\\site-packages (from notebook>=5.6.0->jupyterthemes) (6.4.4)\n",
      "Requirement already satisfied: jupyter-client>=5.3.4 in c:\\users\\carlos.perez-sintica\\anaconda3\\lib\\site-packages (from notebook>=5.6.0->jupyterthemes) (6.1.12)\n",
      "Requirement already satisfied: argon2-cffi in c:\\users\\carlos.perez-sintica\\anaconda3\\lib\\site-packages (from notebook>=5.6.0->jupyterthemes) (21.3.0)\n",
      "Requirement already satisfied: jinja2 in c:\\users\\carlos.perez-sintica\\anaconda3\\lib\\site-packages (from notebook>=5.6.0->jupyterthemes) (2.11.3)\n",
      "Requirement already satisfied: nest-asyncio>=1.5 in c:\\users\\carlos.perez-sintica\\anaconda3\\lib\\site-packages (from notebook>=5.6.0->jupyterthemes) (1.5.5)\n",
      "Requirement already satisfied: tornado>=6.1 in c:\\users\\carlos.perez-sintica\\anaconda3\\lib\\site-packages (from notebook>=5.6.0->jupyterthemes) (6.1)\n",
      "Requirement already satisfied: ipython-genutils in c:\\users\\carlos.perez-sintica\\anaconda3\\lib\\site-packages (from notebook>=5.6.0->jupyterthemes) (0.2.0)\n",
      "Requirement already satisfied: pyzmq>=17 in c:\\users\\carlos.perez-sintica\\anaconda3\\lib\\site-packages (from notebook>=5.6.0->jupyterthemes) (22.3.0)\n",
      "Requirement already satisfied: terminado>=0.8.3 in c:\\users\\carlos.perez-sintica\\anaconda3\\lib\\site-packages (from notebook>=5.6.0->jupyterthemes) (0.13.1)\n",
      "Requirement already satisfied: nbformat in c:\\users\\carlos.perez-sintica\\appdata\\roaming\\python\\python39\\site-packages (from notebook>=5.6.0->jupyterthemes) (5.7.0)\n",
      "Requirement already satisfied: Send2Trash>=1.8.0 in c:\\users\\carlos.perez-sintica\\anaconda3\\lib\\site-packages (from notebook>=5.6.0->jupyterthemes) (1.8.0)\n",
      "Requirement already satisfied: ipykernel in c:\\users\\carlos.perez-sintica\\anaconda3\\lib\\site-packages (from notebook>=5.6.0->jupyterthemes) (6.9.1)\n",
      "Requirement already satisfied: prometheus-client in c:\\users\\carlos.perez-sintica\\anaconda3\\lib\\site-packages (from notebook>=5.6.0->jupyterthemes) (0.13.1)\n",
      "Requirement already satisfied: pywin32>=1.0 in c:\\users\\carlos.perez-sintica\\anaconda3\\lib\\site-packages (from jupyter-core->jupyterthemes) (302)\n",
      "Requirement already satisfied: wcwidth in c:\\users\\carlos.perez-sintica\\anaconda3\\lib\\site-packages (from prompt-toolkit!=3.0.0,!=3.0.1,<3.1.0,>=2.0.0->ipython>=5.4.1->jupyterthemes) (0.2.5)\n",
      "Requirement already satisfied: six>=1.5 in c:\\users\\carlos.perez-sintica\\anaconda3\\lib\\site-packages (from python-dateutil>=2.7->matplotlib>=1.4.3->jupyterthemes) (1.16.0)\n",
      "Requirement already satisfied: pywinpty>=1.1.0 in c:\\users\\carlos.perez-sintica\\anaconda3\\lib\\site-packages (from terminado>=0.8.3->notebook>=5.6.0->jupyterthemes) (2.0.2)\n",
      "Requirement already satisfied: argon2-cffi-bindings in c:\\users\\carlos.perez-sintica\\anaconda3\\lib\\site-packages (from argon2-cffi->notebook>=5.6.0->jupyterthemes) (21.2.0)\n",
      "Requirement already satisfied: cffi>=1.0.1 in c:\\users\\carlos.perez-sintica\\anaconda3\\lib\\site-packages (from argon2-cffi-bindings->argon2-cffi->notebook>=5.6.0->jupyterthemes) (1.15.0)\n",
      "Requirement already satisfied: pycparser in c:\\users\\carlos.perez-sintica\\anaconda3\\lib\\site-packages (from cffi>=1.0.1->argon2-cffi-bindings->argon2-cffi->notebook>=5.6.0->jupyterthemes) (2.21)\n",
      "Requirement already satisfied: debugpy<2.0,>=1.0.0 in c:\\users\\carlos.perez-sintica\\anaconda3\\lib\\site-packages (from ipykernel->notebook>=5.6.0->jupyterthemes) (1.5.1)\n",
      "Requirement already satisfied: MarkupSafe>=0.23 in c:\\users\\carlos.perez-sintica\\anaconda3\\lib\\site-packages (from jinja2->notebook>=5.6.0->jupyterthemes) (2.0.1)\n",
      "Requirement already satisfied: mistune<2,>=0.8.1 in c:\\users\\carlos.perez-sintica\\anaconda3\\lib\\site-packages (from nbconvert->notebook>=5.6.0->jupyterthemes) (0.8.4)\n",
      "Requirement already satisfied: jupyterlab-pygments in c:\\users\\carlos.perez-sintica\\anaconda3\\lib\\site-packages (from nbconvert->notebook>=5.6.0->jupyterthemes) (0.1.2)\n",
      "Requirement already satisfied: defusedxml in c:\\users\\carlos.perez-sintica\\anaconda3\\lib\\site-packages (from nbconvert->notebook>=5.6.0->jupyterthemes) (0.7.1)\n",
      "Requirement already satisfied: entrypoints>=0.2.2 in c:\\users\\carlos.perez-sintica\\anaconda3\\lib\\site-packages (from nbconvert->notebook>=5.6.0->jupyterthemes) (0.4)\n",
      "Requirement already satisfied: pandocfilters>=1.4.1 in c:\\users\\carlos.perez-sintica\\anaconda3\\lib\\site-packages (from nbconvert->notebook>=5.6.0->jupyterthemes) (1.5.0)\n",
      "Requirement already satisfied: bleach in c:\\users\\carlos.perez-sintica\\anaconda3\\lib\\site-packages (from nbconvert->notebook>=5.6.0->jupyterthemes) (4.1.0)\n",
      "Requirement already satisfied: beautifulsoup4 in c:\\users\\carlos.perez-sintica\\anaconda3\\lib\\site-packages (from nbconvert->notebook>=5.6.0->jupyterthemes) (4.11.1)\n",
      "Requirement already satisfied: testpath in c:\\users\\carlos.perez-sintica\\anaconda3\\lib\\site-packages (from nbconvert->notebook>=5.6.0->jupyterthemes) (0.5.0)\n",
      "Requirement already satisfied: nbclient<0.6.0,>=0.5.0 in c:\\users\\carlos.perez-sintica\\anaconda3\\lib\\site-packages (from nbconvert->notebook>=5.6.0->jupyterthemes) (0.5.13)\n",
      "Requirement already satisfied: jsonschema>=2.6 in c:\\users\\carlos.perez-sintica\\anaconda3\\lib\\site-packages (from nbformat->notebook>=5.6.0->jupyterthemes) (4.4.0)\n",
      "Requirement already satisfied: fastjsonschema in c:\\users\\carlos.perez-sintica\\anaconda3\\lib\\site-packages (from nbformat->notebook>=5.6.0->jupyterthemes) (2.15.1)\n",
      "Requirement already satisfied: pyrsistent!=0.17.0,!=0.17.1,!=0.17.2,>=0.14.0 in c:\\users\\carlos.perez-sintica\\anaconda3\\lib\\site-packages (from jsonschema>=2.6->nbformat->notebook>=5.6.0->jupyterthemes) (0.18.0)\n",
      "Requirement already satisfied: attrs>=17.4.0 in c:\\users\\carlos.perez-sintica\\anaconda3\\lib\\site-packages (from jsonschema>=2.6->nbformat->notebook>=5.6.0->jupyterthemes) (23.1.0)\n",
      "Requirement already satisfied: soupsieve>1.2 in c:\\users\\carlos.perez-sintica\\anaconda3\\lib\\site-packages (from beautifulsoup4->nbconvert->notebook>=5.6.0->jupyterthemes) (2.3.1)\n",
      "Requirement already satisfied: webencodings in c:\\users\\carlos.perez-sintica\\anaconda3\\lib\\site-packages (from bleach->nbconvert->notebook>=5.6.0->jupyterthemes) (0.5.1)\n",
      "Requirement already satisfied: pure-eval in c:\\users\\carlos.perez-sintica\\anaconda3\\lib\\site-packages (from stack-data->ipython>=5.4.1->jupyterthemes) (0.2.2)\n",
      "Requirement already satisfied: asttokens in c:\\users\\carlos.perez-sintica\\anaconda3\\lib\\site-packages (from stack-data->ipython>=5.4.1->jupyterthemes) (2.0.5)\n",
      "Requirement already satisfied: executing in c:\\users\\carlos.perez-sintica\\anaconda3\\lib\\site-packages (from stack-data->ipython>=5.4.1->jupyterthemes) (0.8.3)\n",
      "Installing collected packages: ply, lesscpy, jupyterthemes\n",
      "Successfully installed jupyterthemes-0.20.0 lesscpy-0.15.1 ply-3.11\n"
     ]
    }
   ],
   "source": [
    "pip install jupyterthemes"
   ]
  },
  {
   "cell_type": "code",
   "execution_count": 112,
   "id": "37adc488",
   "metadata": {},
   "outputs": [],
   "source": [
    "!jt -t monokai"
   ]
  },
  {
   "cell_type": "code",
   "execution_count": 1,
   "id": "91d2056e",
   "metadata": {},
   "outputs": [
    {
     "name": "stdout",
     "output_type": "stream",
     "text": [
      "# conda environments:\n",
      "#\n",
      "base                  *  C:\\Users\\carlos.perez-sintica\\anaconda3\n",
      "Tesis                    C:\\Users\\carlos.perez-sintica\\anaconda3\\envs\\Tesis\n",
      "\n",
      "\n",
      "Note: you may need to restart the kernel to use updated packages.\n"
     ]
    }
   ],
   "source": [
    "#Run in Anaconda Prompt\n",
    "#conda activate Tesis\n",
    "#python -m ipykernel install --user --name=<myenv> \n",
    "conda env list"
   ]
  },
  {
   "cell_type": "code",
   "execution_count": 3,
   "id": "c955a4b3",
   "metadata": {},
   "outputs": [
    {
     "name": "stderr",
     "output_type": "stream",
     "text": [
      "Enabling notebook extension jupyter-js-widgets/extension...\n",
      "      - Validating: ok\n",
      "Enabling notebook extension jupyter-threejs/extension...\n",
      "      - Validating: ok\n"
     ]
    }
   ],
   "source": [
    "#!pip install ipywidgets\n",
    "!jupyter nbextension enable --py widgetsnbextension\n",
    "#!jupyter nbextension install --py pythreejs\n",
    "!jupyter nbextension enable --py pythreejs\n",
    "#!jupyter labextension list"
   ]
  },
  {
   "cell_type": "code",
   "execution_count": 2,
   "id": "dc947df7",
   "metadata": {},
   "outputs": [],
   "source": [
    "from datetime import datetime"
   ]
  },
  {
   "cell_type": "code",
   "execution_count": 3,
   "id": "d31e4623",
   "metadata": {},
   "outputs": [
    {
     "name": "stdout",
     "output_type": "stream",
     "text": [
      "0:00:03.983560\n"
     ]
    }
   ],
   "source": [
    "start = datetime.now()\n",
    "\n",
    "import igl\n",
    "import numpy as np\n",
    "import math\n",
    "import random as rnd\n",
    "import scipy as sp\n",
    "from scipy.spatial import KDTree\n",
    "import meshplot as mp\n",
    "from meshplot import plot, subplot, interact\n",
    "\n",
    "end = datetime.now()\n",
    "print(end - start)"
   ]
  },
  {
   "cell_type": "code",
   "execution_count": 4,
   "id": "0bcc5579",
   "metadata": {},
   "outputs": [
    {
     "name": "stdout",
     "output_type": "stream",
     "text": [
      "0:00:03.340951\n"
     ]
    }
   ],
   "source": [
    "start = datetime.now()\n",
    "v, f = igl.read_triangle_mesh(\"data/30_original.off\") #(\"3dPotteryDs/3D Models/Lagynos/qpvase5.obj\")\n",
    "end = datetime.now()\n",
    "print(end - start)"
   ]
  },
  {
   "cell_type": "code",
   "execution_count": 6,
   "id": "edaa1fea",
   "metadata": {},
   "outputs": [],
   "source": [
    "#from IPython.display import display, HTML\n",
    "#display(HTML(mp.plot(v, f, v[:, 0]).to_html()))\n",
    "\n",
    "#vw = mp.plot(v, f, v[:, 0])\n",
    "#vw.save(\"30_original.html\")"
   ]
  },
  {
   "cell_type": "code",
   "execution_count": 5,
   "id": "569c5d13",
   "metadata": {},
   "outputs": [
    {
     "name": "stdout",
     "output_type": "stream",
     "text": [
      "0:00:01.530063\n"
     ]
    }
   ],
   "source": [
    "start = datetime.now()\n",
    "\n",
    "n_vertex = igl.per_vertex_normals(v, f)\n",
    "k = igl.gaussian_curvature(v, f)\n",
    "kn = k[(~np.isnan(k)) & (k < 2*math.pi)]\n",
    "#v1, v2, k1, k2 = igl.principal_curvature(v, f)\n",
    "#v1_3, v2_3, k1_3, k2_3 = igl.principal_curvature(v, f, 3, True)\n",
    "\n",
    "#Returns list of lists containing at index i the adjacent vertices of vertex i\n",
    "adj_lst = igl.adjacency_list(f) \n",
    "\n",
    "#Returns\n",
    "#VF (size: 3*#F) List of faces indice on each vertex, so that VF(NI(i)+j) = f, means that face f is the jth face \n",
    "# (in no particular order) incident on vertex i.\n",
    "#VFi (size: #V+1) cumulative sum of vertex-triangle degrees with a preceeding zero. \n",
    "# “How many faces” have been seen before visiting this vertex and its incident faces.\n",
    "VF, VFi = igl.vertex_triangle_adjacency(f, len(v))\n",
    "bv = igl.is_border_vertex(v, f)\n",
    "\n",
    "end = datetime.now()\n",
    "print(end - start)"
   ]
  },
  {
   "cell_type": "code",
   "execution_count": 8,
   "id": "16ac8fad",
   "metadata": {},
   "outputs": [
    {
     "data": {
      "text/plain": [
       "(508963, 436707)"
      ]
     },
     "execution_count": 8,
     "metadata": {},
     "output_type": "execute_result"
    }
   ],
   "source": [
    "len(k), len(kn)"
   ]
  },
  {
   "cell_type": "code",
   "execution_count": 34,
   "id": "02838917",
   "metadata": {},
   "outputs": [
    {
     "name": "stdout",
     "output_type": "stream",
     "text": [
      "0.00410996 0.00081111 0.00037342 0.000228 0.00015097 0.00010226 6.781e-05 4.191e-05 2.192e-05 6.38e-06 6.204e-05\n"
     ]
    }
   ],
   "source": [
    "print(round(np.percentile(abs(kn), 95), 8), round(np.percentile(abs(kn), 85), 8), round(np.percentile(abs(kn), 75), 8), \\\n",
    "      round(np.percentile(abs(kn), 65), 8), round(np.percentile(abs(kn), 55), 8), round(np.percentile(abs(kn), 45), 8), \\\n",
    "      round(np.percentile(abs(kn), 35), 8), round(np.percentile(abs(kn), 25), 8), round(np.percentile(abs(kn), 15), 8), \\\n",
    "      round(np.percentile(abs(kn), 5), 8), round(np.percentile(abs(kn), 33), 8))"
   ]
  },
  {
   "cell_type": "code",
   "execution_count": 6,
   "id": "306b8d2d",
   "metadata": {},
   "outputs": [
    {
     "data": {
      "text/plain": [
       "(40107.8031, 508963, 237, 2147, 508839, 508962)"
      ]
     },
     "execution_count": 6,
     "metadata": {},
     "output_type": "execute_result"
    }
   ],
   "source": [
    "#Calculate curvatures for sampled points\n",
    "area_t = 0.5 * sum(igl.doublearea(v, f))\n",
    "v_size = 3 * (v.shape[0]**(1/2)) #min(round(area_t/4), round(v.shape[0] / 100))\n",
    "v_ratio = math.floor(v.shape[0] / v_size)\n",
    "v_size = math.floor(v.shape[0] / v_ratio)\n",
    "round(area_t, 4), v.shape[0], v_ratio, v_size, v_ratio * v_size, len(bv)"
   ]
  },
  {
   "cell_type": "code",
   "execution_count": 7,
   "id": "0dba1cba",
   "metadata": {},
   "outputs": [
    {
     "data": {
      "text/plain": [
       "(array([  4610,   4628,  52905, 797446, 845417, 845418,   4627,   4628,\n",
       "          4630,  52905,  52912,  52914,   4630,   4631,  12158,  52914,\n",
       "         66280,  12157,  12158,  12181], dtype=int32),\n",
       " array([ 0,  0,  6, 12, 17, 24, 30], dtype=int32),\n",
       " 2600082,\n",
       " 2600082,\n",
       " 508964,\n",
       " 508963)"
      ]
     },
     "execution_count": 7,
     "metadata": {},
     "output_type": "execute_result"
    }
   ],
   "source": [
    "VF[0:20], VFi[0:7], len(f) * 3, len(VF), len(VFi), len(v)"
   ]
  },
  {
   "cell_type": "code",
   "execution_count": 11,
   "id": "39d35571",
   "metadata": {},
   "outputs": [
    {
     "data": {
      "text/plain": [
       "array([ 4630,  4631, 12158, 52914, 66280], dtype=int32)"
      ]
     },
     "execution_count": 11,
     "metadata": {},
     "output_type": "execute_result"
    }
   ],
   "source": [
    "#v_indices[len(v_indices) - 5:len(v_indices) - 1]\n",
    "ivx = 3\n",
    "VF[VFi[ivx]:VFi[ivx+1]]"
   ]
  },
  {
   "cell_type": "code",
   "execution_count": 7,
   "id": "03836be0",
   "metadata": {},
   "outputs": [],
   "source": [
    "def calculate_principal(ivx): #curvature with 3-rounds\n",
    "    lfaces, lvertices = [], []\n",
    "    lvertices.append(ivx)\n",
    "    lvx_r1, lvx_r2 = [], []\n",
    "\n",
    "    for fx in VF[VFi[ivx]:VFi[ivx+1]]:\n",
    "        lfaces.append(fx) #1-round faces\n",
    "\n",
    "    for vr1 in adj_lst[ivx]:\n",
    "        if vr1 not in lvertices:\n",
    "            lvertices.append(vr1) #1-round vertices\n",
    "            lvx_r1.append(vr1)\n",
    "            \n",
    "    for vr1 in lvx_r1:\n",
    "        for fx2 in VF[VFi[vr1]:VFi[vr1+1]]:\n",
    "            if fx2 not in lfaces:\n",
    "                lfaces.append(fx2)\n",
    "                                \n",
    "        for vr2 in adj_lst[vr1]:\n",
    "            if vr2 not in lvertices:\n",
    "                lvertices.append(vr2)\n",
    "                lvx_r2.append(vr2)\n",
    "    \n",
    "    for vr2 in lvx_r2:\n",
    "        for fx3 in VF[VFi[vr2]:VFi[vr2+1]]:\n",
    "            if fx3 not in lfaces:\n",
    "                lfaces.append(fx3)\n",
    "\n",
    "        for vr3 in adj_lst[vr2]:\n",
    "            if vr3 not in lvertices:\n",
    "                lvertices.append(vr3)\n",
    "\n",
    "    dtv = {} #vertex dictionary\n",
    "    for ix, vertex in enumerate(lvertices):\n",
    "        dtv[vertex] = ix    \n",
    "    \n",
    "    vc = np.array([v[lvertices[i]] for i in range(len(lvertices))])\n",
    "    fc = np.array([[dtv[f[lfaces[i]][0]], dtv[f[lfaces[i]][1]], dtv[f[lfaces[i]][2]]] for i in range(len(lfaces))], dtype=int)\n",
    "    v1c, v2c, k1c, k2c = igl.principal_curvature(vc, fc)\n",
    "    return v1c[0], v2c[0], k1c[0], k2c[0]"
   ]
  },
  {
   "cell_type": "code",
   "execution_count": 8,
   "id": "45ccd008",
   "metadata": {},
   "outputs": [
    {
     "name": "stdout",
     "output_type": "stream",
     "text": [
      "2 [-0.7208037  -0.09002938  0.68726759] -0.012231431290679138 0.03915901996991442 [-0.72335591 -0.08842486  0.68478994]\n",
      "2717 [ 0.72333969  0.07561711 -0.68633938] -0.0221066244699853 0.028532910812374544 [-0.72464731 -0.07320363  0.68522077]\n",
      "2758 [ 0.7213237   0.07863276 -0.68811991] -0.018898862119275814 0.03771974162346207 [-0.72323175 -0.07933341  0.68603356]\n",
      "31696 [ 0.72383696  0.09138069 -0.68389299] -0.008034118942899808 0.054678282164025635 [-0.72538058 -0.09122433  0.68227643]\n",
      "408030 [-0.72645148 -0.08196634  0.68231208] -0.022570384659111726 0.016212418881501354 [-0.72719531 -0.08096559  0.68163887]\n",
      "448939 [ 0.72801182  0.08945377 -0.67970348] -0.014943681067951579 0.024483940035763187 [-0.72862387 -0.08972695  0.67901129]\n"
     ]
    }
   ],
   "source": [
    "for ix in adj_lst[1]:\n",
    "    v1c, v2c, k1c, k2c = calculate_principal(ix)\n",
    "    print(ix, np.cross(v1c, v2c), k1c, k2c, n_vertex[ix])"
   ]
  },
  {
   "cell_type": "code",
   "execution_count": 8,
   "id": "00b61503",
   "metadata": {},
   "outputs": [
    {
     "name": "stdout",
     "output_type": "stream",
     "text": [
      "0:00:02.790295\n"
     ]
    }
   ],
   "source": [
    "start = datetime.now()\n",
    "v_indices = [] #np.array([0 for i in range(v_size)])\n",
    "v1_p, v2_p, k1_p, k2_p = [], [], [], []\n",
    "k_p = np.percentile(abs(kn), 33)\n",
    "\n",
    "from datetime import datetime\n",
    "start = datetime.now()\n",
    "\n",
    "for i in range(0, v_size):\n",
    "    while True:\n",
    "        index = rnd.randint(v_ratio * i, min(v_ratio * (i + 1) - 1, v.shape[0] - 1))\n",
    "        if len(adj_lst[index]) > 0:\n",
    "            break            \n",
    "    \n",
    "    adj_neighbors = False\n",
    "    \n",
    "    if not bv[index]:\n",
    "        adj_neighbors = True\n",
    "        \n",
    "        for nb in adj_lst[index]:\n",
    "            if len(adj_lst[nb]) == 0:\n",
    "                adj_neighbors = False\n",
    "        \n",
    "    if adj_neighbors and abs(k[index]) > k_p:\n",
    "        v_indices.append(index)        \n",
    "        v1p, v2p, k1p, k2p = calculate_principal(index)\n",
    "        v1_p.append(v1p)\n",
    "        v2_p.append(v2p)\n",
    "        k1_p.append(k1p * np.sign(k2p))\n",
    "        k2_p.append(k2p * np.sign(k2p))\n",
    "\n",
    "end = datetime.now()\n",
    "print(end - start)"
   ]
  },
  {
   "cell_type": "code",
   "execution_count": 18,
   "id": "c8994f94",
   "metadata": {},
   "outputs": [
    {
     "data": {
      "text/plain": [
       "1379"
      ]
     },
     "execution_count": 18,
     "metadata": {},
     "output_type": "execute_result"
    }
   ],
   "source": [
    "len(k1_p)"
   ]
  },
  {
   "cell_type": "code",
   "execution_count": 152,
   "id": "2862c9ba",
   "metadata": {},
   "outputs": [
    {
     "name": "stdout",
     "output_type": "stream",
     "text": [
      "[350, 871, 176, 0]\n"
     ]
    }
   ],
   "source": [
    "ax = [0, 0, 0, 0]\n",
    "for xi in range(0, len(k1_p)):\n",
    "    if k1_p[xi] > 0:\n",
    "        if k2_p[xi] > 0:\n",
    "            ax[0] += 1\n",
    "        else:\n",
    "            ax[3] += 1\n",
    "    else:\n",
    "        if k2_p[xi] > 0:\n",
    "            ax[1] += 1\n",
    "        else:\n",
    "            ax[2] += 1\n",
    "            #print(k1_p[xi], k2_p[xi])\n",
    "\n",
    "print(ax)"
   ]
  },
  {
   "cell_type": "code",
   "execution_count": 40,
   "id": "0cf1abfc",
   "metadata": {},
   "outputs": [
    {
     "data": {
      "text/plain": [
       "(0.026659197142526504, 0.039173466359112064)"
      ]
     },
     "execution_count": 40,
     "metadata": {},
     "output_type": "execute_result"
    }
   ],
   "source": [
    "np.percentile(np.abs(k1_p), 50), np.percentile(np.abs(k2_p), 50)"
   ]
  },
  {
   "cell_type": "code",
   "execution_count": 179,
   "id": "a6cb99c2",
   "metadata": {},
   "outputs": [
    {
     "data": {
      "text/plain": [
       "(0.031080422272298687, 0.043022749878669046)"
      ]
     },
     "execution_count": 179,
     "metadata": {},
     "output_type": "execute_result"
    }
   ],
   "source": [
    "np.percentile(np.abs(k1_p), 66), np.percentile(np.abs(k2_p), 66)"
   ]
  },
  {
   "cell_type": "code",
   "execution_count": 9,
   "id": "29e391a0",
   "metadata": {},
   "outputs": [
    {
     "data": {
      "text/plain": [
       "(1385, 1074)"
      ]
     },
     "execution_count": 9,
     "metadata": {},
     "output_type": "execute_result"
    }
   ],
   "source": [
    "oVertex = []\n",
    "v1_c, v2_c, k1_c, k2_c = [], [], [], []\n",
    "\n",
    "for j in range(0, len(v_indices)):\n",
    "    if (abs(k1_p[j]) > np.percentile(np.abs(k1_p), 50)) or (abs(k2_p[j]) > np.percentile(np.abs(k2_p), 50)):\n",
    "        #print(v_indices[j], k1_c[j], k2_c[j], k_c[v_indices[j]])\n",
    "        oVertex.append(v_indices[j])\n",
    "        v1_c.append(v1_p[j])\n",
    "        v2_c.append(v2_p[j])\n",
    "        k1_c.append(k1_p[j])\n",
    "        k2_c.append(k2_p[j])\n",
    "\n",
    "len(v_indices), len(oVertex)"
   ]
  },
  {
   "cell_type": "code",
   "execution_count": 151,
   "id": "b93276e8",
   "metadata": {},
   "outputs": [
    {
     "name": "stdout",
     "output_type": "stream",
     "text": [
      "[222, 443, 117, 0]\n"
     ]
    }
   ],
   "source": [
    "ax = [0, 0, 0, 0]\n",
    "for xi in range(0, len(k1_c)):\n",
    "    if k1_c[xi] > 0:\n",
    "        if k2_c[xi] > 0:\n",
    "            ax[0] += 1\n",
    "        else:\n",
    "            ax[3] += 1\n",
    "    else:\n",
    "        if k2_c[xi] > 0:\n",
    "            ax[1] += 1\n",
    "        else:\n",
    "            ax[2] += 1\n",
    "            #print(k1_p[xi], k2_p[xi])\n",
    "\n",
    "print(ax)"
   ]
  },
  {
   "cell_type": "code",
   "execution_count": 43,
   "id": "36fe6f57",
   "metadata": {},
   "outputs": [
    {
     "name": "stdout",
     "output_type": "stream",
     "text": [
      "0.11226141 0.02304306 -0.00310667 -0.02068575 -0.04494122 -0.11304049\n",
      "0.42315511 0.08615237 0.04392724 0.02546117 0.01075132 0.0029079\n"
     ]
    }
   ],
   "source": [
    "print(round(np.percentile(k1_p, 95), 8), round(np.percentile(k1_p, 75), 8), round(np.percentile(k1_p, 55), 8), \\\n",
    "      round(np.percentile(k1_p, 35), 8), round(np.percentile(k1_p, 15), 8), round(np.percentile(k1_p, 5), 8))\n",
    "print(round(np.percentile(k2_p, 95), 8), round(np.percentile(k2_p, 75), 8), round(np.percentile(k2_p, 55), 8), \\\n",
    "      round(np.percentile(k2_p, 35), 8), round(np.percentile(k2_p, 15), 8), round(np.percentile(k2_p, 5), 8))"
   ]
  },
  {
   "cell_type": "code",
   "execution_count": 42,
   "id": "fbe02637",
   "metadata": {},
   "outputs": [
    {
     "name": "stdout",
     "output_type": "stream",
     "text": [
      "0.15221468 0.02997905 0.00142241 -0.02804728 -0.05403061 -0.14125293\n",
      "0.4735715 0.13511358 0.05968604 0.03932734 0.01367592 0.00442542\n"
     ]
    }
   ],
   "source": [
    "print(round(np.percentile(k1_c, 95), 8), round(np.percentile(k1_c, 75), 8), round(np.percentile(k1_c, 55), 8), \\\n",
    "      round(np.percentile(k1_c, 35), 8), round(np.percentile(k1_c, 15), 8), round(np.percentile(k1_c, 5), 8))\n",
    "print(round(np.percentile(k2_c, 95), 8), round(np.percentile(k2_c, 75), 8), round(np.percentile(k2_c, 55), 8), \\\n",
    "      round(np.percentile(k2_c, 35), 8), round(np.percentile(k2_c, 15), 8), round(np.percentile(k2_c, 5), 8))"
   ]
  },
  {
   "cell_type": "code",
   "execution_count": 14,
   "id": "b085bd63",
   "metadata": {},
   "outputs": [],
   "source": [
    "TH_RATIO_K = 0.9\n",
    "TH_COSINE = 0.75\n",
    "\n",
    "#distance / bounding_box, angle\n",
    "CLUSTER_EP = [0.125, 0.125] #0.125"
   ]
  },
  {
   "cell_type": "code",
   "execution_count": 15,
   "id": "6679af70",
   "metadata": {},
   "outputs": [
    {
     "data": {
      "text/plain": [
       "(221.52662417560558, 142.7342, 103.81300000000002, 133.88)"
      ]
     },
     "execution_count": 15,
     "metadata": {},
     "output_type": "execute_result"
    }
   ],
   "source": [
    "length_x = np.percentile(v[1:,0], 99.9) - np.percentile(v[1:,0], 0.1)\n",
    "length_y = np.percentile(v[1:,1], 99.9) - np.percentile(v[1:,1], 0.1)\n",
    "length_z = np.percentile(v[1:,2], 99.9) - np.percentile(v[1:,2], 0.1)\n",
    "\n",
    "diagonal_bbox = math.sqrt(length_x * length_x + length_y * length_y + length_z * length_z)\n",
    "diagonal_bbox, length_x, length_y, length_z"
   ]
  },
  {
   "cell_type": "code",
   "execution_count": 137,
   "id": "19c242af",
   "metadata": {},
   "outputs": [
    {
     "data": {
      "text/plain": [
       "(61.2375, -76.184, -155.006, -257.009, 116.127, -12.861053499999999)"
      ]
     },
     "execution_count": 137,
     "metadata": {},
     "output_type": "execute_result"
    }
   ],
   "source": [
    "np.percentile(v[1:,0], 99.5), np.percentile(v[1:,0], 0.5), np.percentile(v[1:,1], 99.5), np.percentile(v[1:,1], 0.5), np.percentile(v[1:,2], 99.5), np.percentile(v[1:,2], 0.5)"
   ]
  },
  {
   "cell_type": "code",
   "execution_count": 138,
   "id": "b5c26576",
   "metadata": {},
   "outputs": [
    {
     "data": {
      "text/plain": [
       "(64.7793, -77.9549, -154.297, -258.11, 118.252, -15.628)"
      ]
     },
     "execution_count": 138,
     "metadata": {},
     "output_type": "execute_result"
    }
   ],
   "source": [
    "np.percentile(v[1:,0], 99.9), np.percentile(v[1:,0], 0.1), np.percentile(v[1:,1], 99.9), np.percentile(v[1:,1], 0.1), np.percentile(v[1:,2], 99.9), np.percentile(v[1:,2], 0.1)"
   ]
  },
  {
   "cell_type": "code",
   "execution_count": 136,
   "id": "8d9ce7e1",
   "metadata": {},
   "outputs": [
    {
     "data": {
      "text/plain": [
       "(66.1753, -78.5671, -0.0, -259.101, 118.817, -16.9141)"
      ]
     },
     "execution_count": 136,
     "metadata": {},
     "output_type": "execute_result"
    }
   ],
   "source": [
    "max(v[0:,0]), min(v[0:,0]), max(v[0:,1]), min(v[0:,1]), max(v[0:,2]), min(v[0:,2])"
   ]
  },
  {
   "cell_type": "code",
   "execution_count": 16,
   "id": "098d1b31",
   "metadata": {},
   "outputs": [],
   "source": [
    "def projectPointPlane(point, plane, planeD):\n",
    "    k = point.dot(plane) + planeD\n",
    "    return point - k * plane\n",
    "\n",
    "def distanceMetricRx(rxVectorA, rxProjA, rxVectorB, rxProjB):\n",
    "    module = np.linalg.norm(rxVectorA) * np.linalg.norm(rxVectorB)\n",
    "    angle = math.acos(min(1.0, abs(np.dot(rxVectorA, rxVectorB)) / module))\n",
    "    \n",
    "    origin = np.array([0, 0, 0])\n",
    "    #projectionA = projectPointPlane(origin, rxPairA[2], rxPairA[3])\n",
    "    #projectionB = projectPointPlane(origin, rxPairB[2], rxPairB[3])\n",
    "    distance = np.linalg.norm(rxProjA - rxProjB)\n",
    "    \n",
    "    return distance / diagonal_bbox, angle"
   ]
  },
  {
   "cell_type": "code",
   "execution_count": 29,
   "id": "aa725087",
   "metadata": {},
   "outputs": [
    {
     "name": "stdout",
     "output_type": "stream",
     "text": [
      "0:00:00.007559\n"
     ]
    }
   ],
   "source": [
    "start = datetime.now()\n",
    "lk1 = np.percentile(k1_c, 99.5) - np.percentile(k1_c, 0.5)\n",
    "lk2 = np.percentile(k2_c, 99.5) - np.percentile(k2_c, 0.5)\n",
    "rd = np.sqrt(lk1*lk1 + lk2*lk2) / 16\n",
    "rd, lk1, lk2, len(k1_c)\n",
    "\n",
    "kl = [[abs(k1_c[i]), abs(k2_c[i])] for i in range(len(k1_c))]\n",
    "tk = KDTree(kl)\n",
    "\n",
    "px = 542\n",
    "idx = tk.query_ball_point([k1_c[px], k2_c[px]], r = rd, return_sorted=True)\n",
    "idl = [i for i in idx if i > px]\n",
    "len(idx), len(idl)\n",
    "\n",
    "#for j in idl:\n",
    "#    print(j)\n",
    "\n",
    "end = datetime.now()\n",
    "print(end - start)"
   ]
  },
  {
   "cell_type": "code",
   "execution_count": 118,
   "id": "8097daea",
   "metadata": {},
   "outputs": [
    {
     "data": {
      "text/plain": [
       "41.0"
      ]
     },
     "execution_count": 118,
     "metadata": {},
     "output_type": "execute_result"
    }
   ],
   "source": [
    "do1 = [3,4,5]\n",
    "do2 = [3,0.5,6]\n",
    "np.dot(do1, do2)"
   ]
  },
  {
   "cell_type": "code",
   "execution_count": null,
   "id": "1f0eb566",
   "metadata": {},
   "outputs": [],
   "source": [
    "#At elliptical points, both principal curvatures have the same sign, and the surface is locally convex.\n",
    "#At hyperbolic points, the principal curvatures have opposite signs, and the surface will be locally saddle shaped."
   ]
  },
  {
   "cell_type": "code",
   "execution_count": 17,
   "id": "aaf01559",
   "metadata": {},
   "outputs": [],
   "source": [
    "# iPoints : indexes list of points Sampled (KdTree)\n",
    "def baseQReflection(iPoints): \n",
    "    sample_size = len(iPoints)\n",
    "    lxPairs = []\n",
    "    \n",
    "    lk1 = np.percentile(k1_c, 99.5) - np.percentile(k1_c, 0.5)\n",
    "    lk2 = np.percentile(k2_c, 99.5) - np.percentile(k2_c, 0.5)\n",
    "    rd = np.sqrt(lk1*lk1 + lk2*lk2) / 16\n",
    "    kl = [[k1_c[i], k2_c[i]] for i in range(len(k1_c))]\n",
    "    tk = KDTree(kl)\n",
    "\n",
    "    for i in range(0, sample_size - 1):\n",
    "        idx = tk.query_ball_point([k1_c[i], k2_c[i]], r = rd, return_sorted=True)\n",
    "        idl = [kx for kx in idx if kx > i]\n",
    "        \n",
    "        for j in idl: #range(i + 1, sample_size):\n",
    "            ratio_1, ratio_2 = k1_c[i] / k1_c[j], k2_c[i] / k2_c[j]\n",
    "            ix, jx = iPoints[i], iPoints[j]\n",
    "            \n",
    "            if TH_RATIO_K < ratio_1 < 1/TH_RATIO_K and TH_RATIO_K < ratio_2 < 1/TH_RATIO_K: #ratio_1 * ratio_2 > 0\n",
    "                reflexNormal = v[ix] - v[jx]\n",
    "                reflexNormal = reflexNormal / np.linalg.norm(reflexNormal)\n",
    "                    \n",
    "                normalBalance = n_vertex[ix] + n_vertex[jx]\n",
    "                normalBalance = normalBalance / np.linalg.norm(normalBalance)\n",
    "                                \n",
    "                if abs(np.dot(normalBalance, reflexNormal)) < 1 - TH_COSINE:\n",
    "                    if reflexNormal[np.argmax(abs(reflexNormal))] < 0: #Correct direction\n",
    "                        reflexNormal = -reflexNormal\n",
    "                    \n",
    "                    middlePoint = (v[ix] + v[jx]) / 2\n",
    "                    reflexNormal_D = - np.dot(reflexNormal, middlePoint)\n",
    "                    origin = np.array([0, 0, 0])\n",
    "                    projection = projectPointPlane(origin, reflexNormal, reflexNormal_D)\n",
    "                    \n",
    "                    #Use projection point instead of D-component\n",
    "                    #xcPair = [ix, jx, reflexNormal.tolist(), projection.tolist(), i, j]\n",
    "                    xcPair = [ix, jx, reflexNormal, projection, i, j]\n",
    "                    lxPairs.append(xcPair)\n",
    "    \n",
    "    return lxPairs"
   ]
  },
  {
   "cell_type": "code",
   "execution_count": 134,
   "id": "73125368",
   "metadata": {},
   "outputs": [],
   "source": [
    "# iPoints : indexes list of points Sampled\n",
    "def baseReflection(iPoints): \n",
    "    sample_size = len(iPoints)\n",
    "    lxPairs = []\n",
    "    \n",
    "    for i in range(0, sample_size - 1):        \n",
    "        for j in range(i + 1, sample_size):\n",
    "            ratio_1, ratio_2 = abs(k1_c[i] / k1_c[j]), abs(k2_c[i] / k2_c[j])\n",
    "            \n",
    "            ix, jx = iPoints[i], iPoints[j]\n",
    "            \n",
    "            if TH_RATIO_K < ratio_1 < 1/TH_RATIO_K and TH_RATIO_K < ratio_2 < 1/TH_RATIO_K:\n",
    "                reflexNormal = v[ix] - v[jx]\n",
    "                reflexNormal = reflexNormal / np.linalg.norm(reflexNormal)\n",
    "                    \n",
    "                normalBalance = n_vertex[ix] + n_vertex[jx]\n",
    "                normalBalance = normalBalance / np.linalg.norm(normalBalance)\n",
    "                                \n",
    "                if abs(np.dot(normalBalance, reflexNormal)) < 1 - TH_COSINE:\n",
    "                    if reflexNormal[np.argmax(abs(reflexNormal))] < 0: #Correct direction\n",
    "                        reflexNormal = -reflexNormal\n",
    "                    \n",
    "                    middlePoint = (v[ix] + v[jx]) / 2\n",
    "                    reflexNormal_D = - np.dot(reflexNormal, middlePoint)\n",
    "                    origin = np.array([0, 0, 0])\n",
    "                    projection = projectPointPlane(origin, reflexNormal, reflexNormal_D)\n",
    "                    \n",
    "                    #Use projection point instead of D-component\n",
    "                    xcPair = [ix, jx, reflexNormal, projection, i, j]\n",
    "                    lxPairs.append(xcPair)\n",
    "    \n",
    "    return lxPairs"
   ]
  },
  {
   "cell_type": "code",
   "execution_count": 18,
   "id": "7fc57c49",
   "metadata": {},
   "outputs": [
    {
     "name": "stdout",
     "output_type": "stream",
     "text": [
      "847\n",
      "0:00:00.585162\n"
     ]
    }
   ],
   "source": [
    "start = datetime.now()\n",
    "\n",
    "lRfxPairs = baseQReflection(oVertex) #v_indices\n",
    "print(len(lRfxPairs))\n",
    "\n",
    "end = datetime.now()\n",
    "print(end - start)"
   ]
  },
  {
   "cell_type": "code",
   "execution_count": 69,
   "id": "0c164258",
   "metadata": {},
   "outputs": [
    {
     "name": "stdout",
     "output_type": "stream",
     "text": [
      "0:00:00.532666\n"
     ]
    }
   ],
   "source": [
    "start = datetime.now()\n",
    "\n",
    "lRfxPairs = baseReflection(oVertex) #v_indices\n",
    "len(lRfxPairs)\n",
    "\n",
    "end = datetime.now()\n",
    "print(end - start)"
   ]
  },
  {
   "cell_type": "code",
   "execution_count": 187,
   "id": "80d1ad6e",
   "metadata": {},
   "outputs": [
    {
     "data": {
      "text/plain": [
       "list"
      ]
     },
     "execution_count": 187,
     "metadata": {},
     "output_type": "execute_result"
    }
   ],
   "source": [
    "type(lRfxPairs[0][3])"
   ]
  },
  {
   "cell_type": "code",
   "execution_count": 183,
   "id": "b20fdd92",
   "metadata": {},
   "outputs": [],
   "source": [
    "def clusterRfx(pairs):\n",
    "    cluster_set = []\n",
    "    cluster_center = []\n",
    "    \n",
    "    for i in range(0, len(pairs)):\n",
    "        found = False\n",
    "        c = 0\n",
    "        \n",
    "        for c in range(0, len(cluster_set)):\n",
    "            distance = distanceMetricRx(pairs[i][2], pairs[i][3], cluster_center[c][0], cluster_center[c][1])\n",
    "            \n",
    "            if distance[0] < CLUSTER_EP[0] and distance[1] < CLUSTER_EP[1]:\n",
    "                cluster_center[c][0] = (cluster_center[c][0] * len(cluster_set) + pairs[i][2]) / (len(cluster_set) + 1)\n",
    "                cluster_center[c][1] = (cluster_center[c][1] * len(cluster_set) + pairs[i][3]) / (len(cluster_set) + 1)\n",
    "                cluster_center[c][0] = cluster_center[c][0] / np.linalg.norm(cluster_center[c][0])\n",
    "                found = True\n",
    "                break\n",
    "        \n",
    "        if not found:\n",
    "            #mode, original points\n",
    "            cluster = [pairs[i], [], []]\n",
    "            cluster_set.append(cluster)\n",
    "            cluster_center.append(pairs[i][2:4])\n",
    "            c = len(cluster_set) - 1\n",
    "        \n",
    "        cluster_set[c][1].append(i)\n",
    "        cluster_set[c][2].append(pairs[i])\n",
    "    \n",
    "    return cluster_set, cluster_center"
   ]
  },
  {
   "cell_type": "code",
   "execution_count": 189,
   "id": "4fa389ad",
   "metadata": {},
   "outputs": [
    {
     "ename": "TypeError",
     "evalue": "unsupported operand type(s) for /: 'list' and 'int'",
     "output_type": "error",
     "traceback": [
      "\u001b[1;31m---------------------------------------------------------------------------\u001b[0m",
      "\u001b[1;31mTypeError\u001b[0m                                 Traceback (most recent call last)",
      "Input \u001b[1;32mIn [189]\u001b[0m, in \u001b[0;36m<cell line: 3>\u001b[1;34m()\u001b[0m\n\u001b[0;32m      1\u001b[0m start \u001b[38;5;241m=\u001b[39m datetime\u001b[38;5;241m.\u001b[39mnow()\n\u001b[1;32m----> 3\u001b[0m s_cluster, c_cluster \u001b[38;5;241m=\u001b[39m \u001b[43mclusterRfx\u001b[49m\u001b[43m(\u001b[49m\u001b[43mlRfxPairs\u001b[49m\u001b[43m)\u001b[49m\n\u001b[0;32m      5\u001b[0m end \u001b[38;5;241m=\u001b[39m datetime\u001b[38;5;241m.\u001b[39mnow()\n\u001b[0;32m      6\u001b[0m \u001b[38;5;28mprint\u001b[39m(end \u001b[38;5;241m-\u001b[39m start)\n",
      "Input \u001b[1;32mIn [183]\u001b[0m, in \u001b[0;36mclusterRfx\u001b[1;34m(pairs)\u001b[0m\n\u001b[0;32m     10\u001b[0m distance \u001b[38;5;241m=\u001b[39m distanceMetricRx(pairs[i][\u001b[38;5;241m2\u001b[39m], pairs[i][\u001b[38;5;241m3\u001b[39m], cluster_center[c][\u001b[38;5;241m0\u001b[39m], cluster_center[c][\u001b[38;5;241m1\u001b[39m])\n\u001b[0;32m     12\u001b[0m \u001b[38;5;28;01mif\u001b[39;00m distance[\u001b[38;5;241m0\u001b[39m] \u001b[38;5;241m<\u001b[39m CLUSTER_EP[\u001b[38;5;241m0\u001b[39m] \u001b[38;5;129;01mand\u001b[39;00m distance[\u001b[38;5;241m1\u001b[39m] \u001b[38;5;241m<\u001b[39m CLUSTER_EP[\u001b[38;5;241m1\u001b[39m]:\n\u001b[1;32m---> 13\u001b[0m     cluster_center[c][\u001b[38;5;241m0\u001b[39m] \u001b[38;5;241m=\u001b[39m \u001b[43m(\u001b[49m\u001b[43mcluster_center\u001b[49m\u001b[43m[\u001b[49m\u001b[43mc\u001b[49m\u001b[43m]\u001b[49m\u001b[43m[\u001b[49m\u001b[38;5;241;43m0\u001b[39;49m\u001b[43m]\u001b[49m\u001b[43m \u001b[49m\u001b[38;5;241;43m*\u001b[39;49m\u001b[43m \u001b[49m\u001b[38;5;28;43mlen\u001b[39;49m\u001b[43m(\u001b[49m\u001b[43mcluster_set\u001b[49m\u001b[43m)\u001b[49m\u001b[43m \u001b[49m\u001b[38;5;241;43m+\u001b[39;49m\u001b[43m \u001b[49m\u001b[43mpairs\u001b[49m\u001b[43m[\u001b[49m\u001b[43mi\u001b[49m\u001b[43m]\u001b[49m\u001b[43m[\u001b[49m\u001b[38;5;241;43m2\u001b[39;49m\u001b[43m]\u001b[49m\u001b[43m)\u001b[49m\u001b[43m \u001b[49m\u001b[38;5;241;43m/\u001b[39;49m\u001b[43m \u001b[49m\u001b[43m(\u001b[49m\u001b[38;5;28;43mlen\u001b[39;49m\u001b[43m(\u001b[49m\u001b[43mcluster_set\u001b[49m\u001b[43m)\u001b[49m\u001b[43m \u001b[49m\u001b[38;5;241;43m+\u001b[39;49m\u001b[43m \u001b[49m\u001b[38;5;241;43m1\u001b[39;49m\u001b[43m)\u001b[49m\n\u001b[0;32m     14\u001b[0m     cluster_center[c][\u001b[38;5;241m1\u001b[39m] \u001b[38;5;241m=\u001b[39m (cluster_center[c][\u001b[38;5;241m1\u001b[39m] \u001b[38;5;241m*\u001b[39m \u001b[38;5;28mlen\u001b[39m(cluster_set) \u001b[38;5;241m+\u001b[39m pairs[i][\u001b[38;5;241m3\u001b[39m]) \u001b[38;5;241m/\u001b[39m (\u001b[38;5;28mlen\u001b[39m(cluster_set) \u001b[38;5;241m+\u001b[39m \u001b[38;5;241m1\u001b[39m)\n\u001b[0;32m     15\u001b[0m     cluster_center[c][\u001b[38;5;241m0\u001b[39m] \u001b[38;5;241m=\u001b[39m cluster_center[c][\u001b[38;5;241m0\u001b[39m] \u001b[38;5;241m/\u001b[39m np\u001b[38;5;241m.\u001b[39mlinalg\u001b[38;5;241m.\u001b[39mnorm(cluster_center[c][\u001b[38;5;241m0\u001b[39m])\n",
      "\u001b[1;31mTypeError\u001b[0m: unsupported operand type(s) for /: 'list' and 'int'"
     ]
    }
   ],
   "source": [
    "start = datetime.now()\n",
    "\n",
    "s_cluster, c_cluster = clusterRfx(lRfxPairs)\n",
    "\n",
    "end = datetime.now()\n",
    "print(end - start)"
   ]
  },
  {
   "cell_type": "code",
   "execution_count": 134,
   "id": "e928513d",
   "metadata": {},
   "outputs": [
    {
     "name": "stdout",
     "output_type": "stream",
     "text": [
      "3 33 [array([ 0.99438395, -0.03327343, -0.10046613]), array([-7.55271902,  0.25272417,  0.76307797])]\n",
      "14 28 [array([ 0.92054967, -0.05505866, -0.3867258 ]), array([-9.07531652,  0.54280042,  3.81256884])]\n",
      "15 15 [array([ 0.94071783,  0.28505625, -0.18382842]), array([-75.12549572, -22.76452263,  14.68049248])]\n",
      "18 20 [array([0.97595426, 0.21549125, 0.03281468]), array([-51.93851928, -11.46805428,  -1.74633813])]\n",
      "21 20 [array([0.90560524, 0.2027628 , 0.37251361]), array([-31.76962356,  -7.1131409 , -13.0681855 ])]\n",
      "23 14 [array([-0.18012687,  0.98034978, -0.0804277 ]), array([  40.69728567, -221.49708036,   18.17157715])]\n",
      "30 24 [array([-0.57172194, -0.02144893,  0.82016704]), array([-27.14935554,  -1.01854519,  38.94726603])]\n",
      "36 14 [array([ 0.0229093 , -0.08038989,  0.99650019]), array([ 1.55419028, -5.4537315 , 67.60358092])]\n",
      "41 15 [array([0.6057859 , 0.04541085, 0.79433073]), array([14.84966454,  1.11315883, 19.47147483])]\n",
      "43 14 [array([0.70695531, 0.01643355, 0.70706727]), array([18.61264261,  0.43266066, 18.61559023])]\n",
      "46 19 [array([0.10067198, 0.03355922, 0.99435352]), array([ 4.07858725,  1.35960585, 40.28486809])]\n",
      "54 17 [array([-0.48410379,  0.16960718,  0.85841536]), array([-3.31663839,  1.16199398,  5.88108049])]\n",
      "55 15 [array([0.35030797, 0.05996034, 0.93471337]), array([11.00343737,  1.88339939, 29.36005127])]\n",
      "59 16 [array([ 0.81502469, -0.36425377, -0.45061507]), array([ 47.5219133 , -21.23866435, -26.27416151])]\n",
      "68 14 [array([0.52624645, 0.53120511, 0.66399233]), array([-42.68794414, -43.09017999, -53.86158443])]\n",
      "69 27 [array([ 0.9275589 , -0.05456555,  0.36967159]), array([23.17662978, -1.36341268,  9.23687069])]\n",
      "74 17 [array([ 0.43940755, -0.04559923,  0.89712971]), array([22.60272098, -2.34558242, 46.14752804])]\n",
      "90 17 [array([ 0.77338009, -0.10190381,  0.62569869]), array([37.69866166, -4.96733403, 30.49988403])]\n",
      "103 15 [array([ 0.28899802, -0.14663707,  0.94603262]), array([18.53740539, -9.405846  , 60.68204302])]\n",
      "104 19 [array([0.14400764, 0.39845183, 0.90581341]), array([ -4.51371603, -12.48890997, -28.39144242])]\n",
      "110 20 [array([ 0.76500973,  0.01747846, -0.64378149]), array([-28.87238224,  -0.65965812,  24.29708354])]\n",
      "137 19 [array([ 0.97372008, -0.12571302, -0.18990904]), array([ 8.85371218, -1.14306656, -1.72677964])]\n",
      "139 17 [array([-0.64235502,  0.2293353 ,  0.7312902 ]), array([ 3.31647029, -1.18405504, -3.77564143])]\n",
      "155 15 [array([-0.31211903,  0.0052581 ,  0.95002845]), array([-14.61051088,   0.24613549,  44.47149864])]\n",
      "161 13 [array([-0.43620174, -0.10878769,  0.89324872]), array([-25.86645786,  -6.45103388,  52.96902326])]\n",
      "167 17 [array([ 0.88599012,  0.10322615, -0.45206843]), array([-40.98213561,  -4.77480279,  20.91076326])]\n",
      "192 16 [array([ 0.09805522,  0.97567536, -0.19606825]), array([ -20.13254925, -200.3241963 ,   40.25643865])]\n"
     ]
    }
   ],
   "source": [
    "for x in range(0, len(s_cluster)):\n",
    "    if len(s_cluster[x][1]) > 12:\n",
    "        print(x, len(s_cluster[x][1]), c_cluster[x])"
   ]
  },
  {
   "cell_type": "code",
   "execution_count": 19,
   "id": "711c0ba5",
   "metadata": {},
   "outputs": [],
   "source": [
    "def correctDirection(nVector):\n",
    "    nVector = nVector * np.sign(nVector[np.argmax(abs(nVector))])\n",
    "    return nVector\n",
    "\n",
    "def normalized(X):\n",
    "    return X / np.linalg.norm(X)\n",
    "\n",
    "def projectPointLine(point, line, pointLine):\n",
    "    ap = point - pointLine\n",
    "    ab = line\n",
    "    return pointLine + np.dot(ap, ab)/np.dot(ab, ab) * ab\n",
    "\n",
    "def distancePointLine(point, line, pointLine):\n",
    "    return np.linalg.norm(point - projectPointLine(point, line, pointLine))\n",
    "\n",
    "def planesIntersection(pairM, pairN):\n",
    "    U = normalized(np.cross(pairM[2], pairN[2]))\n",
    "    M = np.array((pairM[2], pairN[2], U))\n",
    "    X = np.array((np.dot(pairM[2], pairM[3]), np.dot(pairN[2], pairN[3]), 0.))\n",
    "    \n",
    "    origin = np.array([0, 0, 0])\n",
    "    return correctDirection(U), projectPointLine(origin, U, np.linalg.solve(M, X))\n",
    "\n",
    "def reflectPointLine(point, line, pointLine):\n",
    "    projection = projectPointLine(point, line, pointLine)\n",
    "    return 2 * projection - point\n",
    "\n",
    "def reflectPointPlane(point, line, pointLine):\n",
    "    projection = projectPointPlane(point, line, pointLine)\n",
    "    return 2 * projection - point"
   ]
  },
  {
   "cell_type": "code",
   "execution_count": 117,
   "id": "bcce429d",
   "metadata": {},
   "outputs": [
    {
     "data": {
      "text/plain": [
       "(list,\n",
       " list,\n",
       " [array([ 0.06808038, -0.63529001,  0.76926697]),\n",
       "  array([  9.81896544, -91.62537492, 110.94834358])],\n",
       " numpy.ndarray)"
      ]
     },
     "execution_count": 117,
     "metadata": {},
     "output_type": "execute_result"
    }
   ],
   "source": [
    "type(lRfxPairs[0]), type(lRfxPairs[0]), lRfxPairs[0][2:4], type(lRfxPairs[0][2])"
   ]
  },
  {
   "cell_type": "code",
   "execution_count": 65,
   "id": "0120bd66",
   "metadata": {},
   "outputs": [
    {
     "data": {
      "text/plain": [
       "(array([ -41.1933, -206.716 ,   84.6047]),\n",
       " array([ -41.1203, -206.716 ,   84.6832]),\n",
       " -206.716,\n",
       " array([  -0.   , -206.716, -206.716, ..., -160.777, -160.763, -160.673]),\n",
       " array([  63.7168, -159.61  ,   40.1134]),\n",
       " array([  39.608 , -254.176 ,   24.3943]))"
      ]
     },
     "execution_count": 65,
     "metadata": {},
     "output_type": "execute_result"
    }
   ],
   "source": [
    "v[1], v[2], v[1,1], v[0:,1], v[2252], v[170243]"
   ]
  },
  {
   "cell_type": "code",
   "execution_count": null,
   "id": "d723c56d",
   "metadata": {},
   "outputs": [],
   "source": [
    "px = 542\n",
    "idx = tk.query_ball_point([k1_c[px], k2_c[px]], r = rd, return_sorted=True)\n",
    "\n",
    "idl = [i for i in idx if i > px]\n",
    "len(idx), len(idl)\n",
    "\n",
    "#for j in idl:\n",
    "#    print(j)"
   ]
  },
  {
   "cell_type": "code",
   "execution_count": 49,
   "id": "388345f6",
   "metadata": {},
   "outputs": [
    {
     "name": "stdout",
     "output_type": "stream",
     "text": [
      "The common elements are: [2, 3, 5]\n"
     ]
    }
   ],
   "source": [
    "a = [1, 2, 3, 4, 5]\n",
    "b = [5, 2, 6, 3, 9]\n",
    "result = [i for i in a if i in b]\n",
    "#result = (set(a) & set(b))\n",
    "print(\"The common elements are:\", result)"
   ]
  },
  {
   "cell_type": "code",
   "execution_count": 105,
   "id": "f2aa90bc",
   "metadata": {},
   "outputs": [
    {
     "data": {
      "text/plain": [
       "(6, 3, numpy.ndarray)"
      ]
     },
     "execution_count": 105,
     "metadata": {},
     "output_type": "execute_result"
    }
   ],
   "source": [
    "#array = [[0.9, 0.6, 0.7], [0.9, 0.65, 0.8], [0.85, 0.55, 0.45], [0.7, 0.75, 0.85], [0.65, 0.5, 0.5], [0.87, 0.85, 0.9]]\n",
    "array = np.array([[0.65, 0.6, 0.7], [0.9, 0.65, 0.8], [0.85, 0.55, 0.45], [0.7, 0.75, 0.85], [0.65, 0.5, 0.5], \\\n",
    "                  [0.87, 0.85, 0.9]])\n",
    "kdt_p = KDTree(array)\n",
    "len(array), len(array[0]), type(array)"
   ]
  },
  {
   "cell_type": "code",
   "execution_count": 108,
   "id": "e9efb1ca",
   "metadata": {},
   "outputs": [
    {
     "data": {
      "text/plain": [
       "list"
      ]
     },
     "execution_count": 108,
     "metadata": {},
     "output_type": "execute_result"
    }
   ],
   "source": [
    "idx = kdt_p.query_ball_point([0.86, 0.7, 0.65], r = 0.3, return_sorted=True)\n",
    "type(idx)"
   ]
  },
  {
   "cell_type": "code",
   "execution_count": 138,
   "id": "7aab47c6",
   "metadata": {},
   "outputs": [
    {
     "data": {
      "text/plain": [
       "list"
      ]
     },
     "execution_count": 138,
     "metadata": {},
     "output_type": "execute_result"
    }
   ],
   "source": [
    "type(np.array(lRfxPairs, dtype=object)[0:,2][0])"
   ]
  },
  {
   "cell_type": "code",
   "execution_count": 137,
   "id": "9693e63f",
   "metadata": {},
   "outputs": [
    {
     "data": {
      "text/plain": [
       "(list, [0.06808038332175165, -0.635290009188027, 0.7692669664249466])"
      ]
     },
     "execution_count": 137,
     "metadata": {},
     "output_type": "execute_result"
    }
   ],
   "source": [
    "type(lRfxPairs[0][2]), lRfxPairs[0][2]"
   ]
  },
  {
   "cell_type": "code",
   "execution_count": 14,
   "id": "3b396a0c",
   "metadata": {},
   "outputs": [],
   "source": [
    "def BaseContinuousRotation(pairs):\n",
    "    lrPairs = []\n",
    "    for m in range(0, len(pairs) - 1):\n",
    "        for n in range(m+1, len(pairs)):\n",
    "            rpM = pairs[m]\n",
    "            rpN = pairs[n]\n",
    "            ratio_k1 = (abs(k1_c[rpM[4]]) + abs(k1_c[rpM[5]])) / (abs(k1_c[rpN[4]]) + abs(k1_c[rpN[5]]))\n",
    "            ratio_k2 = (abs(k2_c[rpM[4]]) + abs(k2_c[rpM[5]])) / (abs(k2_c[rpN[4]]) + abs(k2_c[rpN[5]]))\n",
    "            not_parallel = abs(np.dot(rpM[2], rpN[2])) < TH_RATIO_K\n",
    "            \n",
    "            if TH_RATIO_K < ratio_k1 < 1 / TH_RATIO_K and TH_RATIO_K < ratio_k2 < 1 / TH_RATIO_K and not_parallel:\n",
    "                #print(m, rpM[2], n, rpN[2])\n",
    "                line = planesIntersection(rpM, rpN)\n",
    "                \n",
    "                p1_i = (v[rpM[0]] + v[rpM[1]]) / 2\n",
    "                p2_i = (v[rpN[0]] + v[rpN[1]]) / 2\n",
    "                distance_1i = distancePointLine(p1_i, line[0], line[1])\n",
    "                projection_1i = projectPointLine(p1_i, line[0], line[1])\n",
    "                \n",
    "                distance_2i = distancePointLine(p2_i, line[0], line[1])\n",
    "                projection_2i = projectPointLine(p2_i, line[0], line[1])\n",
    "                \n",
    "                if np.linalg.norm(projection_1i - projection_2i) < CLUSTER_EP[0] and distance_1i - distance_2i < CLUSTER_EP[0]:\n",
    "                    #line[0], line[1]\n",
    "                    rtPair = [rpM[0:2], rpN[0:2], line[0], line[1], rpM[4:6], rpN[4:6]]\n",
    "                    lrPairs.append(rtPair)\n",
    "    return lrPairs"
   ]
  },
  {
   "cell_type": "code",
   "execution_count": 198,
   "id": "a7a112ca",
   "metadata": {},
   "outputs": [
    {
     "data": {
      "text/plain": [
       "(480, -0.05282461443192877)"
      ]
     },
     "execution_count": 198,
     "metadata": {},
     "output_type": "execute_result"
    }
   ],
   "source": [
    "lRfxPairs[0][5], k1_c[480]"
   ]
  },
  {
   "cell_type": "code",
   "execution_count": 62,
   "id": "100218f8",
   "metadata": {},
   "outputs": [],
   "source": [
    "avg_k = []\n",
    "#Average curvatures\n",
    "for i in range(0, len(lRfxPairs)):\n",
    "    avg_k.append([(k1_c[lRfxPairs[i][4]] + k1_c[lRfxPairs[i][5]])/2, (k2_c[lRfxPairs[i][4]] + k2_c[lRfxPairs[i][5]])/2])\n",
    "\n",
    "kt_rt = KDTree(avg_k)"
   ]
  },
  {
   "cell_type": "code",
   "execution_count": 34,
   "id": "c94f442d",
   "metadata": {},
   "outputs": [
    {
     "data": {
      "text/plain": [
       "(809, 809)"
      ]
     },
     "execution_count": 34,
     "metadata": {},
     "output_type": "execute_result"
    }
   ],
   "source": [
    "len(avg_k), len(lRfxPairs)"
   ]
  },
  {
   "cell_type": "code",
   "execution_count": 37,
   "id": "17887776",
   "metadata": {},
   "outputs": [
    {
     "name": "stdout",
     "output_type": "stream",
     "text": [
      "0:00:00.010992\n"
     ]
    }
   ],
   "source": [
    "start = datetime.now()\n",
    "lk1 = np.percentile(k1_c, 99.5) - np.percentile(k1_c, 0.5)\n",
    "lk2 = np.percentile(k2_c, 99.5) - np.percentile(k2_c, 0.5)\n",
    "rd = np.sqrt(lk1*lk1 + lk2*lk2) / 16\n",
    "rd, lk1, lk2, len(k1_c)\n",
    "\n",
    "kl = [[abs(k1_c[i]), abs(k2_c[i])] for i in range(len(k1_c))]\n",
    "tk = KDTree(kl)\n",
    "\n",
    "px = 542\n",
    "idx = tk.query_ball_point([k1_c[px], k2_c[px]], r = rd, return_sorted=True)\n",
    "idl = [i for i in idx if i > px]\n",
    "len(idx), len(idl)\n",
    "\n",
    "#for j in idl:\n",
    "#    print(j)\n",
    "\n",
    "end = datetime.now()\n",
    "print(end - start)"
   ]
  },
  {
   "cell_type": "code",
   "execution_count": 63,
   "id": "c0450be3",
   "metadata": {},
   "outputs": [
    {
     "data": {
      "text/plain": [
       "(-0.031825351568282964, 0.03619138519449931)"
      ]
     },
     "execution_count": 63,
     "metadata": {},
     "output_type": "execute_result"
    }
   ],
   "source": [
    "pair = lRfxPairs[3]\n",
    "(k1_c[pair[4]] + k1_c[pair[5]])/2, (k2_c[pair[4]] + k2_c[pair[5]])/2"
   ]
  },
  {
   "cell_type": "code",
   "execution_count": 65,
   "id": "f6330585",
   "metadata": {},
   "outputs": [
    {
     "name": "stdout",
     "output_type": "stream",
     "text": [
      "-0.21267643599298658 -0.13880676198768732 0.15492941839204905 0.5705301110315024\n",
      "0.002221487979315027 0.004055737713663086 0.5238807345144089 0.7206563610411727\n"
     ]
    }
   ],
   "source": [
    "lk0 = [row[0] for row in avg_k]\n",
    "lk1 = [row[1] for row in avg_k]\n",
    "print(min(lk0), np.percentile(lk0, 0.5), np.percentile(lk0, 99.5), max(lk0))\n",
    "print(min(lk1), np.percentile(lk1, 0.5), np.percentile(lk1, 99.5), max(lk1))"
   ]
  },
  {
   "cell_type": "code",
   "execution_count": 90,
   "id": "5c070eee",
   "metadata": {},
   "outputs": [
    {
     "data": {
      "text/plain": [
       "410"
      ]
     },
     "execution_count": 90,
     "metadata": {},
     "output_type": "execute_result"
    }
   ],
   "source": [
    "avg_k = []\n",
    "#Average curvatures\n",
    "for i in range(0, len(lRfxPairs)):\n",
    "    avg_k.append([(k1_c[lRfxPairs[i][4]] + k1_c[lRfxPairs[i][5]])/2, (k2_c[lRfxPairs[i][4]] + k2_c[lRfxPairs[i][5]])/2])\n",
    "\n",
    "lk0, lk1 = [row[0] for row in avg_k], [row[1] for row in avg_k]\n",
    "#th0 = np.percentile(lk0, 99.5) - np.percentile(lk0, 0.5)\n",
    "#th1 = np.percentile(lk1, 99.5) - np.percentile(lk1, 0.5)\n",
    "th0, th1 = max(lk0) - min(lk0), max(lk1) - min(lk1)\n",
    "rd = round(np.sqrt(th0**2 + th1**2) / 16, 3)\n",
    "\n",
    "kt_rt = KDTree(avg_k)\n",
    "z = 158\n",
    "idx = tk.query_ball_point([(k1_c[lRfxPairs[z][4]] + k1_c[lRfxPairs[z][5]])/2, \n",
    "                           (k2_c[lRfxPairs[z][4]] + k2_c[lRfxPairs[z][5]])/2], r = rd, return_sorted=True)\n",
    "idl = [kx for kx in idx if kx > z]\n",
    "\n",
    "len(idl) #print(rd, len(idx))"
   ]
  },
  {
   "cell_type": "code",
   "execution_count": null,
   "id": "535897f0",
   "metadata": {},
   "outputs": [],
   "source": [
    "[[row[0], row[1]] for row in avg_k]"
   ]
  },
  {
   "cell_type": "code",
   "execution_count": 109,
   "id": "51230398",
   "metadata": {},
   "outputs": [
    {
     "data": {
      "text/plain": [
       "0.038"
      ]
     },
     "execution_count": 109,
     "metadata": {},
     "output_type": "execute_result"
    }
   ],
   "source": [
    "avg_k = []\n",
    "for pair in lRfxPairs:\n",
    "    avg_k.append([(k1_c[pair[4]] + k1_c[pair[5]])/2, (k2_c[pair[4]] + k2_c[pair[5]])/2])\n",
    "kt_rt = KDTree(avg_k)\n",
    "\n",
    "lk0, lk1 = [row[0] for row in avg_k], [row[1] for row in avg_k]\n",
    "th0 = np.percentile(lk0, 99.5) - np.percentile(lk0, 0.5)\n",
    "th1 = np.percentile(lk1, 99.5) - np.percentile(lk1, 0.5)\n",
    "#th0, th1 = max(lk0) - min(lk0), max(lk1) - min(lk1)\n",
    "rd = round(np.sqrt(th0**2 + th1**2) / 16, 3)\n",
    "rd"
   ]
  },
  {
   "cell_type": "code",
   "execution_count": 20,
   "id": "faac976c",
   "metadata": {},
   "outputs": [],
   "source": [
    "def BaseContinuousQRotation(pairs):\n",
    "    lrPairs = []    \n",
    "    avg_k = []\n",
    "    #Average curvatures\n",
    "    for pair in pairs:\n",
    "        avg_k.append([(k1_c[pair[4]] + k1_c[pair[5]])/2, (k2_c[pair[4]] + k2_c[pair[5]])/2])\n",
    "    kt_rt = KDTree(avg_k)\n",
    "    \n",
    "    lk0, lk1 = [row[0] for row in avg_k], [row[1] for row in avg_k]\n",
    "    th0 = np.percentile(lk0, 99.5) - np.percentile(lk0, 0.5)\n",
    "    th1 = np.percentile(lk1, 99.5) - np.percentile(lk1, 0.5)\n",
    "    #th0, th1 = max(lk0) - min(lk0), max(lk1) - min(lk1)\n",
    "    rd = round(np.sqrt(th0**2 + th1**2) / 16, 3)\n",
    "    \n",
    "    for m in range(0, len(pairs) - 1):\n",
    "        rpM = pairs[m]\n",
    "        idx = kt_rt.query_ball_point([(k1_c[rpM[4]] + k1_c[rpM[5]])/2, \n",
    "                           (k2_c[rpM[4]] + k2_c[rpM[5]])/2], r = rd, return_sorted=True)\n",
    "        idl = [kx for kx in idx if kx > m]\n",
    "                \n",
    "        for n in idl: #range(m + 1, len(pairs)):\n",
    "            rpN = pairs[n]\n",
    "            ratio_k1 = (k1_c[rpM[4]] + k1_c[rpM[5]]) / (k1_c[rpN[4]] + k1_c[rpN[5]])\n",
    "            ratio_k2 = (k2_c[rpM[4]] + k2_c[rpM[5]]) / (k2_c[rpN[4]] + k2_c[rpN[5]])\n",
    "            nparallel = abs(np.dot(rpM[2], rpN[2])) < TH_RATIO_K\n",
    "            \n",
    "            if TH_RATIO_K < ratio_k1 < 1/TH_RATIO_K and TH_RATIO_K < ratio_k2 < 1/TH_RATIO_K and nparallel:\n",
    "                #print(m, rpM[2], n, rpN[2])\n",
    "                line = planesIntersection(rpM, rpN)\n",
    "                \n",
    "                p1_i = (v[rpM[0]] + v[rpM[1]]) / 2\n",
    "                p2_i = (v[rpN[0]] + v[rpN[1]]) / 2\n",
    "                dist_1i = distancePointLine(p1_i, line[0], line[1]) #distance\n",
    "                proj_1i = projectPointLine(p1_i, line[0], line[1]) #projection\n",
    "                \n",
    "                dist_2i = distancePointLine(p2_i, line[0], line[1]) #distance\n",
    "                proj_2i = projectPointLine(p2_i, line[0], line[1]) #projection\n",
    "                \n",
    "                if np.linalg.norm(proj_1i - proj_2i) < CLUSTER_EP[0] and dist_1i - dist_2i < CLUSTER_EP[0]:\n",
    "                    #line[0], line[1]\n",
    "                    rtPair = [rpM[0:2], rpN[0:2], line[0], line[1], rpM[4:6], rpN[4:6], m, n]\n",
    "                    lrPairs.append(rtPair)\n",
    "    return lrPairs"
   ]
  },
  {
   "cell_type": "code",
   "execution_count": 3,
   "id": "a1679e3b",
   "metadata": {},
   "outputs": [
    {
     "ename": "NameError",
     "evalue": "name 'datetime' is not defined",
     "output_type": "error",
     "traceback": [
      "\u001b[1;31m---------------------------------------------------------------------------\u001b[0m",
      "\u001b[1;31mNameError\u001b[0m                                 Traceback (most recent call last)",
      "Input \u001b[1;32mIn [3]\u001b[0m, in \u001b[0;36m<cell line: 1>\u001b[1;34m()\u001b[0m\n\u001b[1;32m----> 1\u001b[0m start \u001b[38;5;241m=\u001b[39m \u001b[43mdatetime\u001b[49m\u001b[38;5;241m.\u001b[39mnow()\n\u001b[0;32m      3\u001b[0m lcrPairs \u001b[38;5;241m=\u001b[39m BaseContinuousRotation(lRfxPairs)\n\u001b[0;32m      5\u001b[0m end \u001b[38;5;241m=\u001b[39m datetime\u001b[38;5;241m.\u001b[39mnow()\n",
      "\u001b[1;31mNameError\u001b[0m: name 'datetime' is not defined"
     ]
    }
   ],
   "source": [
    "start = datetime.now()\n",
    "\n",
    "lcrPairs = BaseContinuousRotation(lRfxPairs)\n",
    "\n",
    "end = datetime.now()\n",
    "print(end - start)"
   ]
  },
  {
   "cell_type": "code",
   "execution_count": 21,
   "id": "59b2e3d6",
   "metadata": {},
   "outputs": [
    {
     "name": "stdout",
     "output_type": "stream",
     "text": [
      "0:00:02.516460\n"
     ]
    }
   ],
   "source": [
    "start = datetime.now()\n",
    "\n",
    "lcrPairs = BaseContinuousQRotation(lRfxPairs)\n",
    "\n",
    "end = datetime.now()\n",
    "print(end - start)"
   ]
  },
  {
   "cell_type": "code",
   "execution_count": 26,
   "id": "5c1d2181",
   "metadata": {},
   "outputs": [
    {
     "data": {
      "text/plain": [
       "1243"
      ]
     },
     "execution_count": 26,
     "metadata": {},
     "output_type": "execute_result"
    }
   ],
   "source": [
    "len(lcrPairs)"
   ]
  },
  {
   "cell_type": "code",
   "execution_count": 25,
   "id": "a7105b9f",
   "metadata": {},
   "outputs": [],
   "source": [
    "def distanceRt(rtLineA, rtLineB):    \n",
    "    distLine = math.sqrt(2 * (1 - abs(np.dot(rtLineA[0], rtLineB[0]))))\n",
    "    #module = np.linalg.norm(rtLineA) * np.linalg.norm(rtLineB)\n",
    "    #angle = math.acos(min(1.0, abs(np.dot(rtLineA, rtLineB)) / module))\n",
    "    \n",
    "    distProj = np.linalg.norm(rtLineA[1] - rtLineB[1])\n",
    "    return distProj / diagonal_bbox, distLine"
   ]
  },
  {
   "cell_type": "code",
   "execution_count": 23,
   "id": "001623bc",
   "metadata": {},
   "outputs": [],
   "source": [
    "#distances_line / #distance_projections\n",
    "CLUSTER_RT = [0.075, 0.015]"
   ]
  },
  {
   "cell_type": "code",
   "execution_count": 90,
   "id": "b4784aa4",
   "metadata": {},
   "outputs": [
    {
     "name": "stdout",
     "output_type": "stream",
     "text": [
      "1\n"
     ]
    }
   ],
   "source": [
    "asigned[2] = False\n",
    "if not asigned[2]:\n",
    "    print(1)"
   ]
  },
  {
   "cell_type": "code",
   "execution_count": 32,
   "id": "bfc841e8",
   "metadata": {},
   "outputs": [
    {
     "name": "stdout",
     "output_type": "stream",
     "text": [
      "23 21\n",
      "0 [ 0.56090113  0.81147841 -0.16398996] 0.0\n",
      "135 [ 0.54454479  0.82312121 -0.16106656] 0.020288688019259194\n",
      "151 [ 0.46366792  0.85667874 -0.22608315] 0.12390695001001738\n",
      "155 [ 0.46366792  0.85667874 -0.22608315] 0.12390695001001738\n",
      "230 [ 0.58892042  0.8066679  -0.04959472] 0.1178749000297977\n",
      "237 [ 0.51499692  0.84232729 -0.15894308] 0.055536663917786375\n",
      "240 [ 0.51499692  0.84232729 -0.15894308] 0.05553666391778637\n",
      "302 [ 0.44249596  0.86060729 -0.25209606] 0.15555100717729803\n",
      "458 [ 0.651308    0.74258245 -0.15610636] 0.11393948658655799\n",
      "478 [ 0.48987979  0.8176127  -0.30253474] 0.1558085855440575\n",
      "726 [ 0.51178022  0.80102478 -0.31054839] 0.15492422341192777\n",
      "728 [ 0.51178022  0.80102478 -0.31054839] 0.1549242234119277\n",
      "729 [ 0.51178022  0.80102478 -0.31054839] 0.15492422341192766\n",
      "821 [ 0.66939345  0.73190258 -0.12740102] 0.13943330003621646\n",
      "846 [ 0.5771079   0.7738428  -0.26098619] 0.105296564484808\n",
      "917 [ 0.61273367  0.74926707 -0.25130919] 0.11908615083409754\n",
      "955 [ 0.59144061  0.7964537  -0.12593456] 0.051055020979257376\n",
      "956 [ 0.5335155   0.82176178 -0.20017189] 0.04652797597159291\n",
      "957 [ 0.52280095  0.82540615 -0.21303486] 0.06364752558987335\n",
      "971 [ 0.66809888  0.71360272 -0.21074878] 0.1525037589922207\n",
      "1052 [ 0.54491778  0.82894683 -0.12614188] 0.044644040271174704\n",
      "1101 [ 0.52384746  0.85153109 -0.02187791] 0.15222689405034115\n",
      "1241 [ 0.51426237  0.8343835  -0.19833907] 0.062287061602441636\n",
      "0 [ 72.8987662  -44.66555488  28.317995  ] 0.0\n",
      "111 [ 75.01911942 -23.94962143  32.45446794] 21.231019873138518\n",
      "135 [ 68.35772636 -40.31724517  25.06953712] 7.0768155884298976\n",
      "151 [ 54.77747036 -24.38527623  19.94048537] 28.457929173968424\n",
      "155 [ 54.77747036 -24.38527623  19.94048537] 28.457929173968427\n",
      "168 [ 72.18012023 -51.68539011  52.64633722] 25.33106340726198\n",
      "230 [ 61.53229844 -42.32064394  42.32147803] 18.187708310354026\n",
      "237 [ 57.70600752 -30.02753391  27.84270226] 21.102546710475718\n",
      "240 [ 57.70600752 -30.02753391  27.84270226] 21.102546710475718\n",
      "398 [ 79.6952314  -38.54821595  42.93663729] 17.242925427046078\n",
      "456 [ 61.27589937 -27.06323637  40.58397081] 24.400549432168567\n",
      "478 [ 85.56649343 -47.65623231   9.76071396] 22.666895342926743\n",
      "567 [ 66.04194827 -30.99373972  50.62353023] 27.045727641227963\n",
      "821 [ 79.52362299 -68.68732316  23.23499977] 25.431691237922497\n",
      "835 [ 97.51941153 -58.54455243  26.65857531] 28.311771814626194\n",
      "917 [ 91.65061176 -65.99589236  26.69566906] 28.44726612922903\n",
      "967 [ 69.77233144 -34.77523298  37.57216061] 13.900814465987114\n",
      "1012 [ 73.70752863 -23.29008308  26.49782229] 21.46806745368832\n",
      "1052 [ 91.09282716 -57.49486312  15.68009237] 25.59944505476643\n",
      "1101 [ 83.56399353 -50.18008462  47.75976819] 22.85037541763577\n",
      "1241 [ 71.08421232 -40.08621087  15.67347624] 13.570071932473189\n",
      "0\n",
      "135\n",
      "151\n",
      "155\n",
      "230\n",
      "237\n",
      "240\n",
      "478\n",
      "821\n",
      "917\n",
      "1052\n",
      "1101\n",
      "1241\n"
     ]
    }
   ],
   "source": [
    "l_vdir, l_vprj = [], []\n",
    "for pair in lcrPairs:\n",
    "    l_vdir.append(pair[2])\n",
    "    l_vprj.append(pair[3])\n",
    "\n",
    "kt_vdir = KDTree(l_vdir)\n",
    "kt_vprj = KDTree(l_vprj)\n",
    "\n",
    "iq_d = kt_vdir.query_ball_point(l_vdir[0], r = 0.16, return_sorted=True)\n",
    "iq_p = kt_vprj.query_ball_point(l_vprj[0], r = 30, return_sorted=True)\n",
    "\n",
    "print(len(iq_d), len(iq_p))\n",
    "\n",
    "for ix in iq_d:\n",
    "    print(ix, l_vdir[ix], np.linalg.norm(l_vdir[0] - l_vdir[ix]))\n",
    "    \n",
    "for ix in iq_p:\n",
    "    print(ix, l_vprj[ix], np.linalg.norm(l_vprj[0] - l_vprj[ix]))\n",
    "    \n",
    "for el in iq_d:\n",
    "    if el in iq_p:\n",
    "        print(el)"
   ]
  },
  {
   "cell_type": "code",
   "execution_count": 159,
   "id": "14b612ea",
   "metadata": {},
   "outputs": [
    {
     "data": {
      "text/plain": [
       "(27.443, 14.287)"
      ]
     },
     "execution_count": 159,
     "metadata": {},
     "output_type": "execute_result"
    }
   ],
   "source": [
    "round(diagonal_pbox / 15, 3), round(diagonal_bbox / 15, 3)"
   ]
  },
  {
   "cell_type": "code",
   "execution_count": null,
   "id": "90c67372",
   "metadata": {},
   "outputs": [],
   "source": [
    "lcrPairs[0]"
   ]
  },
  {
   "cell_type": "code",
   "execution_count": 27,
   "id": "c003f5ed",
   "metadata": {},
   "outputs": [
    {
     "ename": "SyntaxError",
     "evalue": "invalid syntax (3849737132.py, line 38)",
     "output_type": "error",
     "traceback": [
      "\u001b[1;36m  Input \u001b[1;32mIn [27]\u001b[1;36m\u001b[0m\n\u001b[1;33m    iq_p = kt_vprj\u001b[0m\n\u001b[1;37m    ^\u001b[0m\n\u001b[1;31mSyntaxError\u001b[0m\u001b[1;31m:\u001b[0m invalid syntax\n"
     ]
    }
   ],
   "source": [
    "def clusterQRtt(pairs):\n",
    "    cluster_set = []\n",
    "    cluster_center = []\n",
    "    asigned = [False for i in range(len(lcrPairs))]\n",
    "    \n",
    "    l_vdir, l_vprj = [], []\n",
    "    for pair in pairs:\n",
    "        l_vdir.append(pair[2])\n",
    "        l_vprj.append(pair[3])\n",
    "        \n",
    "    len_xp = max(np.array(l_vprj)[:,0]) - min(np.array(l_vprj)[:,0])\n",
    "    len_yp = max(np.array(l_vprj)[:,1]) - min(np.array(l_vprj)[:,1])\n",
    "    len_zp = max(np.array(l_vprj)[:,2]) - min(np.array(l_vprj)[:,2])\n",
    "    diagonal_pbox = math.sqrt(len_xp * len_xp + len_yp * len_yp + len_zp * len_zp)\n",
    "    rkd = round(diagonal_pbox / 16, 3)\n",
    "    \n",
    "    kt_vdir = KDTree(l_vdir)\n",
    "    kt_vprj = KDTree(l_vprj)\n",
    "\n",
    "    for i in range(0, len(pairs)):\n",
    "        if not asigned[i]:        \n",
    "            found = False\n",
    "            c = 0\n",
    "\n",
    "            for c in range(0, len(cluster_set)):\n",
    "                distance = distanceRt(pairs[i][2:4], cluster_center[c][0:2])\n",
    "                if distance[0] < CLUSTER_RT[0] and distance[1] < CLUSTER_RT[1]: #append\n",
    "                    lcsc = len(cluster_set[c])\n",
    "                    center = (cluster_center[c][0] * lcsc + pairs[i][2]) / (lcsc + 1)\n",
    "\n",
    "                    cluster_center[c][0] = center / np.linalg.norm(center)          \n",
    "                    cluster_center[c][1] = (cluster_center[c][1] * lcsc + pairs[i][3]) / (lcsc + 1)\n",
    "                    found = True\n",
    "                    break\n",
    "\n",
    "            if not found:\n",
    "                #Get points from query on K-d tree\n",
    "                iq_d = kt_vdir.query_ball_point(pairs[i][2]\n",
    "                iq_p = kt_vprj\n",
    "                idx = kt_rt.query_ball_point([(k1_c[rpM[4]] + k1_c[rpM[5]])/2, \n",
    "                    (k2_c[rpM[4]] + k2_c[rpM[5]])/2], r = rd, return_sorted=True)\n",
    "                idl = [kx for kx in idx if kx > m]\n",
    "        \n",
    "                #mode, original points\n",
    "                cluster = [] #[pairs[i], [], []]\n",
    "                cluster_set.append(cluster)\n",
    "                cluster_center.append(pairs[i][2:4])\n",
    "                c = len(cluster_set) - 1\n",
    "\n",
    "            cluster_set[c].append(i)\n",
    "            asigned[i] = True\n",
    "            #cluster_set[c][1].append(i])\n",
    "            #cluster_set[c][2].append(pairs[i])\n",
    "    \n",
    "    return cluster_set, cluster_center"
   ]
  },
  {
   "cell_type": "code",
   "execution_count": 81,
   "id": "3af605be",
   "metadata": {},
   "outputs": [
    {
     "name": "stdout",
     "output_type": "stream",
     "text": [
      "0:00:02.043721\n"
     ]
    }
   ],
   "source": [
    "start = datetime.now()\n",
    "\n",
    "s_RttCluster, c_RttCluster = clusterQRtt(lcrPairs)\n",
    "\n",
    "end = datetime.now()\n",
    "print(end - start)"
   ]
  },
  {
   "cell_type": "code",
   "execution_count": 82,
   "id": "ac994c26",
   "metadata": {
    "scrolled": true
   },
   "outputs": [
    {
     "name": "stdout",
     "output_type": "stream",
     "text": [
      "7 8 [array([ 0.81403202,  0.57915858, -0.04389993]), array([  82.58847988, -113.15387949,   39.98012416])]\n",
      "11 10 [array([ 0.05856411,  0.97950138, -0.19273634]), array([ 3.43615315,  1.66972087, 10.73470421])]\n",
      "13 10 [array([-0.53605014,  0.8361962 , -0.11587132]), array([-102.1655167 ,  -61.33664092,   32.00983859])]\n",
      "15 8 [array([0.04097265, 0.97324316, 0.2260951 ]), array([  0.24834633, -19.29300044,  81.82262321])]\n",
      "21 11 [array([ 0.01549046,  0.99986741, -0.00502064]), array([-3.70191163, -0.26636557, 47.64345711])]\n",
      "26 9 [array([ 0.16681996,  0.98267942, -0.08069857]), array([26.42553602, -2.05786763, 32.82949208])]\n",
      "27 8 [array([-0.66502321,  0.74680977, -0.0043917 ]), array([-116.02673616, -103.1852514 ,   47.45936966])]\n",
      "58 9 [array([ 0.08121478,  0.99209316, -0.09568349]), array([ 6.98845345,  2.01572897, 31.83446165])]\n",
      "62 8 [array([-0.19369663,  0.87598287, -0.44174159]), array([-42.01216509, -26.30832925, -33.14368696])]\n",
      "64 8 [array([-0.37358851,  0.90241817, -0.21464641]), array([-71.96339505, -27.73763118,   9.55456443])]\n",
      "147 9 [array([-0.31134762,  0.9495944 ,  0.03651213]), array([-60.04964936, -22.02348483,  53.94200752])]\n"
     ]
    }
   ],
   "source": [
    "for x in range(0, len(s_RttCluster)):\n",
    "    if len(s_RttCluster[x]) > 0.01 * len(lcrPairs):\n",
    "        print(x, len(s_RttCluster[x]), c_RttCluster[x])"
   ]
  },
  {
   "cell_type": "code",
   "execution_count": 72,
   "id": "e2c3a124",
   "metadata": {},
   "outputs": [
    {
     "data": {
      "text/plain": [
       "(array([ -53.1623 , -159.61   ,    8.37543]),\n",
       " array([ -51.219 , -225.841 ,   68.3125]),\n",
       " array([-3.61618e+01, -1.77062e+02, -4.41060e-02]),\n",
       " array([ -1.9433 ,  66.231  , -59.93707]),\n",
       " array([-17.0005  ,  17.452   ,   8.419536]))"
      ]
     },
     "execution_count": 72,
     "metadata": {},
     "output_type": "execute_result"
    }
   ],
   "source": [
    "v[443], v[13348], v[376849], v[443]-v[13348], v[443]-v[376849]"
   ]
  },
  {
   "cell_type": "code",
   "execution_count": 76,
   "id": "828fbd6e",
   "metadata": {},
   "outputs": [
    {
     "name": "stdout",
     "output_type": "stream",
     "text": [
      "[[443, 393429], [13348, 253700], array([0.91379906, 0.28645299, 0.28795132]), array([  39.17267918, -178.54336005,   53.30179362]), [1, 607], [26, 401]]\n",
      "[[35955, 191044], [440895, 489132], array([ 0.55189047,  0.70873723, -0.43944108]), array([102.18564044, -82.70400781,  -5.05216378]), [53, 297], [678, 750]]\n",
      "[[65983, 197988], [195382, 315883], array([ 0.71695285,  0.45600731, -0.52729114]), array([  79.69462907, -139.19576595,  -12.01801871]), [104, 309], [305, 491]]\n",
      "[[88043, 150041], [88337, 453895], array([-0.21017624,  0.86086264, -0.46340206]), array([-30.02339113, -16.44980816, -16.94170663]), [133, 224], [134, 697]]\n",
      "[[88043, 200032], [88337, 453895], array([-0.21068409,  0.85609857, -0.4719189 ]), array([-29.89614069, -15.90900325, -15.51332996]), [133, 313], [134, 697]]\n",
      "[[88043, 274070], [88337, 238157], array([ 0.09760098,  0.99240015, -0.07493988]), array([ 5.75297012,  2.40754558, 39.37481617]), [133, 430], [134, 380]]\n"
     ]
    }
   ],
   "source": [
    "for lrPair in lcrPairs:\n",
    "    if (lrPair[0][0] != lrPair[1][0]) and (lrPair[0][1] != lrPair[1][0]) and (lrPair[0][0] != lrPair[1][1]) and (lrPair[0][1] != lrPair[1][1]):\n",
    "        print(lrPair)"
   ]
  },
  {
   "cell_type": "code",
   "execution_count": null,
   "id": "38d14b67",
   "metadata": {},
   "outputs": [],
   "source": [
    "ctc = 0\n",
    "for pair in lcrPairs:\n",
    "    if pair[2][1] > 0.98:\n",
    "        ctc = ctc + 1\n",
    "        #print(pair[3])\n",
    "\n",
    "print(ctc)"
   ]
  },
  {
   "cell_type": "code",
   "execution_count": 177,
   "id": "7f941082",
   "metadata": {},
   "outputs": [
    {
     "data": {
      "text/plain": [
       "422"
      ]
     },
     "execution_count": 177,
     "metadata": {},
     "output_type": "execute_result"
    }
   ],
   "source": [
    "len(lcrPairs)"
   ]
  },
  {
   "cell_type": "code",
   "execution_count": 127,
   "id": "487c9bd1",
   "metadata": {},
   "outputs": [
    {
     "data": {
      "text/plain": [
       "(326.35352314012175, [0.1, 0.1])"
      ]
     },
     "execution_count": 127,
     "metadata": {},
     "output_type": "execute_result"
    }
   ],
   "source": [
    "diagonal_bbox, CLUSTER_EP"
   ]
  },
  {
   "cell_type": "code",
   "execution_count": 158,
   "id": "71e92fe9",
   "metadata": {},
   "outputs": [
    {
     "data": {
      "text/plain": [
       "([781, 3309], [781, 464242])"
      ]
     },
     "execution_count": 158,
     "metadata": {},
     "output_type": "execute_result"
    }
   ],
   "source": [
    "lcrPairs[0][0], lcrPairs[0][1]"
   ]
  },
  {
   "cell_type": "code",
   "execution_count": 182,
   "id": "2ecd04cd",
   "metadata": {},
   "outputs": [],
   "source": [
    "kdt_vl = KDTree([row[2] for row in lRfxPairs])\n",
    "kdt_pl = KDTree([row[3] for row in lRfxPairs])\n",
    "\n",
    "idx = tk.query_ball_point([k1_c[px], k2_c[px]], r = rd, return_sorted=True)"
   ]
  },
  {
   "cell_type": "code",
   "execution_count": 56,
   "id": "e11d94d9",
   "metadata": {},
   "outputs": [],
   "source": [
    "def clusterRtt(pairs):\n",
    "    cluster_set = []\n",
    "    cluster_center = []\n",
    "    \n",
    "    for i in range(0, len(pairs)):\n",
    "        found = False\n",
    "        c = 0\n",
    "        \n",
    "        for c in range(0, len(cluster_set)):\n",
    "            distance = distanceMetricRt(pairs[i][2], pairs[i][3], cluster_center[c][0], cluster_center[c][1])\n",
    "            if distance[0] < CLUSTER_EP[0] and distance[1] < CLUSTER_EP[1]:                \n",
    "                center = (cluster_center[c][0] * len(cluster_set[c]) + pairs[i][2]) / (len(cluster_set[c]) + 1)\n",
    "                cluster_center[c][0] = center / np.linalg.norm(center)\n",
    "                \n",
    "                cluster_center[c][1] = (cluster_center[c][1] * len(cluster_set) + pairs[i][3]) / (len(cluster_set) + 1)\n",
    "                found = True\n",
    "                break\n",
    "        \n",
    "        if not found:\n",
    "            #mode, original points\n",
    "            cluster = [] #[pairs[i], [], []]\n",
    "            cluster_set.append(cluster)\n",
    "            cluster_center.append(pairs[i][2:4])\n",
    "            c = len(cluster_set) - 1\n",
    "        \n",
    "        cluster_set[c].append(i)\n",
    "        #cluster_set[c][1].append(i])\n",
    "        #cluster_set[c][2].append(pairs[i])\n",
    "    \n",
    "    return cluster_set, cluster_center"
   ]
  },
  {
   "cell_type": "code",
   "execution_count": 59,
   "id": "da71e38d",
   "metadata": {},
   "outputs": [
    {
     "name": "stdout",
     "output_type": "stream",
     "text": [
      "0:00:05.349558\n"
     ]
    }
   ],
   "source": [
    "start = datetime.now()\n",
    "\n",
    "s_RttCluster, c_RttCluster = clusterRtt(lcrPairs)\n",
    "\n",
    "end = datetime.now()\n",
    "print(end - start)"
   ]
  },
  {
   "cell_type": "code",
   "execution_count": 60,
   "id": "9a6e4949",
   "metadata": {},
   "outputs": [
    {
     "name": "stdout",
     "output_type": "stream",
     "text": [
      "0 15 [array([0.6828746 , 0.71732545, 0.1382985 ]), array([ 94.99109232, -97.99878138,  56.78738213])]\n",
      "18 62 [array([-0.03339379,  0.99936719, -0.01225038]), array([-21.24870367,  -2.6765247 ,  51.12680402])]\n",
      "19 26 [array([-0.14540842,  0.97020914, -0.19377979]), array([-30.35437962,  -2.0448317 ,  10.13724122])]\n",
      "23 13 [array([-0.29166591,  0.91592732, -0.27569575]), array([-58.4407703 , -14.41657977,   2.55820169])]\n",
      "43 31 [array([0.09994987, 0.99354013, 0.05374034]), array([ 4.86850711, -1.28399314, 49.09602566])]\n",
      "45 12 [array([ 0.94327256, -0.29232105,  0.15743338]), array([ -71.74157204, -199.57386784,   37.74565742])]\n",
      "47 14 [array([0.15991476, 0.97345183, 0.16376446]), array([  9.72384337, -16.29145746,  71.3211235 ])]\n",
      "51 18 [array([0.25614628, 0.96427114, 0.06760361]), array([ 32.70125963, -16.71781042,  58.2808813 ])]\n",
      "82 24 [array([ 0.10279721,  0.9547977 , -0.27891589]), array([12.88569988, -3.40939138, -6.81250698])]\n",
      "86 13 [array([ 0.64069584,  0.76277007, -0.08769644]), array([100.07698087, -98.70605843,  30.21745932])]\n",
      "94 16 [array([ 0.16120318,  0.97943561, -0.12132361]), array([20.03719401,  0.17188584, 18.35937476])]\n",
      "114 13 [array([0.93137469, 0.27195827, 0.24203282]), array([  35.42990993, -183.00937797,   63.04366622])]\n"
     ]
    }
   ],
   "source": [
    "for x in range(0, len(s_RttCluster)):\n",
    "    if len(s_RttCluster[x]) > 0.01 * len(lcrPairs):\n",
    "        print(x, len(s_RttCluster[x]), c_RttCluster[x])"
   ]
  },
  {
   "cell_type": "code",
   "execution_count": 176,
   "id": "5b9be5b2",
   "metadata": {},
   "outputs": [
    {
     "name": "stdout",
     "output_type": "stream",
     "text": [
      "5 5 [array([-0.33741863,  0.91819369,  0.20753077]), array([-69.41973239, -43.89623493,  88.08157905])]\n",
      "6 23 [array([-0.12011475,  0.99275655,  0.00262334]), array([-32.86425526,  -4.47872747,  47.58350219])]\n",
      "10 7 [array([-0.16273117,  0.97218529,  0.16844682]), array([-33.6257338 , -19.81740845,  84.32759415])]\n",
      "12 12 [array([0.05522142, 0.9576756 , 0.28250318]), array([  1.428726  , -24.89042664,  96.96224476])]\n",
      "13 7 [array([0.29385907, 0.95026843, 0.10313466]), array([ 52.95850191, -25.0075749 ,  74.648106  ])]\n",
      "17 5 [array([0.09773538, 0.82775049, 0.5525187 ]), array([  9.26282206, -86.62782739, 131.77332451])]\n",
      "26 6 [array([0.17105544, 0.31744894, 0.93271979]), array([   2.93452079, -199.89365142,   70.10579612])]\n",
      "33 7 [array([0.47702814, 0.84741231, 0.23310198]), array([ 72.03328132, -68.64251576,  78.50638451])]\n",
      "34 6 [array([-0.06241623,  0.76132959, -0.64535376]), array([ -5.22308024, -51.74889733, -58.53539616])]\n",
      "35 9 [array([ 0.07397857,  0.87894543, -0.47114976]), array([  7.59247891, -26.92670139, -52.65494824])]\n",
      "48 8 [array([-0.16295844,  0.92571155, -0.34132487]), array([-38.00266361, -10.03120632,  -8.78788894])]\n",
      "50 7 [array([ 0.04584629,  0.99807693, -0.04172004]), array([-3.60332099,  0.47767683, 45.57104498])]\n",
      "57 7 [array([ 0.23671895,  0.94857945, -0.21014558]), array([27.78764307, -4.73414559,  6.8222644 ])]\n",
      "58 5 [array([ 0.01948023,  0.95931788, -0.28165533]), array([  1.36720762,  -3.90551187, -10.53707447])]\n",
      "61 7 [array([ 0.37742996,  0.89228337, -0.24774385]), array([ 70.39122171, -28.82045079,   2.73948066])]\n",
      "63 7 [array([-0.05629631,  0.97715453, -0.20493842]), array([-12.2848436 ,  -1.0669865 ,  -2.33482773])]\n",
      "71 6 [array([0.33733744, 0.31054854, 0.88868614]), array([   5.86309621, -190.37512559,   75.70766476])]\n",
      "85 7 [array([ 0.85014056,  0.51739212, -0.09780814]), array([  76.6442373 , -112.06933249,   39.94215898])]\n",
      "104 5 [array([ 0.7646335 , -0.50483786, -0.40059249]), array([ -58.88626139, -152.10333343,   70.88593026])]\n",
      "108 5 [array([-0.53975372,  0.71363914,  0.44652558]), array([-34.34309605, -79.14877453,  74.80675547])]\n",
      "124 5 [array([ 0.96919224, -0.21119189,  0.12674536]), array([ -55.6730912 , -191.83528118,   52.07454009])]\n",
      "134 7 [array([0.02769036, 0.9850844 , 0.16982926]), array([ 10.12778997, -13.14381798,  70.97298181])]\n"
     ]
    }
   ],
   "source": [
    "for x in range(0, len(s_RttCluster)):\n",
    "    if len(s_RttCluster[x]) > 0.01 * len(lcrPairs):\n",
    "        print(x, len(s_RttCluster[x]), c_RttCluster[x])"
   ]
  },
  {
   "cell_type": "code",
   "execution_count": 70,
   "id": "fc62fce7",
   "metadata": {},
   "outputs": [
    {
     "name": "stdout",
     "output_type": "stream",
     "text": [
      "16 16 [array([-0.22799141,  0.81021875,  0.53996805]), array([-41.50319362, -89.39281161, 122.51649813])]\n",
      "60 16 [array([-0.22046714,  0.96717381, -0.12636879]), array([-55.47404443, -11.70282231,  20.02116897])]\n",
      "83 16 [array([-0.01922603,  0.97914556,  0.20224818]), array([-11.23198475, -15.32387706,  81.68518719])]\n",
      "109 15 [array([ 0.27423143,  0.93668741, -0.21774717]), array([ 50.45747676, -11.04694309,   5.52891717])]\n",
      "114 19 [array([ 0.23782674,  0.968687  , -0.07130171]), array([40.15069565, -8.03367639, 31.20022319])]\n",
      "119 38 [array([0.00737507, 0.99976846, 0.02021479]), array([-1.6134617 , -0.15385534, 47.48430304])]\n",
      "150 14 [array([ 0.03139691,  0.97773633, -0.20747507]), array([-9.9680664 ,  0.47337826,  2.91674295])]\n"
     ]
    }
   ],
   "source": [
    "for x in range(0, len(s_RttCluster)):\n",
    "    if len(s_RttCluster[x]) > 0.01 * len(lcrPairs):\n",
    "        print(x, len(s_RttCluster[x]), c_RttCluster[x])"
   ]
  },
  {
   "cell_type": "code",
   "execution_count": 73,
   "id": "0865dd78",
   "metadata": {},
   "outputs": [
    {
     "data": {
      "text/plain": [
       "(119,\n",
       " 38,\n",
       " array([0.00737507, 0.99976846, 0.02021479]),\n",
       " array([-1.6134617 , -0.15385534, 47.48430304]))"
      ]
     },
     "execution_count": 73,
     "metadata": {},
     "output_type": "execute_result"
    }
   ],
   "source": [
    "ixc = 0\n",
    "size = 0\n",
    "for cl in range(0, len(s_RttCluster)):\n",
    "    if len(s_RttCluster[cl]) > size:\n",
    "        ixc = cl\n",
    "        size = len(s_RttCluster[cl])\n",
    "\n",
    "ixc, size, c_RttCluster[ixc][0], c_RttCluster[ixc][1]"
   ]
  },
  {
   "cell_type": "code",
   "execution_count": 74,
   "id": "386a00b9",
   "metadata": {},
   "outputs": [
    {
     "name": "stdout",
     "output_type": "stream",
     "text": [
      "[22478, 200032] [22478, 384440]\n",
      "[22478, 236269] [22478, 384440]\n",
      "[23120, 244238] [23120, 336717]\n",
      "[23120, 244238] [244238, 274070]\n",
      "[23120, 244238] [244238, 336717]\n",
      "[23120, 336717] [23120, 507115]\n",
      "[26271, 131252] [131252, 415971]\n",
      "[35955, 236269] [35955, 489132]\n",
      "[37162, 243087] [37162, 422292]\n",
      "[37162, 243087] [37162, 489132]\n",
      "[37162, 243087] [243087, 418667]\n",
      "[37162, 243087] [243087, 422292]\n",
      "[37576, 418667] [329977, 418667]\n",
      "[41419, 270760] [82519, 270760]\n",
      "[46020, 243087] [46020, 422292]\n",
      "[46020, 243087] [243087, 418667]\n",
      "[46020, 243087] [243087, 422292]\n",
      "[46020, 422292] [243087, 422292]\n",
      "[47594, 329977] [329977, 418667]\n",
      "[47594, 418667] [243087, 418667]\n",
      "[47594, 418667] [329977, 418667]\n",
      "[65983, 392093] [315883, 392093]\n",
      "[83172, 154768] [154768, 205062]\n",
      "[83172, 205062] [154768, 205062]\n",
      "[83761, 182801] [182801, 385792]\n",
      "[88043, 274070] [244238, 274070]\n",
      "[132112, 323334] [132112, 507115]\n",
      "[132112, 423803] [132112, 507115]\n",
      "[134379, 469211] [263378, 469211]\n",
      "[150041, 385157] [385157, 492259]\n",
      "[176168, 486327] [378315, 486327]\n",
      "[190534, 392093] [315883, 392093]\n",
      "[200032, 384440] [200032, 492259]\n",
      "[200032, 384440] [384440, 492259]\n",
      "[200032, 492259] [489401, 492259]\n",
      "[204510, 335389] [290352, 335389]\n",
      "[243087, 418667] [329977, 418667]\n",
      "[244238, 274070] [274070, 453895]\n"
     ]
    }
   ],
   "source": [
    "for ix in s_RttCluster[ixc]:\n",
    "    print(lcrPairs[ix][0], lcrPairs[ix][1])\n",
    "    \n",
    "    #reflectPointLine()"
   ]
  },
  {
   "cell_type": "code",
   "execution_count": 75,
   "id": "ed124c95",
   "metadata": {},
   "outputs": [
    {
     "data": {
      "text/plain": [
       "(array([ -36.5159, -178.027 ,   95.7057]),\n",
       " array([  47.4219, -180.507 ,   67.2499]),\n",
       " array([ -61.3085, -177.321 ,   31.1237]),\n",
       " 88.66474622125753,\n",
       " 69.18096685331884)"
      ]
     },
     "execution_count": 75,
     "metadata": {},
     "output_type": "execute_result"
    }
   ],
   "source": [
    "v[22478], v[200032],  v[384440], np.linalg.norm(v[22478] - v[200032]), np.linalg.norm(v[22478] - v[384440])"
   ]
  },
  {
   "cell_type": "code",
   "execution_count": 19,
   "id": "9e26f0ea",
   "metadata": {},
   "outputs": [
    {
     "name": "stdout",
     "output_type": "stream",
     "text": [
      "[ 0.97048185 -0.02651424 -0.23971227]\n",
      "7977 191823 [ 0.97048185 -0.02651424 -0.23971227] [-9.857313    0.26930869  2.43478932]\n"
     ]
    }
   ],
   "source": [
    "ix = 7977\n",
    "jx = 191823\n",
    "\n",
    "reflexNormal = v[ix] - v[jx]\n",
    "reflexNormal = reflexNormal / np.linalg.norm(reflexNormal)\n",
    "\n",
    "normalBalance = n_vertex[ix] + n_vertex[jx]\n",
    "normalBalance = normalBalance / np.linalg.norm(normalBalance)\n",
    "\n",
    "if abs(np.dot(normalBalance, reflexNormal)) < 1 - TH_COSINE:\n",
    "    if reflexNormal[np.argmax(abs(reflexNormal))] < 0: #Correct direction\n",
    "        reflexNormal = -reflexNormal\n",
    "\n",
    "    print(reflexNormal)\n",
    "    middlePoint = (v[ix] + v[jx]) / 2\n",
    "    reflexNormal_D = - np.dot(reflexNormal, middlePoint)\n",
    "    origin = np.array([0, 0, 0])\n",
    "    projection = projectPointPlane(origin, reflexNormal, reflexNormal_D)\n",
    "\n",
    "    #Use projection point instead of D-component\n",
    "    print(ix, jx, reflexNormal, projection)"
   ]
  },
  {
   "cell_type": "code",
   "execution_count": 20,
   "id": "7c8c488f",
   "metadata": {},
   "outputs": [
    {
     "name": "stdout",
     "output_type": "stream",
     "text": [
      "[0.18601297 0.02885627 0.98212346]\n",
      "7977 355387 [0.18601297 0.02885627 0.98212346] [ 7.21081964  1.11861754 38.0721575 ]\n"
     ]
    }
   ],
   "source": [
    "ix = 7977\n",
    "jx = 355387\n",
    "\n",
    "reflexNormal = v[ix] - v[jx]\n",
    "reflexNormal = reflexNormal / np.linalg.norm(reflexNormal)\n",
    "\n",
    "normalBalance = n_vertex[ix] + n_vertex[jx]\n",
    "normalBalance = normalBalance / np.linalg.norm(normalBalance)\n",
    "\n",
    "if abs(np.dot(normalBalance, reflexNormal)) < 1 - TH_COSINE:\n",
    "    if reflexNormal[np.argmax(abs(reflexNormal))] < 0: #Correct direction\n",
    "        reflexNormal = -reflexNormal\n",
    "\n",
    "    print(reflexNormal)\n",
    "    middlePoint = (v[ix] + v[jx]) / 2\n",
    "    reflexNormal_D = - np.dot(reflexNormal, middlePoint)\n",
    "    origin = np.array([0, 0, 0])\n",
    "    projection = projectPointPlane(origin, reflexNormal, reflexNormal_D)\n",
    "\n",
    "    #Use projection point instead of D-component\n",
    "    print(ix, jx, reflexNormal, projection)"
   ]
  },
  {
   "cell_type": "code",
   "execution_count": 155,
   "id": "64567e25",
   "metadata": {},
   "outputs": [],
   "source": [
    "s_RttCluster, c_RttCluster = clusterRtt(lcrPairs)"
   ]
  },
  {
   "cell_type": "code",
   "execution_count": null,
   "id": "f31156e2",
   "metadata": {},
   "outputs": [],
   "source": [
    "c_RttCluster"
   ]
  },
  {
   "cell_type": "code",
   "execution_count": 151,
   "id": "cb7acd27",
   "metadata": {},
   "outputs": [
    {
     "data": {
      "text/plain": [
       "list"
      ]
     },
     "execution_count": 151,
     "metadata": {},
     "output_type": "execute_result"
    }
   ],
   "source": [
    "type(lcrPairs[0][2:4])"
   ]
  },
  {
   "cell_type": "code",
   "execution_count": null,
   "id": "a8837c06",
   "metadata": {},
   "outputs": [],
   "source": []
  },
  {
   "cell_type": "code",
   "execution_count": 80,
   "id": "3587bf17",
   "metadata": {},
   "outputs": [
    {
     "data": {
      "text/plain": [
       "[[53,\n",
       "  75110,\n",
       "  array([ 0.88089296,  0.24091259, -0.40741714]),\n",
       "  array([-69.53978822, -19.01821355,  32.16247908])],\n",
       " [0],\n",
       " [[53,\n",
       "   75110,\n",
       "   array([ 0.88089296,  0.24091259, -0.40741714]),\n",
       "   array([-69.53978822, -19.01821355,  32.16247908])]]]"
      ]
     },
     "execution_count": 80,
     "metadata": {},
     "output_type": "execute_result"
    }
   ],
   "source": [
    "n_cluster[0]"
   ]
  },
  {
   "cell_type": "code",
   "execution_count": 72,
   "id": "f0d676fb",
   "metadata": {},
   "outputs": [],
   "source": [
    "cluster_set = []\n",
    "cluster_set.append(lRfxPairs[0][2:4])"
   ]
  },
  {
   "cell_type": "code",
   "execution_count": 73,
   "id": "30bb0f07",
   "metadata": {},
   "outputs": [
    {
     "data": {
      "text/plain": [
       "[[array([ 0.77136943,  1.05920065, -0.97169476]),\n",
       "  array([ -49.46361664, -169.01421519,  135.59718741])]]"
      ]
     },
     "execution_count": 73,
     "metadata": {},
     "output_type": "execute_result"
    }
   ],
   "source": [
    "cluster_set[0][0] = cluster_set[0][0] * len(cluster_set) + lRfxPairs[1][2]\n",
    "cluster_set[0][1] = cluster_set[0][1] * len(cluster_set) + lRfxPairs[1][3]\n",
    "cluster_set"
   ]
  },
  {
   "cell_type": "code",
   "execution_count": 74,
   "id": "7dd11fa1",
   "metadata": {},
   "outputs": [
    {
     "data": {
      "text/plain": [
       "1.631290141494533"
      ]
     },
     "execution_count": 74,
     "metadata": {},
     "output_type": "execute_result"
    }
   ],
   "source": [
    "np.linalg.norm(cluster_set[0][0])"
   ]
  },
  {
   "cell_type": "code",
   "execution_count": 69,
   "id": "8205429c",
   "metadata": {},
   "outputs": [
    {
     "data": {
      "text/plain": [
       "(array([ 0.88089296,  0.24091259, -0.40741714]),\n",
       " array([-69.53978822, -19.01821355,  32.16247908]))"
      ]
     },
     "execution_count": 69,
     "metadata": {},
     "output_type": "execute_result"
    }
   ],
   "source": [
    "cluster_set[0][0],cluster_set[0][1]"
   ]
  },
  {
   "cell_type": "code",
   "execution_count": 65,
   "id": "9c9ac6f1",
   "metadata": {},
   "outputs": [
    {
     "data": {
      "text/plain": [
       "[array([ 0.88089296,  0.24091259, -0.40741714]),\n",
       " array([-69.53978822, -19.01821355,  32.16247908])]"
      ]
     },
     "execution_count": 65,
     "metadata": {},
     "output_type": "execute_result"
    }
   ],
   "source": [
    "lRfxPairs[0][2:4]"
   ]
  },
  {
   "cell_type": "code",
   "execution_count": 62,
   "id": "74952b9c",
   "metadata": {},
   "outputs": [
    {
     "data": {
      "text/plain": [
       "372"
      ]
     },
     "execution_count": 62,
     "metadata": {},
     "output_type": "execute_result"
    }
   ],
   "source": [
    "len(n_cluster)"
   ]
  },
  {
   "cell_type": "code",
   "execution_count": 164,
   "id": "3f0c2b42",
   "metadata": {},
   "outputs": [
    {
     "data": {
      "text/plain": [
       "(8,\n",
       " 12,\n",
       " array([[  66.1753,    0.    ,  118.817 ],\n",
       "        [  66.1753,    0.    ,  -16.9141],\n",
       "        [  66.1753, -259.101 ,  118.817 ],\n",
       "        [  66.1753, -259.101 ,  -16.9141],\n",
       "        [ -78.5671,    0.    ,  118.817 ],\n",
       "        [ -78.5671,    0.    ,  -16.9141],\n",
       "        [ -78.5671, -259.101 ,  118.817 ],\n",
       "        [ -78.5671, -259.101 ,  -16.9141]]))"
      ]
     },
     "execution_count": 164,
     "metadata": {},
     "output_type": "execute_result"
    }
   ],
   "source": [
    "BV_box, BF_box = igl.bounding_box(v)\n",
    "len(BV_box), len(BF_box), BV_box"
   ]
  },
  {
   "cell_type": "code",
   "execution_count": 170,
   "id": "ed4182f3",
   "metadata": {},
   "outputs": [
    {
     "data": {
      "text/plain": [
       "(-8.15843497043787, -199.04268463853882, 49.701276046909214)"
      ]
     },
     "execution_count": 170,
     "metadata": {},
     "output_type": "execute_result"
    }
   ],
   "source": [
    "np.mean(v[1:,0]), np.mean(v[1:,1]), np.mean(v[1:,2])"
   ]
  },
  {
   "cell_type": "code",
   "execution_count": 22,
   "id": "f9cbe694",
   "metadata": {},
   "outputs": [
    {
     "data": {
      "text/plain": [
       "(-65.2045, -51.3314, -35.8076, -9.24414, 18.3818, 36.445, 47.7787)"
      ]
     },
     "execution_count": 22,
     "metadata": {},
     "output_type": "execute_result"
    }
   ],
   "source": [
    "np.percentile(v[1:,0], 5), np.percentile(v[1:,0], 20), np.percentile(v[1:,0], 35), np.percentile(v[1:,0], 50), np.percentile(v[1:,0], 65), np.percentile(v[1:,0], 80), np.percentile(v[1:,0], 95)"
   ]
  },
  {
   "cell_type": "code",
   "execution_count": 23,
   "id": "cb4cc669",
   "metadata": {},
   "outputs": [
    {
     "data": {
      "text/plain": [
       "(-252.051,\n",
       " -232.925,\n",
       " -213.091,\n",
       " -194.674,\n",
       " -178.77869999999996,\n",
       " -166.385,\n",
       " -157.839)"
      ]
     },
     "execution_count": 23,
     "metadata": {},
     "output_type": "execute_result"
    }
   ],
   "source": [
    "np.percentile(v[1:,1], 5), np.percentile(v[1:,1], 20), np.percentile(v[1:,1], 35), np.percentile(v[1:,1], 50), np.percentile(v[1:,1], 65), np.percentile(v[1:,1], 80), np.percentile(v[1:,1], 95)"
   ]
  },
  {
   "cell_type": "code",
   "execution_count": 21,
   "id": "3118784d",
   "metadata": {},
   "outputs": [
    {
     "data": {
      "text/plain": [
       "(-0.41196209999999944,\n",
       " 7.03948,\n",
       " 17.6648,\n",
       " 31.1237,\n",
       " 48.4784,\n",
       " 68.02806,\n",
       " 82.34387999999994,\n",
       " 92.0425,\n",
       " 98.1727)"
      ]
     },
     "execution_count": 21,
     "metadata": {},
     "output_type": "execute_result"
    }
   ],
   "source": [
    "np.percentile(v[1:,1], 5), np.percentile(v[1:,1], 20), np.percentile(v[1:,1], 35), np.percentile(v[1:,1], 50), np.percentile(v[1:,1], 65), np.percentile(v[1:,1], 80), np.percentile(v[1:,1], 95)"
   ]
  },
  {
   "cell_type": "code",
   "execution_count": 24,
   "id": "1c18016c",
   "metadata": {},
   "outputs": [
    {
     "data": {
      "text/plain": [
       "((866694, 3), numpy.ndarray)"
      ]
     },
     "execution_count": 24,
     "metadata": {},
     "output_type": "execute_result"
    }
   ],
   "source": [
    "el = igl.edge_lengths(v, f)\n",
    "el.shape, type(el)"
   ]
  },
  {
   "cell_type": "code",
   "execution_count": 25,
   "id": "cd4f3482",
   "metadata": {},
   "outputs": [
    {
     "data": {
      "text/plain": [
       "(0.39736015149987347,\n",
       " 0.36947404617915947,\n",
       " 0.36947404617915947,\n",
       " 0.15156384265385478,\n",
       " 0.15156384265385478,\n",
       " 0.07661137317657028)"
      ]
     },
     "execution_count": 25,
     "metadata": {},
     "output_type": "execute_result"
    }
   ],
   "source": [
    "max(el[:][0]), max(el[:][1]), max(el[:][2]), min(el[:][0]), min(el[:][1]), min(el[:][2])"
   ]
  },
  {
   "cell_type": "code",
   "execution_count": 26,
   "id": "57505934",
   "metadata": {},
   "outputs": [
    {
     "data": {
      "text/plain": [
       "0.8"
      ]
     },
     "execution_count": 26,
     "metadata": {},
     "output_type": "execute_result"
    }
   ],
   "source": [
    "lvx = round(math.ceil(max(max(el[:][0]), max(el[:][1]), max(el[:][2])) * 200)/100, 2)\n",
    "lvx"
   ]
  },
  {
   "cell_type": "code",
   "execution_count": 27,
   "id": "c9e89bb2",
   "metadata": {},
   "outputs": [
    {
     "data": {
      "text/plain": [
       "(183, 325, 172)"
      ]
     },
     "execution_count": 27,
     "metadata": {},
     "output_type": "execute_result"
    }
   ],
   "source": [
    "vx = math.ceil(max(v[1:,0]) / lvx) - math.floor(min(v[1:,0]) / lvx) + 1\n",
    "vy = math.ceil(max(v[1:,1]) / lvx) - math.floor(min(v[1:,1]) / lvx) + 1\n",
    "vz = math.ceil(max(v[1:,2]) / lvx) - math.floor(min(v[1:,2]) / lvx) + 1\n",
    "\n",
    "vx, vy, vz"
   ]
  },
  {
   "cell_type": "code",
   "execution_count": 28,
   "id": "a99a1536",
   "metadata": {},
   "outputs": [],
   "source": [
    "def locatePoint(point, lv, pdx, pdy, pdz):\n",
    "    ix = math.ceil(point[0] / lv)\n",
    "    iy = math.ceil(point[1] / lv)\n",
    "    iz = math.ceil(point[2] / lv)\n",
    "    \n",
    "    return ix - pdx, iy - pdy, iz - pdz"
   ]
  },
  {
   "cell_type": "code",
   "execution_count": 29,
   "id": "71886cfa",
   "metadata": {},
   "outputs": [
    {
     "name": "stdout",
     "output_type": "stream",
     "text": [
      "0:00:07.238686\n"
     ]
    }
   ],
   "source": [
    "start = datetime.now()\n",
    "\n",
    "voxelg = np.empty((vx, vy, vz, ), dtype=object)\n",
    "pdx = math.floor(min(v[1:,0]) / lvx)\n",
    "pdy = math.floor(min(v[1:,1]) / lvx)\n",
    "pdz = math.floor(min(v[1:,2]) / lvx)\n",
    "\n",
    "for vp in range(1, len(v)):\n",
    "    x, y, z = locatePoint(v[vp], lvx, pdx, pdy, pdz)\n",
    "    voxelg[x,y,z] = np.append(voxelg[x,y,z], vp)\n",
    "            \n",
    "end = datetime.now()\n",
    "print(end - start)"
   ]
  },
  {
   "cell_type": "code",
   "execution_count": 30,
   "id": "6dc10b89",
   "metadata": {},
   "outputs": [],
   "source": [
    "def findneighbors(ix):\n",
    "    lx, ly, lz = locatePoint(v[ix], lvx, pdx, pdy, pdz)\n",
    "    #return np.delete(voxelg[lx,ly,lz], 0), lx, ly, lz\n",
    "    \n",
    "    n_voxels = findneighborvoxels(lx, ly, lz)\n",
    "    nv_list = []\n",
    "    \n",
    "    for nx in range(n_voxels.shape[0]):\n",
    "        for ny in range(n_voxels.shape[1]):\n",
    "            for nz in range(n_voxels.shape[2]):\n",
    "                nv_list.extend(np.delete(voxelg[n_voxels[nx][ny][nz][0], n_voxels[nx][ny][nz][1], n_voxels[nx][ny][nz][2]], 0))\n",
    "    \n",
    "    return nv_list"
   ]
  },
  {
   "cell_type": "code",
   "execution_count": 31,
   "id": "1ba5a5ea",
   "metadata": {},
   "outputs": [
    {
     "name": "stdout",
     "output_type": "stream",
     "text": [
      "53 66 133 [ -37.2243 -207.07     88.0148]\n",
      "54 67 134 [ -36.0692 -205.653    88.8548]\n"
     ]
    }
   ],
   "source": [
    "x1, y1, z1 = locatePoint(v[12142], lvx, pdx, pdy, pdz)\n",
    "print(x1, y1, z1, v[12142])\n",
    "\n",
    "x2, y2, z2 = locatePoint(v[40940], lvx, pdx, pdy, pdz)\n",
    "print(x2, y2, z2, v[40940])"
   ]
  },
  {
   "cell_type": "code",
   "execution_count": 32,
   "id": "26604e13",
   "metadata": {},
   "outputs": [],
   "source": [
    "def findneighborvoxels(lx, ly, lz):\n",
    "    neighbors = np.zeros([3,3,3,3], dtype=int)\n",
    "\n",
    "    for nx in range(3):\n",
    "        for ny in range(3):\n",
    "            for nz in range(3):\n",
    "                neighbors[nx,ny,nz] = [lx + nx - 1, ly + ny - 1, lz + nz - 1]\n",
    "\n",
    "    if lx == vx - 1:\n",
    "        neighbors = np.delete(neighbors, 2, axis = 0)\n",
    "    if lx == 0:\n",
    "        neighbors = np.delete(neighbors, 0, axis = 0)\n",
    "\n",
    "    if ly == vy - 1:\n",
    "        neighbors = np.delete(neighbors, 2, axis = 1)\n",
    "    if ly == 0:\n",
    "        neighbors = np.delete(neighbors, 0, axis = 1)\n",
    "\n",
    "    if lz == vz - 1:\n",
    "        neighbors = np.delete(neighbors, 2, axis = 2)\n",
    "    if lz == 0:\n",
    "        neighbors = np.delete(neighbors, 0, axis = 2)\n",
    "    \n",
    "    return neighbors"
   ]
  },
  {
   "cell_type": "code",
   "execution_count": 33,
   "id": "c281f4ae",
   "metadata": {},
   "outputs": [
    {
     "name": "stdout",
     "output_type": "stream",
     "text": [
      "0.785706210997468 11805\n",
      "0.5642921672325477 11809\n",
      "0.5124028590864881 11813\n",
      "0.7093535366796989 12133\n",
      "0.35462827016470233 12136\n",
      "0.7649322192194545 12255\n",
      "0.4415997395832699 12256\n",
      "0.5440334548536628 12259\n",
      "0.5605798872596043 28\n",
      "0.5433325685066054 29\n",
      "0.4247915841915865 11846\n",
      "0.4021582400001261 11849\n",
      "0.45341911075735614 11855\n",
      "0.3545477259833849 30\n",
      "0.4159405366155017 31\n",
      "0.5576690775002593 32\n",
      "0.24047105854967757 12268\n",
      "0.421997630325106 12275\n",
      "0.7089248479211308 40764\n",
      "0.7357440995346142 40855\n"
     ]
    }
   ],
   "source": [
    "ip = 12142\n",
    "nv = findneighbors(ip)\n",
    "\n",
    "for nvx in nv:\n",
    "    if nvx != ip:\n",
    "        if np.linalg.norm(v[ip] - v[nvx]) < lvx:\n",
    "            print(np.linalg.norm(v[ip] - v[nvx]), nvx)"
   ]
  },
  {
   "cell_type": "code",
   "execution_count": 43,
   "id": "dc31719f",
   "metadata": {},
   "outputs": [
    {
     "data": {
      "text/plain": [
       "(array([ 54,  65, 134]), array([ 55,  66, 132]), array([ 53,  67, 133]))"
      ]
     },
     "execution_count": 43,
     "metadata": {},
     "output_type": "execute_result"
    }
   ],
   "source": [
    "a_neighbors = findneighborvoxels(54, 66, 133)\n",
    "a_neighbors[1][0][2], a_neighbors[2][1][0], a_neighbors[0][2][1]"
   ]
  },
  {
   "cell_type": "code",
   "execution_count": 38,
   "id": "140a9111",
   "metadata": {},
   "outputs": [
    {
     "data": {
      "text/plain": [
       "((183, 325, 172), array([30, 31, 32, 12142, 12268, 12275], dtype=object))"
      ]
     },
     "execution_count": 38,
     "metadata": {},
     "output_type": "execute_result"
    }
   ],
   "source": [
    "voxelg.shape, voxelg[53][66][133][1:]"
   ]
  },
  {
   "cell_type": "code",
   "execution_count": 44,
   "id": "e1a68b79",
   "metadata": {
    "scrolled": true
   },
   "outputs": [
    {
     "data": {
      "text/plain": [
       "(53,\n",
       " array([-0.18216573,  0.9831671 , -0.01407447]),\n",
       " array([-0.98300106, -0.18243106, -0.02068371]),\n",
       " 0.0010887064928339623,\n",
       " 0.025401912095101373,\n",
       " array([-0.02290316,  0.01006736,  0.999687  ]),\n",
       " array([-0.02290316,  0.01006736,  0.999687  ]))"
      ]
     },
     "execution_count": 44,
     "metadata": {},
     "output_type": "execute_result"
    }
   ],
   "source": [
    "v_indices[0], v1_c[0], v2_c[0], k1_c[0], k2_c[0], np.cross(v1_c[0], v2_c[0]), n_vertex[v_indices[0]]"
   ]
  },
  {
   "cell_type": "code",
   "execution_count": 48,
   "id": "d867f256",
   "metadata": {},
   "outputs": [],
   "source": [
    "import pandas as pd\n",
    "k_c = np.abs(k)"
   ]
  },
  {
   "cell_type": "code",
   "execution_count": 58,
   "id": "671d9e0f",
   "metadata": {},
   "outputs": [
    {
     "name": "stdout",
     "output_type": "stream",
     "text": [
      "border vertex: 40 isolated 72215\n"
     ]
    }
   ],
   "source": [
    "vc = 0\n",
    "vn = 0\n",
    "for i in range(0, len(adj_lst)):\n",
    "    if pd.isna(k_c[i]): #if the gaussian curvature is missing\n",
    "        vc += 1\n",
    "        #ki_1, ki_2 = calculate_principal(i)\n",
    "        #print(i, len(adj_lst[i]), bv[i]) #is_border_vertex: True\n",
    "    \n",
    "    if k_c[i] == 2 * math.pi: #if the vertex has no neighbors\n",
    "        #print(i, len(adj_lst[i]), bv[i]) #is_border_vertex: False\n",
    "        vn += 1\n",
    "\n",
    "#exceptions: 44645, 44649\n",
    "print(\"border vertex:\", vc, \"isolated\", vn)"
   ]
  },
  {
   "cell_type": "code",
   "execution_count": 143,
   "id": "72f97362",
   "metadata": {},
   "outputs": [],
   "source": [
    "curvatures = []\n",
    "for i in range(0, len(adj_lst)):\n",
    "    if not (pd.isna(k_c[i]) or k_c[i] == 2 * math.pi): #if the vertex has no neighbors\n",
    "        curvatures.append(k_c[i])"
   ]
  },
  {
   "cell_type": "code",
   "execution_count": 159,
   "id": "8e4a7ce1",
   "metadata": {},
   "outputs": [
    {
     "data": {
      "text/plain": [
       "(0.01121597297798726, 0.03231097757534786, 0.0003623990513774539)"
      ]
     },
     "execution_count": 159,
     "metadata": {},
     "output_type": "execute_result"
    }
   ],
   "source": [
    "ki_1, ki_2 = calculate_principal(1341)\n",
    "ki_1, ki_2, ki_1 * ki_2"
   ]
  },
  {
   "cell_type": "code",
   "execution_count": 82,
   "id": "e87c3299",
   "metadata": {},
   "outputs": [
    {
     "data": {
      "text/plain": [
       "(numpy.ndarray, list)"
      ]
     },
     "execution_count": 82,
     "metadata": {},
     "output_type": "execute_result"
    }
   ],
   "source": [
    "type(v), type(P)"
   ]
  },
  {
   "cell_type": "code",
   "execution_count": 90,
   "id": "80dbd97f",
   "metadata": {},
   "outputs": [
    {
     "data": {
      "text/plain": [
       "(array(-0.07538721),\n",
       " array(423682, dtype=int32),\n",
       " array([  20.93884834, -154.87922546,  -14.06756262]))"
      ]
     },
     "execution_count": 90,
     "metadata": {},
     "output_type": "execute_result"
    }
   ],
   "source": [
    "P = np.array([[21.0, -155, -14]]) # [[0,0,0], [20.0, -154, -13], [19.0, -156, -12]])\n",
    "S, I, C = igl.signed_distance(P, v, f, return_normals=False)\n",
    "S, I, C"
   ]
  },
  {
   "cell_type": "code",
   "execution_count": 88,
   "id": "4bd29dec",
   "metadata": {},
   "outputs": [
    {
     "data": {
      "text/plain": [
       "(array([  21.0112, -154.923 ,  -14.2113]),\n",
       " array([  20.8611, -154.999 ,  -14.2113]),\n",
       " array([  20.8611, -154.733 ,  -13.7358]),\n",
       " array([  20.8611, -154.755 ,  -12.7945]),\n",
       " array([  20.1527, -154.914 ,  -13.5029]),\n",
       " array([  20.2453, -155.006 ,  -12.7946]),\n",
       " array([  19.4444, -155.343 ,  -12.7946]),\n",
       " array([  20.1527, -155.006 ,  -12.8691]),\n",
       " array([  19.9803, -155.006 ,  -13.5029]))"
      ]
     },
     "execution_count": 88,
     "metadata": {},
     "output_type": "execute_result"
    }
   ],
   "source": [
    "v[f[423682][0]], v[f[423682][1]], v[f[423682][2]], v[f[507656][0]], v[f[507656][1]], v[f[507656][2]], v[f[507650][0]], v[f[507650][1]], v[f[507650][2]]"
   ]
  },
  {
   "cell_type": "code",
   "execution_count": 82,
   "id": "da56d73c",
   "metadata": {},
   "outputs": [
    {
     "data": {
      "text/plain": [
       "([-0.0009148522127828112], [-1.0557912553645235])"
      ]
     },
     "execution_count": 82,
     "metadata": {},
     "output_type": "execute_result"
    }
   ],
   "source": [
    "dk = [[k1_c[i] - k2_c[i]] for i in range(len(k1_c))]\n",
    "max(dk), min(dk)"
   ]
  },
  {
   "cell_type": "code",
   "execution_count": null,
   "id": "0f285c40",
   "metadata": {},
   "outputs": [],
   "source": []
  }
 ],
 "metadata": {
  "kernelspec": {
   "display_name": "Python 3 (ipykernel)",
   "language": "python",
   "name": "python3"
  },
  "language_info": {
   "codemirror_mode": {
    "name": "ipython",
    "version": 3
   },
   "file_extension": ".py",
   "mimetype": "text/x-python",
   "name": "python",
   "nbconvert_exporter": "python",
   "pygments_lexer": "ipython3",
   "version": "3.9.12"
  }
 },
 "nbformat": 4,
 "nbformat_minor": 5
}
