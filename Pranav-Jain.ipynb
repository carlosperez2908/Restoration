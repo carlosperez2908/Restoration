{
 "cells": [
  {
   "cell_type": "code",
   "execution_count": 1,
   "id": "412bab5a",
   "metadata": {},
   "outputs": [],
   "source": [
    "import numpy as np\n",
    "import sys\n",
    "import csv"
   ]
  },
  {
   "cell_type": "code",
   "execution_count": 2,
   "id": "c9397e9e",
   "metadata": {},
   "outputs": [],
   "source": [
    "def read_off(file):\n",
    "    if 'OFF' != file.readline().strip():\n",
    "        raise('Not a valid OFF header')\n",
    "    n_verts, n_faces, n_dontknow = tuple([int(s) for s in file.readline().strip().split(' ')])\n",
    "    verts = [[float(s) for s in file.readline().strip().split(' ')] for i_vert in range(n_verts)]\n",
    "    faces = [[int(s) for s in file.readline().strip().split(' ')][1:] for i_face in range(n_faces)]\n",
    "    return verts, faces"
   ]
  },
  {
   "cell_type": "code",
   "execution_count": 3,
   "id": "92fbec17",
   "metadata": {},
   "outputs": [],
   "source": [
    "def get_area(a,b,c): # area of triangle using heron's formula\n",
    "    v1 = get_vector(a,b)\n",
    "    v2 = get_vector(a,c)\n",
    "    v3 = get_vector(b,c)\n",
    "\n",
    "    x = np.linalg.norm(v1)\n",
    "    y = np.linalg.norm(v2)\n",
    "    z = np.linalg.norm(v3)\n",
    "    s = (x+y+z)/2.0\n",
    "\n",
    "    area = (s*(s-x)*(s-y)*(s-z))**0.5\n",
    "    return area"
   ]
  },
  {
   "cell_type": "code",
   "execution_count": 4,
   "id": "5f96b698",
   "metadata": {},
   "outputs": [],
   "source": [
    "def check_obtuse(triangle,vertices,index): # checks if triangle is obtuse\n",
    "    flag=0\n",
    "    x = vertices[index]\n",
    "    ind_arr = []\n",
    "    ind_arr.append(index)\n",
    "\n",
    "    arr = different_elements(tuple(triangle),tuple(ind_arr))\n",
    "    y = vertices[int(arr[0])]\n",
    "    z = vertices[int(arr[1])]\n",
    "\n",
    "    v1 = get_vector(x,y)\n",
    "    v2 = get_vector(x,z)\n",
    "    angle = get_angle(v1,v2)\n",
    "    \n",
    "    if angle>np.pi/2.:\n",
    "        flag=1\n",
    "        \n",
    "    v1 = get_vector(y,z)\n",
    "    v2 = get_vector(y,x)\n",
    "    angle = get_angle(v1,v2)\n",
    "    \n",
    "    if angle>np.pi/2.:\n",
    "        flag=2\n",
    "    \n",
    "    v1 = get_vector(z,x)\n",
    "    v2 = get_vector(z,y)\n",
    "    angle = get_angle(v1,v2)\n",
    "    \n",
    "    if angle>np.pi/2.:\n",
    "        flag=2\n",
    "\n",
    "    return flag"
   ]
  },
  {
   "cell_type": "code",
   "execution_count": 5,
   "id": "a36ad864",
   "metadata": {},
   "outputs": [],
   "source": [
    "def get_vector(x,y): # returns vector from x to y\n",
    "    return y-x\n",
    "\n",
    "def get_angle(x,y): # return tan of angle between vectors x and y\n",
    "    x = x/np.linalg.norm(x,2)\n",
    "    y = y/np.linalg.norm(y,2)\n",
    "    cos = np.dot(x,y)\n",
    "\n",
    "    return np.arccos(cos)\n",
    "\n",
    "def get_neighbors(index,triangles): # get 1 ring neighborhood for ith vertex\n",
    "    ring_neighbors = []\n",
    "    for tri in triangles:\n",
    "        if index in tri:\n",
    "            ring_neighbors.append(tri)\n",
    "\n",
    "    return np.array(ring_neighbors)\n",
    "\n",
    "def common_elements(list1, list2): # get common elements of list1 and list2\n",
    "    return list(set(list1) & set(list2))\n",
    "\n",
    "def different_elements(list1, list2): # get uncommon elements of list1 and list2\n",
    "    return list(set(list1) ^ set(list2))"
   ]
  },
  {
   "cell_type": "code",
   "execution_count": 6,
   "id": "a8e33e95",
   "metadata": {},
   "outputs": [],
   "source": [
    "def A_mixed(i,vertex,neighbors,vertices,triangles):\n",
    "    A_mixed = 0\n",
    "\n",
    "    if neighbors.dtype==object:\n",
    "        return '#'\n",
    "\n",
    "    summation = 0\n",
    "    for j in range(neighbors.shape[0]):\n",
    "        triangle = neighbors[j]\n",
    "        flag1 = check_obtuse(triangle,vertices,i)\n",
    "\n",
    "        if flag1==0: # not obtuse\n",
    "\n",
    "            arr = np.delete(triangle,np.where(triangle==np.float64(i)))\n",
    "\n",
    "            x1 = vertex\n",
    "            x2 = vertices[int(arr[0])]\n",
    "            x3 = vertices[int(arr[1])]\n",
    "\n",
    "            v1 = get_vector(x1,x2)\n",
    "            v2 = get_vector(x1,x3)\n",
    "            v3 = get_vector(x2,x3)\n",
    "            cot_alpha = 1.0/np.tan(get_angle(-v1,v3))\n",
    "            cot_beta = 1.0/np.tan(get_angle(-v2,-v3))\n",
    "\n",
    "            summation += (cot_alpha*np.linalg.norm(v2,2)**2 + cot_beta*np.linalg.norm(v1,2)**2)/8.0\n",
    "\n",
    "        elif flag1==1:\n",
    "            area = get_area(vertices[triangle[0]],vertices[triangle[1]],vertices[triangle[2]])\n",
    "            summation += area/2.0\n",
    "        else:\n",
    "            area = get_area(vertices[triangle[0]],vertices[triangle[1]],vertices[triangle[2]])\n",
    "            summation += area/4.0\n",
    "\n",
    "    A_mixed += summation\n",
    "\n",
    "    # print('A_mixed', A_mixed)\n",
    "    return A_mixed"
   ]
  },
  {
   "cell_type": "code",
   "execution_count": 7,
   "id": "17b4ddcb",
   "metadata": {},
   "outputs": [],
   "source": [
    "def mean_normal_curvature(i,vertex,A_mixed,neighbors,vertices,triangles):\n",
    "    summation = np.array([0.,0.,0.])\n",
    "\n",
    "    for j in range(neighbors.shape[0]):\n",
    "        triangle = neighbors[j]\n",
    "        \n",
    "        arr = np.delete(triangle,np.where(triangle==np.float64(i)))\n",
    "        \n",
    "        x1 = vertex\n",
    "        x2 = vertices[int(arr[0])]\n",
    "        x3 = vertices[int(arr[1])]\n",
    "\n",
    "        v1 = get_vector(x1,x2)\n",
    "        v2 = get_vector(x1,x3)\n",
    "        v3 = get_vector(x2,x3)\n",
    "        cot_alpha = 1.0/np.tan(get_angle(-v1,v3))\n",
    "        cot_beta = 1.0/np.tan(get_angle(-v2,-v3))\n",
    "\n",
    "        summation += (cot_alpha*v2 + cot_beta*v1)\n",
    "\n",
    "    K = summation/(2.0*A_mixed)\n",
    "    return K"
   ]
  },
  {
   "cell_type": "code",
   "execution_count": 8,
   "id": "e8fb22e9",
   "metadata": {},
   "outputs": [],
   "source": [
    "def gaussian_curvature(i,vertex,A_mixed,neighbors,vertices,triangles):\n",
    "\n",
    "    summation = 0.\n",
    "    for j in range(neighbors.shape[0]):\n",
    "        triangle = neighbors[j]\n",
    "        arr = np.delete(triangle,np.where(triangle==i))\n",
    "\n",
    "        a = vertices[int(arr[0])]\n",
    "        b = vertices[int(arr[1])]\n",
    "        c = vertex\n",
    "\n",
    "        v1 = get_vector(c,a)\n",
    "        v2 = get_vector(c,b)\n",
    "\n",
    "        theta = get_angle(v2,v1)\n",
    "\n",
    "        summation += theta\n",
    "\n",
    "    K_G = ((2.0*np.pi) - summation)/(A_mixed)\n",
    "    return K_G"
   ]
  },
  {
   "cell_type": "code",
   "execution_count": 9,
   "id": "bf9ab7fc",
   "metadata": {},
   "outputs": [],
   "source": [
    "def mean_curvature(K):\n",
    "    K_H = np.linalg.norm(K,2)/2.\n",
    "    return K_H\n",
    "\n",
    "def principal_curvature(K_H,K_G):\n",
    "    delta = K_H*K_H - K_G\n",
    "\n",
    "    if delta < 0:\n",
    "        delta = 0\n",
    "\n",
    "    K1 = K_H + delta**0.5\n",
    "    K2 = K_H - delta**0.5\n",
    "\n",
    "    return K1,K2"
   ]
  },
  {
   "cell_type": "code",
   "execution_count": 13,
   "id": "c1d17bfc",
   "metadata": {},
   "outputs": [],
   "source": [
    "import igl\n",
    "vertices, triangles = igl.read_triangle_mesh(\"3dPotteryDs/3D Models/Lagynos/qpvase5.obj\")"
   ]
  },
  {
   "cell_type": "code",
   "execution_count": 14,
   "id": "5f6d71ca",
   "metadata": {},
   "outputs": [],
   "source": [
    "#f = open(\"3dPotteryDs/3D Models/Lagynos/qpvase5.obj\" ,'r')\n",
    "#vertices, triangles = read_off(f)\n",
    "#vertices = np.array(vertices)\n",
    "#triangles = np.array(triangles)\n",
    "\n",
    "arr_K_G = []\n",
    "arr_K_H = []\n",
    "arr_K1 = []\n",
    "arr_K2 = []\n",
    "\n",
    "#len(vertices)\n",
    "for i in range(0, 1):\n",
    "    neighbors = get_neighbors(np.copy(i),np.copy(triangles))\n",
    "\n",
    "    a_mixed = A_mixed(i, vertices[i], np.copy(neighbors), np.copy(vertices), np.copy(triangles))\n",
    "    if a_mixed=='#' or a_mixed==0:\n",
    "        # print('#')\n",
    "        arr_K_G.append(0.)\n",
    "        arr_K_H.append(0.)\n",
    "        arr_K1.append(0.)\n",
    "        arr_K2.append(0.)\n",
    "        continue\n",
    "\n",
    "    K_G = gaussian_curvature(np.copy(i), np.copy(vertices[i]), np.copy(a_mixed), np.copy(neighbors), np.copy(vertices), np.copy(triangles)) \n",
    "    K = mean_normal_curvature(np.copy(i), np.copy(vertices[i]), np.copy(a_mixed), np.copy(neighbors), np.copy(vertices), np.copy(triangles))\n",
    "    K_H = mean_curvature(K)\n",
    "\n",
    "    K1, K2 = principal_curvature(K_H,K_G)\n",
    "\n",
    "    # print('K',K)\n",
    "    # print('K_H',K_H)\n",
    "    # print('K_G',K_G)\n",
    "    # print('K1',K1)\n",
    "    # print('K2',K2)\n",
    "\n",
    "    arr_K_G.append(K_G)\n",
    "    arr_K_H.append(K_H)\n",
    "    arr_K1.append(K1)\n",
    "    arr_K2.append(K2)\n",
    "\n",
    "    #with open('output.csv', 'w', newline='') as csvfile:\n",
    "    #    writer = csv.writer(csvfile, delimiter=',')\n",
    "    #    writer.writerow(['Vertex', 'Principal_1', 'Principal_2', 'Mean', 'Gaussian'])\n",
    "    #    for i in range(len(arr_K1)):\n",
    "    #    writer.writerow([i, arr_K1[i], arr_K2[i], arr_K_H[i], arr_K_G[i]])"
   ]
  },
  {
   "cell_type": "code",
   "execution_count": 16,
   "id": "01eaa2bd",
   "metadata": {},
   "outputs": [
    {
     "data": {
      "text/plain": [
       "([5.649379762431568], [5.649379762431568])"
      ]
     },
     "execution_count": 16,
     "metadata": {},
     "output_type": "execute_result"
    }
   ],
   "source": [
    "arr_K1, arr_K2"
   ]
  },
  {
   "cell_type": "code",
   "execution_count": 17,
   "id": "6337fb95",
   "metadata": {},
   "outputs": [
    {
     "data": {
      "text/plain": [
       "([239.58234314358415], [5.649379762431568])"
      ]
     },
     "execution_count": 17,
     "metadata": {},
     "output_type": "execute_result"
    }
   ],
   "source": [
    "arr_K_G, arr_K_H"
   ]
  },
  {
   "cell_type": "code",
   "execution_count": null,
   "id": "58eb9db7",
   "metadata": {},
   "outputs": [],
   "source": []
  }
 ],
 "metadata": {
  "kernelspec": {
   "display_name": "Python 3 (ipykernel)",
   "language": "python",
   "name": "python3"
  },
  "language_info": {
   "codemirror_mode": {
    "name": "ipython",
    "version": 3
   },
   "file_extension": ".py",
   "mimetype": "text/x-python",
   "name": "python",
   "nbconvert_exporter": "python",
   "pygments_lexer": "ipython3",
   "version": "3.9.12"
  }
 },
 "nbformat": 4,
 "nbformat_minor": 5
}
