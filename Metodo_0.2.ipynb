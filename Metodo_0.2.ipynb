{
 "cells": [
  {
   "cell_type": "code",
   "execution_count": 1,
   "id": "c8cff4a6",
   "metadata": {},
   "outputs": [],
   "source": [
    "import igl\n",
    "import numpy as np\n",
    "import math\n",
    "import random as rnd\n",
    "import scipy as sp\n",
    "from scipy.spatial import KDTree\n",
    "import meshplot as mp\n",
    "from meshplot import plot, subplot, interact"
   ]
  },
  {
   "cell_type": "code",
   "execution_count": 3,
   "id": "1b41a704",
   "metadata": {},
   "outputs": [],
   "source": [
    "from datetime import datetime"
   ]
  },
  {
   "cell_type": "code",
   "execution_count": 4,
   "id": "739119af",
   "metadata": {},
   "outputs": [
    {
     "name": "stdout",
     "output_type": "stream",
     "text": [
      "0:00:03.037137\n"
     ]
    }
   ],
   "source": [
    "start = datetime.now()\n",
    "v, f = igl.read_triangle_mesh(\"data/30_original.off\") #(\"3dPotteryDs/3D Models/Lagynos/qpvase5.obj\")\n",
    "end = datetime.now()\n",
    "print(end - start)"
   ]
  },
  {
   "cell_type": "code",
   "execution_count": 5,
   "id": "f805b6d8",
   "metadata": {},
   "outputs": [
    {
     "name": "stdout",
     "output_type": "stream",
     "text": [
      "0:00:01.650989\n"
     ]
    }
   ],
   "source": [
    "start = datetime.now()\n",
    "\n",
    "n_vertex = igl.per_vertex_normals(v, f)\n",
    "k = igl.gaussian_curvature(v, f)\n",
    "kn = k[(~np.isnan(k)) & (k < 2*math.pi)]\n",
    "#v1, v2, k1, k2 = igl.principal_curvature(v, f)\n",
    "#v1_3, v2_3, k1_3, k2_3 = igl.principal_curvature(v, f, 3, True)\n",
    "\n",
    "#Returns list of lists containing at index i the adjacent vertices of vertex i\n",
    "adj_lst = igl.adjacency_list(f) \n",
    "\n",
    "#Returns\n",
    "#VF (size: 3*#F) List of faces indice on each vertex, so that VF(NI(i)+j) = f, means that face f is the jth face \n",
    "# (in no particular order) incident on vertex i.\n",
    "#VFi (size: #V+1) cumulative sum of vertex-triangle degrees with a preceeding zero. \n",
    "# “How many faces” have been seen before visiting this vertex and its incident faces.\n",
    "VF, VFi = igl.vertex_triangle_adjacency(f, len(v))\n",
    "bv = igl.is_border_vertex(v, f)\n",
    "\n",
    "end = datetime.now()\n",
    "print(end - start)"
   ]
  },
  {
   "cell_type": "code",
   "execution_count": 6,
   "id": "ad5062f9",
   "metadata": {},
   "outputs": [
    {
     "data": {
      "text/plain": [
       "(40107.8031, 508963, 237, 2147, 508839, 508962)"
      ]
     },
     "execution_count": 6,
     "metadata": {},
     "output_type": "execute_result"
    }
   ],
   "source": [
    "#Calculate curvatures for sampled points\n",
    "area_t = 0.5 * sum(igl.doublearea(v, f))\n",
    "v_size = 3 * (v.shape[0]**(1/2)) #min(round(area_t/4), round(v.shape[0] / 100))\n",
    "v_ratio = math.floor(v.shape[0] / v_size)\n",
    "v_size = math.floor(v.shape[0] / v_ratio)\n",
    "round(area_t, 4), v.shape[0], v_ratio, v_size, v_ratio * v_size, len(bv)"
   ]
  },
  {
   "cell_type": "code",
   "execution_count": 7,
   "id": "8f2f0471",
   "metadata": {},
   "outputs": [],
   "source": [
    "def calculate_principal(ivx): #curvature with 3-rounds\n",
    "    lfaces, lvertices = [], []\n",
    "    lvertices.append(ivx)\n",
    "    lvx_r1, lvx_r2 = [], []\n",
    "\n",
    "    for fx in VF[VFi[ivx]:VFi[ivx+1]]:\n",
    "        lfaces.append(fx) #1-round faces\n",
    "\n",
    "    for vr1 in adj_lst[ivx]:\n",
    "        if vr1 not in lvertices:\n",
    "            lvertices.append(vr1) #1-round vertices\n",
    "            lvx_r1.append(vr1)\n",
    "            \n",
    "    for vr1 in lvx_r1:\n",
    "        for fx2 in VF[VFi[vr1]:VFi[vr1+1]]:\n",
    "            if fx2 not in lfaces:\n",
    "                lfaces.append(fx2)\n",
    "                                \n",
    "        for vr2 in adj_lst[vr1]:\n",
    "            if vr2 not in lvertices:\n",
    "                lvertices.append(vr2)\n",
    "                lvx_r2.append(vr2)\n",
    "    \n",
    "    for vr2 in lvx_r2:\n",
    "        for fx3 in VF[VFi[vr2]:VFi[vr2+1]]:\n",
    "            if fx3 not in lfaces:\n",
    "                lfaces.append(fx3)\n",
    "\n",
    "        for vr3 in adj_lst[vr2]:\n",
    "            if vr3 not in lvertices:\n",
    "                lvertices.append(vr3)\n",
    "\n",
    "    dtv = {} #vertex dictionary\n",
    "    for ix, vertex in enumerate(lvertices):\n",
    "        dtv[vertex] = ix    \n",
    "    \n",
    "    vc = np.array([v[lvertices[i]] for i in range(len(lvertices))])\n",
    "    fc = np.array([[dtv[f[lfaces[i]][0]], dtv[f[lfaces[i]][1]], dtv[f[lfaces[i]][2]]] for i in range(len(lfaces))], dtype=int)\n",
    "    v1c, v2c, k1c, k2c = igl.principal_curvature(vc, fc)\n",
    "    return v1c[0], v2c[0], k1c[0], k2c[0]"
   ]
  },
  {
   "cell_type": "code",
   "execution_count": 8,
   "id": "3338bdca",
   "metadata": {},
   "outputs": [
    {
     "name": "stdout",
     "output_type": "stream",
     "text": [
      "0:00:03.878723\n"
     ]
    }
   ],
   "source": [
    "start = datetime.now()\n",
    "v_indices = [] #np.array([0 for i in range(v_size)])\n",
    "v1_p, v2_p, k1_p, k2_p = [], [], [], []\n",
    "k_p = np.percentile(abs(kn), 33)\n",
    "\n",
    "from datetime import datetime\n",
    "start = datetime.now()\n",
    "\n",
    "for i in range(0, v_size):\n",
    "    while True:\n",
    "        index = rnd.randint(v_ratio * i, min(v_ratio * (i + 1) - 1, v.shape[0] - 1))\n",
    "        if len(adj_lst[index]) > 0:\n",
    "            break            \n",
    "    \n",
    "    adj_neighbors = False\n",
    "    \n",
    "    if not bv[index]:\n",
    "        adj_neighbors = True\n",
    "        \n",
    "        for nb in adj_lst[index]:\n",
    "            if len(adj_lst[nb]) == 0:\n",
    "                adj_neighbors = False\n",
    "        \n",
    "    if adj_neighbors and abs(k[index]) > k_p:\n",
    "        v_indices.append(index)        \n",
    "        v1p, v2p, k1p, k2p = calculate_principal(index)\n",
    "        v1_p.append(v1p)\n",
    "        v2_p.append(v2p)\n",
    "        k1_p.append(k1p * np.sign(k2p))\n",
    "        k2_p.append(k2p * np.sign(k2p))\n",
    "\n",
    "end = datetime.now()\n",
    "print(end - start)"
   ]
  },
  {
   "cell_type": "code",
   "execution_count": 9,
   "id": "080c942d",
   "metadata": {},
   "outputs": [
    {
     "data": {
      "text/plain": [
       "(1390, 1059)"
      ]
     },
     "execution_count": 9,
     "metadata": {},
     "output_type": "execute_result"
    }
   ],
   "source": [
    "oVertex = []\n",
    "v1_c, v2_c, k1_c, k2_c = [], [], [], []\n",
    "\n",
    "for j in range(0, len(v_indices)):\n",
    "    if (abs(k1_p[j]) > np.percentile(np.abs(k1_p), 50)) or (abs(k2_p[j]) > np.percentile(np.abs(k2_p), 50)):\n",
    "        #print(v_indices[j], k1_c[j], k2_c[j], k_c[v_indices[j]])\n",
    "        oVertex.append(v_indices[j])\n",
    "        v1_c.append(v1_p[j])\n",
    "        v2_c.append(v2_p[j])\n",
    "        k1_c.append(k1_p[j])\n",
    "        k2_c.append(k2_p[j])\n",
    "\n",
    "len(v_indices), len(oVertex)"
   ]
  },
  {
   "cell_type": "code",
   "execution_count": 10,
   "id": "f66b98cf",
   "metadata": {},
   "outputs": [],
   "source": [
    "TH_RATIO_K = 0.9\n",
    "TH_COSINE = 0.75\n",
    "\n",
    "#distance / bounding_box, angle\n",
    "CLUSTER_EP = [0.125, 0.125] #0.125"
   ]
  },
  {
   "cell_type": "code",
   "execution_count": 11,
   "id": "cb815697",
   "metadata": {},
   "outputs": [
    {
     "data": {
      "text/plain": [
       "(221.52662417560558, 142.7342, 103.81300000000002, 133.88)"
      ]
     },
     "execution_count": 11,
     "metadata": {},
     "output_type": "execute_result"
    }
   ],
   "source": [
    "length_x = np.percentile(v[1:,0], 99.9) - np.percentile(v[1:,0], 0.1)\n",
    "length_y = np.percentile(v[1:,1], 99.9) - np.percentile(v[1:,1], 0.1)\n",
    "length_z = np.percentile(v[1:,2], 99.9) - np.percentile(v[1:,2], 0.1)\n",
    "\n",
    "diagonal_bbox = math.sqrt(length_x * length_x + length_y * length_y + length_z * length_z)\n",
    "diagonal_bbox, length_x, length_y, length_z"
   ]
  },
  {
   "cell_type": "code",
   "execution_count": 12,
   "id": "02e5374a",
   "metadata": {},
   "outputs": [],
   "source": [
    "def projectPointPlane(point, plane, planeD):\n",
    "    k = point.dot(plane) + planeD\n",
    "    return point - k * plane\n",
    "\n",
    "def distanceMetricRx(rxVectorA, rxProjA, rxVectorB, rxProjB):\n",
    "    module = np.linalg.norm(rxVectorA) * np.linalg.norm(rxVectorB)\n",
    "    angle = math.acos(min(1.0, abs(np.dot(rxVectorA, rxVectorB)) / module))\n",
    "    \n",
    "    origin = np.array([0, 0, 0])\n",
    "    #projectionA = projectPointPlane(origin, rxPairA[2], rxPairA[3])\n",
    "    #projectionB = projectPointPlane(origin, rxPairB[2], rxPairB[3])\n",
    "    distance = np.linalg.norm(rxProjA - rxProjB)\n",
    "    \n",
    "    return distance / diagonal_bbox, angle"
   ]
  },
  {
   "cell_type": "code",
   "execution_count": 13,
   "id": "c11079dc",
   "metadata": {},
   "outputs": [],
   "source": [
    "# iPoints : indexes list of points Sampled (KdTree)\n",
    "def baseQReflection(iPoints): \n",
    "    sample_size = len(iPoints)\n",
    "    lxPairs = []\n",
    "    \n",
    "    lk1 = np.percentile(k1_c, 99.5) - np.percentile(k1_c, 0.5)\n",
    "    lk2 = np.percentile(k2_c, 99.5) - np.percentile(k2_c, 0.5)\n",
    "    rd = np.sqrt(lk1*lk1 + lk2*lk2) / 16\n",
    "    kl = [[k1_c[i], k2_c[i]] for i in range(len(k1_c))]\n",
    "    tk = KDTree(kl)\n",
    "\n",
    "    for i in range(0, sample_size - 1):\n",
    "        idx = tk.query_ball_point([k1_c[i], k2_c[i]], r = rd, return_sorted=True)\n",
    "        idl = [kx for kx in idx if kx > i]\n",
    "        \n",
    "        for j in idl: #range(i + 1, sample_size):\n",
    "            ratio_1, ratio_2 = k1_c[i] / k1_c[j], k2_c[i] / k2_c[j]\n",
    "            ix, jx = iPoints[i], iPoints[j]\n",
    "            \n",
    "            if TH_RATIO_K < ratio_1 < 1/TH_RATIO_K and TH_RATIO_K < ratio_2 < 1/TH_RATIO_K: #ratio_1 * ratio_2 > 0\n",
    "                reflexNormal = v[ix] - v[jx]\n",
    "                reflexNormal = reflexNormal / np.linalg.norm(reflexNormal)\n",
    "                    \n",
    "                normalBalance = n_vertex[ix] + n_vertex[jx]\n",
    "                normalBalance = normalBalance / np.linalg.norm(normalBalance)\n",
    "                                \n",
    "                if abs(np.dot(normalBalance, reflexNormal)) < 1 - TH_COSINE:\n",
    "                    if reflexNormal[np.argmax(abs(reflexNormal))] < 0: #Correct direction\n",
    "                        reflexNormal = -reflexNormal\n",
    "                    \n",
    "                    middlePoint = (v[ix] + v[jx]) / 2\n",
    "                    reflexNormal_D = - np.dot(reflexNormal, middlePoint)\n",
    "                    origin = np.array([0, 0, 0])\n",
    "                    projection = projectPointPlane(origin, reflexNormal, reflexNormal_D)\n",
    "                    \n",
    "                    #Use projection point instead of D-component\n",
    "                    #xcPair = [ix, jx, reflexNormal.tolist(), projection.tolist(), i, j]\n",
    "                    xcPair = [ix, jx, reflexNormal, projection, i, j]\n",
    "                    lxPairs.append(xcPair)\n",
    "    \n",
    "    return lxPairs"
   ]
  },
  {
   "cell_type": "code",
   "execution_count": 14,
   "id": "9b8d4ad5",
   "metadata": {},
   "outputs": [
    {
     "name": "stdout",
     "output_type": "stream",
     "text": [
      "843\n",
      "0:00:00.681803\n"
     ]
    }
   ],
   "source": [
    "start = datetime.now()\n",
    "\n",
    "lRfxPairs = baseQReflection(oVertex) #v_indices\n",
    "print(len(lRfxPairs))\n",
    "\n",
    "end = datetime.now()\n",
    "print(end - start)"
   ]
  },
  {
   "cell_type": "code",
   "execution_count": 15,
   "id": "fd7a4530",
   "metadata": {},
   "outputs": [],
   "source": [
    "def correctDirection(nVector):\n",
    "    nVector = nVector * np.sign(nVector[np.argmax(abs(nVector))])\n",
    "    return nVector\n",
    "\n",
    "def normalized(X):\n",
    "    return X / np.linalg.norm(X)\n",
    "\n",
    "def projectPointLine(point, line, pointLine):\n",
    "    ap = point - pointLine\n",
    "    ab = line\n",
    "    return pointLine + np.dot(ap, ab)/np.dot(ab, ab) * ab\n",
    "\n",
    "def distancePointLine(point, line, pointLine):\n",
    "    return np.linalg.norm(point - projectPointLine(point, line, pointLine))\n",
    "\n",
    "def planesIntersection(pairM, pairN):\n",
    "    U = normalized(np.cross(pairM[2], pairN[2]))\n",
    "    M = np.array((pairM[2], pairN[2], U))\n",
    "    X = np.array((np.dot(pairM[2], pairM[3]), np.dot(pairN[2], pairN[3]), 0.))\n",
    "    \n",
    "    origin = np.array([0, 0, 0])\n",
    "    return correctDirection(U), projectPointLine(origin, U, np.linalg.solve(M, X))\n",
    "\n",
    "def reflectPointLine(point, line, pointLine):\n",
    "    projection = projectPointLine(point, line, pointLine)\n",
    "    return 2 * projection - point\n",
    "\n",
    "def reflectPointPlane(point, line, pointLine):\n",
    "    projection = projectPointPlane(point, line, pointLine)\n",
    "    return 2 * projection - point"
   ]
  },
  {
   "cell_type": "code",
   "execution_count": 16,
   "id": "45b67dbc",
   "metadata": {},
   "outputs": [],
   "source": [
    "def BaseContinuousQRotation(pairs):\n",
    "    lrPairs = []    \n",
    "    avg_k = []\n",
    "    #Average curvatures\n",
    "    for pair in pairs:\n",
    "        avg_k.append([(k1_c[pair[4]] + k1_c[pair[5]])/2, (k2_c[pair[4]] + k2_c[pair[5]])/2])\n",
    "    kt_rt = KDTree(avg_k)\n",
    "    \n",
    "    lk0, lk1 = [row[0] for row in avg_k], [row[1] for row in avg_k]\n",
    "    th0 = np.percentile(lk0, 99.5) - np.percentile(lk0, 0.5)\n",
    "    th1 = np.percentile(lk1, 99.5) - np.percentile(lk1, 0.5)\n",
    "    #th0, th1 = max(lk0) - min(lk0), max(lk1) - min(lk1)\n",
    "    rd = round(np.sqrt(th0**2 + th1**2) / 16, 3)\n",
    "    \n",
    "    for m in range(0, len(pairs) - 1):\n",
    "        rpM = pairs[m]\n",
    "        idx = kt_rt.query_ball_point([(k1_c[rpM[4]] + k1_c[rpM[5]])/2, \n",
    "                           (k2_c[rpM[4]] + k2_c[rpM[5]])/2], r = rd, return_sorted=True)\n",
    "        idl = [kx for kx in idx if kx > m]\n",
    "                \n",
    "        for n in idl: #range(m + 1, len(pairs)):\n",
    "            rpN = pairs[n]\n",
    "            ratio_k1 = (k1_c[rpM[4]] + k1_c[rpM[5]]) / (k1_c[rpN[4]] + k1_c[rpN[5]])\n",
    "            ratio_k2 = (k2_c[rpM[4]] + k2_c[rpM[5]]) / (k2_c[rpN[4]] + k2_c[rpN[5]])\n",
    "            nparallel = abs(np.dot(rpM[2], rpN[2])) < TH_RATIO_K\n",
    "            \n",
    "            if TH_RATIO_K < ratio_k1 < 1/TH_RATIO_K and TH_RATIO_K < ratio_k2 < 1/TH_RATIO_K and nparallel:\n",
    "                #print(m, rpM[2], n, rpN[2])\n",
    "                line = planesIntersection(rpM, rpN)\n",
    "                \n",
    "                p1_i = (v[rpM[0]] + v[rpM[1]]) / 2\n",
    "                p2_i = (v[rpN[0]] + v[rpN[1]]) / 2\n",
    "                dist_1i = distancePointLine(p1_i, line[0], line[1]) #distance\n",
    "                proj_1i = projectPointLine(p1_i, line[0], line[1]) #projection\n",
    "                \n",
    "                dist_2i = distancePointLine(p2_i, line[0], line[1]) #distance\n",
    "                proj_2i = projectPointLine(p2_i, line[0], line[1]) #projection\n",
    "                \n",
    "                if np.linalg.norm(proj_1i - proj_2i) < CLUSTER_EP[0] and dist_1i - dist_2i < CLUSTER_EP[0]:\n",
    "                    #line[0], line[1]\n",
    "                    rtPair = [rpM[0:2], rpN[0:2], line[0], line[1], rpM[4:6], rpN[4:6], m, n]\n",
    "                    lrPairs.append(rtPair)\n",
    "    return lrPairs"
   ]
  },
  {
   "cell_type": "code",
   "execution_count": 17,
   "id": "cd8aed39",
   "metadata": {},
   "outputs": [
    {
     "name": "stdout",
     "output_type": "stream",
     "text": [
      "0:00:02.102941\n"
     ]
    }
   ],
   "source": [
    "start = datetime.now()\n",
    "\n",
    "lcrPairs = BaseContinuousQRotation(lRfxPairs)\n",
    "\n",
    "end = datetime.now()\n",
    "print(end - start)"
   ]
  }
 ],
 "metadata": {
  "kernelspec": {
   "display_name": "Python 3 (ipykernel)",
   "language": "python",
   "name": "python3"
  },
  "language_info": {
   "codemirror_mode": {
    "name": "ipython",
    "version": 3
   },
   "file_extension": ".py",
   "mimetype": "text/x-python",
   "name": "python",
   "nbconvert_exporter": "python",
   "pygments_lexer": "ipython3",
   "version": "3.9.12"
  }
 },
 "nbformat": 4,
 "nbformat_minor": 5
}
