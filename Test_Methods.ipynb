{
 "cells": [
  {
   "cell_type": "code",
   "execution_count": 1,
   "id": "8bb766e0",
   "metadata": {},
   "outputs": [],
   "source": [
    "import numpy as np\n",
    "import random as rnd"
   ]
  },
  {
   "cell_type": "code",
   "execution_count": 2,
   "id": "d027ab87",
   "metadata": {},
   "outputs": [],
   "source": [
    "import igl\n",
    "import scipy as sp\n",
    "import meshplot as mp\n",
    "import numpy as np\n",
    "from meshplot import plot, subplot, interact\n",
    "import math"
   ]
  },
  {
   "cell_type": "code",
   "execution_count": 26,
   "id": "2ee4f0ac",
   "metadata": {},
   "outputs": [],
   "source": [
    "v, f = igl.read_triangle_mesh(\"3dPotteryDs/3D Models/Lagynos/qpvase5.obj\")"
   ]
  },
  {
   "cell_type": "code",
   "execution_count": 27,
   "id": "21f36e71",
   "metadata": {},
   "outputs": [
    {
     "data": {
      "text/plain": [
       "((1960, 3), numpy.ndarray, (1024, 3), numpy.ndarray)"
      ]
     },
     "execution_count": 27,
     "metadata": {},
     "output_type": "execute_result"
    }
   ],
   "source": [
    "f.shape, type(f), v.shape, type(v)"
   ]
  },
  {
   "cell_type": "code",
   "execution_count": 28,
   "id": "94561979",
   "metadata": {},
   "outputs": [],
   "source": [
    "def correctDirection(nVector):\n",
    "    nVector = nVector * np.sign(nVector[np.argmax(abs(nVector))])\n",
    "    return nVector"
   ]
  },
  {
   "cell_type": "code",
   "execution_count": 195,
   "id": "ca7d63ce",
   "metadata": {},
   "outputs": [],
   "source": [
    "TH_RATIO_CRV = 0.9\n",
    "TH_COSINE = 0.75\n",
    "#TH_MN_CURVATURE = 0.025"
   ]
  },
  {
   "cell_type": "code",
   "execution_count": 30,
   "id": "cd89cb71",
   "metadata": {},
   "outputs": [],
   "source": [
    "#Compute facet normals\n",
    "n_faces = igl.per_face_normals(v, f, np.array([0.0, 0.0, 0.0]))\n",
    "#Compute vertex normals\n",
    "n_vertex = igl.per_vertex_normals(v, f)\n",
    "#v1, v2: principal directions | k1, k2: principal values\n",
    "v1, v2, k1, k2 = igl.principal_curvature(v, f)"
   ]
  },
  {
   "cell_type": "code",
   "execution_count": 31,
   "id": "ac90c83e",
   "metadata": {},
   "outputs": [],
   "source": [
    "length_x = max(v[:][0]) - min(v[:][0])\n",
    "length_y = max(v[:][1]) - min(v[:][1])\n",
    "length_z = max(v[:][2]) - min(v[:][2])\n",
    "\n",
    "area = 2 * (length_x * length_y + length_x * length_z + length_y * length_z)\n",
    "diagonal_bbox = math.sqrt(length_x * length_x + length_y * length_y + length_z * length_z)"
   ]
  },
  {
   "cell_type": "code",
   "execution_count": 32,
   "id": "bcf579dd",
   "metadata": {},
   "outputs": [],
   "source": [
    "v_size = min(round(area * 125), round(v.shape[0] / 2))"
   ]
  },
  {
   "cell_type": "code",
   "execution_count": 56,
   "id": "ee2fe8d0",
   "metadata": {},
   "outputs": [
    {
     "data": {
      "text/plain": [
       "(512, 2)"
      ]
     },
     "execution_count": 56,
     "metadata": {},
     "output_type": "execute_result"
    }
   ],
   "source": [
    "v_size, round(v.shape[0] / v_size)"
   ]
  },
  {
   "cell_type": "code",
   "execution_count": 267,
   "id": "ea28c8d4",
   "metadata": {},
   "outputs": [
    {
     "data": {
      "text/plain": [
       "(0.10252667281446885,\n",
       " 0.3194790599674767,\n",
       " 0.5525401716109815,\n",
       " 1.7620566621015445)"
      ]
     },
     "execution_count": 267,
     "metadata": {},
     "output_type": "execute_result"
    }
   ],
   "source": [
    "np.percentile(abs(k1), 15), np.percentile(abs(k1), 40), np.percentile(abs(k1), 65), np.percentile(abs(k1), 90)"
   ]
  },
  {
   "cell_type": "code",
   "execution_count": 268,
   "id": "5439c9e9",
   "metadata": {},
   "outputs": [
    {
     "data": {
      "text/plain": [
       "(0.26357892002127953,\n",
       " 0.5451515355199719,\n",
       " 1.6161543821360465,\n",
       " 5.097082818947928)"
      ]
     },
     "execution_count": 268,
     "metadata": {},
     "output_type": "execute_result"
    }
   ],
   "source": [
    "np.percentile(abs(k2), 15), np.percentile(abs(k2), 40), np.percentile(abs(k2), 65), np.percentile(abs(k2), 90)"
   ]
  },
  {
   "cell_type": "code",
   "execution_count": 57,
   "id": "d190e45b",
   "metadata": {},
   "outputs": [],
   "source": [
    "v_ratio = round(v.shape[0] / v_size)\n",
    "pk1 = np.percentile(abs(k1), 10)\n",
    "pk2 = np.percentile(abs(k2), 10)\n",
    "v_indices = [] #np.array([0 for i in range(v_size)])\n",
    "\n",
    "for i in range(0, v_size):\n",
    "    index = rnd.randint(v_ratio * i, min(v_ratio * (i + 1) - 1, v.shape[0] - 1))\n",
    "    if abs(k1[index]) > pk1 or abs(k2[index]) > pk2:\n",
    "        v_indices.append(index) #v_indices[i] = index;"
   ]
  },
  {
   "cell_type": "code",
   "execution_count": 59,
   "id": "96eb1562",
   "metadata": {},
   "outputs": [
    {
     "data": {
      "text/plain": [
       "(254, 512, (254,), 509, 2, 1024)"
      ]
     },
     "execution_count": 59,
     "metadata": {},
     "output_type": "execute_result"
    }
   ],
   "source": [
    "s_size = min(round(area * 25), round(len(v_indices)/2))\n",
    "s_indices = np.array([0 for i in range(s_size)])\n",
    "s_size, v_size, s_indices.shape, len(v_indices), v_ratio, v.shape[0]"
   ]
  },
  {
   "cell_type": "code",
   "execution_count": 60,
   "id": "f6d101e9",
   "metadata": {},
   "outputs": [],
   "source": [
    "s_ratio = round(len(v_indices) / s_size)\n",
    "\n",
    "for i in range(0, s_size):\n",
    "    index = rnd.randint(s_ratio * i, min(s_ratio * (i + 1) - 1, len(v_indices) - 1));\n",
    "    s_indices[i] = v_indices[index];"
   ]
  },
  {
   "cell_type": "code",
   "execution_count": 482,
   "id": "60b953bd",
   "metadata": {},
   "outputs": [],
   "source": [
    "# iPoints : indexes list of points Sampled\n",
    "def baseReflection(iPoints): \n",
    "    sample_size = len(iPoints)\n",
    "    lxPairs = []\n",
    "    \n",
    "    for i in range(0, sample_size - 1):\n",
    "        for j in range(i + 1, sample_size):\n",
    "            ix = iPoints[i]\n",
    "            jx = iPoints[j]\n",
    "            \n",
    "            ratio_1 = abs(k1[ix] / k1[jx])\n",
    "            ratio_2 = abs(k2[ix] / k2[jx])\n",
    "            \n",
    "            if TH_RATIO_CRV < ratio_1 < 1/TH_RATIO_CRV and TH_RATIO_CRV < ratio_2 < 1/TH_RATIO_CRV:\n",
    "                reflexNormal = v[ix] - v[jx]\n",
    "                reflexNormal = reflexNormal / np.linalg.norm(reflexNormal)\n",
    "                    \n",
    "                normalBalance = n_vertex[ix] + n_vertex[jx]\n",
    "                normalBalance = normalBalance / np.linalg.norm(normalBalance)\n",
    "                                \n",
    "                if abs(np.dot(normalBalance, reflexNormal)) < 1 - TH_COSINE:\n",
    "                    if reflexNormal[np.argmax(abs(reflexNormal))] < 0: #Correct direction\n",
    "                        reflexNormal = -reflexNormal\n",
    "                    \n",
    "                    middlePoint = (v[ix] + v[jx]) / 2                    \n",
    "                    reflexNormal_D = - np.dot(reflexNormal, middlePoint)\n",
    "                    origin = np.array([0, 0, 0])\n",
    "                    projection = projectPointPlane(origin, reflexNormal, reflexNormal_D) \n",
    "                    \n",
    "                    #Use projection point instead of D-component\n",
    "                    xcPair = [ix, jx, reflexNormal, projection]\n",
    "                    lxPairs.append(xcPair)\n",
    "                   \n",
    "    return lxPairs"
   ]
  },
  {
   "cell_type": "code",
   "execution_count": 273,
   "id": "4f69f040",
   "metadata": {},
   "outputs": [
    {
     "data": {
      "text/plain": [
       "512"
      ]
     },
     "execution_count": 273,
     "metadata": {},
     "output_type": "execute_result"
    }
   ],
   "source": [
    "lxcPairs = baseReflection(s_indices)\n",
    "len(lxcPairs)"
   ]
  },
  {
   "cell_type": "code",
   "execution_count": 404,
   "id": "57d1cb59",
   "metadata": {},
   "outputs": [
    {
     "data": {
      "text/plain": [
       "[259, 285, array([ 0.70710678,  0.70710678, -0.        ]), array([0., 0., 0.])]"
      ]
     },
     "execution_count": 404,
     "metadata": {},
     "output_type": "execute_result"
    }
   ],
   "source": [
    "lxcPairs[22]"
   ]
  },
  {
   "cell_type": "code",
   "execution_count": 483,
   "id": "21a8d526",
   "metadata": {},
   "outputs": [
    {
     "name": "stdout",
     "output_type": "stream",
     "text": [
      "22 (0.0, 0.0)\n",
      "27 (1.0577484483319858e-07, 0.09817492626985724)\n",
      "78 (2.3141119828297346e-08, 0.09817454387963194)\n",
      "185 (0.002453352188755538, 0.19634849685190398)\n",
      "186 (0.003413188580357813, 0.09817467710707292)\n",
      "227 (0.0024530076321578613, 0.19634908590380687)\n",
      "233 (0.0028038893131595703, 0.09816014393018387)\n",
      "241 (0.003672185893630966, 0.19635707823462706)\n",
      "249 (0.0024530670812220505, 0.19634968064141764)\n",
      "250 (0.003121760987498162, 0.0)\n",
      "254 (0.0036715374832441507, 0.19635198782794855)\n",
      "265 (1.481113423227101e-07, 0.19635231157050412)\n",
      "269 (3.795926127280127e-07, 2.7739383084482916e-06)\n",
      "271 (0.0, 0.0)\n",
      "278 (0.005041819926094839, 0.09817225399172687)\n",
      "281 (0.006143674411385388, 0.09817806913206695)\n",
      "295 (0.005041376926852472, 0.09816941695128027)\n",
      "302 (0.0050405830447189616, 0.09815470335736799)\n",
      "363 (0.004415535600215444, 0.19635226916952062)\n",
      "364 (0.005620062736515237, 7.818779996154839e-06)\n",
      "368 (0.006608250494281115, 0.19635008725626182)\n",
      "371 (0.005041861329267942, 0.09817150176618136)\n",
      "374 (0.006607117451735888, 0.19633683359299298)\n",
      "385 (0.004416343750940382, 0.19636952001746624)\n",
      "391 (0.00660783724380872, 0.19635758463297287)\n",
      "396 (0.004415101794886837, 0.19635708173115235)\n",
      "397 (0.006143513504712385, 0.09817365560198744)\n",
      "401 (0.005619559760974337, 7.054814669127212e-06)\n",
      "427 (0.0050422765266217315, 0.09817223276985187)\n",
      "428 (0.006143547013152799, 0.09817612537846387)\n",
      "431 (0.006608150097785621, 0.19634972228281602)\n",
      "433 (0.006143616933657146, 0.09817449700330942)\n",
      "445 (0.004416218554228481, 0.19635706673110076)\n",
      "451 (0.006608532629413186, 0.1963464388739267)\n",
      "455 (0.005042355231366658, 0.09817296274433689)\n",
      "458 (0.0061428694901162805, 0.09817314348062788)\n",
      "475 (0.0044154616639447515, 0.19635519077733157)\n",
      "478 (0.005041937415102858, 0.09817148496273227)\n",
      "481 (0.006143327383902759, 0.0981728537506235)\n",
      "490 (0.004415245245869135, 0.19634147659822934)\n",
      "494 (0.005041405995991936, 0.09817236118007341)\n",
      "495 (0.005041599301980422, 0.09818269229014842)\n",
      "501 (0.005619473450744496, 0.0)\n",
      "507 (0.005041894325965611, 0.09817395419789073)\n"
     ]
    }
   ],
   "source": [
    "for i in range(0, len(lxcPairs)):\n",
    "    distanceMetric = distanceMetricRx(lxcPairs[22], lxcPairs[i])\n",
    "    if distanceMetric[0] < 0.01 and distanceMetric[1] < 0.25: #relative distance, angle\n",
    "        print(i, distanceMetric)"
   ]
  },
  {
   "cell_type": "code",
   "execution_count": 201,
   "id": "2d496795",
   "metadata": {},
   "outputs": [
    {
     "data": {
      "text/plain": [
       "(512, list, numpy.ndarray, numpy.float64)"
      ]
     },
     "execution_count": 201,
     "metadata": {},
     "output_type": "execute_result"
    }
   ],
   "source": [
    "len(lxcPairs), type(lxcPairs[1]), type(lxcPairs[1][2]), type(lxcPairs[1][2][2])"
   ]
  },
  {
   "cell_type": "code",
   "execution_count": 203,
   "id": "8e30cd56",
   "metadata": {},
   "outputs": [
    {
     "data": {
      "text/plain": [
       "(array([ 0.73575, -0.01815, -0.12484]),\n",
       " array([-0.25846642, -1.36020535, -1.40388536]),\n",
       " 0.00978210572280025,\n",
       " 0.5158379675871669,\n",
       " 5.419074537774634,\n",
       " 0.5185426111136144,\n",
       " 5.508625957435771)"
      ]
     },
     "execution_count": 203,
     "metadata": {},
     "output_type": "execute_result"
    }
   ],
   "source": [
    "ax = 134\n",
    "bx = 183\n",
    "v[ax] - v[bx], n_vertex[ax] + n_vertex[bx], np.dot(v[ax] - v[bx], n_vertex[ax] + n_vertex[bx]), k1[ax], k2[ax], k1[bx], k2[bx]"
   ]
  },
  {
   "cell_type": "code",
   "execution_count": 67,
   "id": "73260e9e",
   "metadata": {},
   "outputs": [],
   "source": [
    "def projectPointPlane(point, plane, planeD):\n",
    "    k = point.dot(plane) + planeD\n",
    "    return point - k * plane"
   ]
  },
  {
   "cell_type": "code",
   "execution_count": 561,
   "id": "7f9b661b",
   "metadata": {},
   "outputs": [],
   "source": [
    "def distanceMetricRx(rxPairA, rxPairB):\n",
    "    module = np.linalg.norm(rxPairA[2]) * np.linalg.norm(rxPairA[2])\n",
    "    angle = math.acos(min(1.0, abs(np.dot(rxPairA[2], rxPairB[2])) / module))\n",
    "    \n",
    "    origin = np.array([0, 0, 0])\n",
    "    #projectionA = projectPointPlane(origin, rxPairA[2], rxPairA[3])\n",
    "    #projectionB = projectPointPlane(origin, rxPairB[2], rxPairB[3])\n",
    "    distance = np.linalg.norm(rxPairA[3] - rxPairB[3])\n",
    "    \n",
    "    return distance / diagonal_bbox, angle"
   ]
  },
  {
   "cell_type": "code",
   "execution_count": 184,
   "id": "47b73368",
   "metadata": {},
   "outputs": [
    {
     "data": {
      "text/plain": [
       "9.314047731018992"
      ]
     },
     "execution_count": 184,
     "metadata": {},
     "output_type": "execute_result"
    }
   ],
   "source": [
    "diagonal_bbox"
   ]
  },
  {
   "cell_type": "code",
   "execution_count": 258,
   "id": "3bbf3a0c",
   "metadata": {},
   "outputs": [],
   "source": [
    "def epanechnikov_weight(distance, kernel_bandwidth):\n",
    "    c_distance = distance[0] * distance[1]\n",
    "    c_kernel_bandwidth = kernel_bandwidth[0] * kernel_bandwidth[1]\n",
    "    return max(0.0, 1.0 - (c_distance / c_kernel_bandwidth)) \n",
    "    #c_kernel_bandwidth **2"
   ]
  },
  {
   "cell_type": "code",
   "execution_count": 522,
   "id": "5bcca94c",
   "metadata": {},
   "outputs": [],
   "source": [
    "def shiftPair_Rx(rxPair, rxList, kernel_bandwidth):\n",
    "    totalW = 0.0\n",
    "    shifted_pair = [rxPair[0], rxPair[1], np.array([0.0, 0.0, 0.0]), np.array([0.0, 0.0, 0.0])]\n",
    "    \n",
    "    for i in range(len(rxList)):\n",
    "        distanceMetric = distanceMetricRx(rxPair, rxList[i])\n",
    "        \n",
    "        if distanceMetric[0] < kernel_bandwidth[0] and distanceMetric[1] < kernel_bandwidth[1]:           \n",
    "            # A list cannot directly handle a mathematical operations, while array can\n",
    "            weight = epanechnikov_weight(distanceMetric, kernel_bandwidth)\n",
    "            shifted_pair[2] += rxList[i][2] * weight\n",
    "            shifted_pair[3] += rxList[i][3] * weight\n",
    "            totalW += weight\n",
    "    \n",
    "    if totalW > 0:\n",
    "        shifted_pair[2] = shifted_pair[2] / np.linalg.norm(shifted_pair[2])\n",
    "        shifted_pair[3] = shifted_pair[3] / totalW\n",
    "        \n",
    "        return shifted_pair\n",
    "    else:\n",
    "        return rxPair"
   ]
  },
  {
   "cell_type": "code",
   "execution_count": 278,
   "id": "96da3d01",
   "metadata": {},
   "outputs": [],
   "source": [
    "EPSILON = 0.05\n",
    "\n",
    "#distance / bounding_box, angle\n",
    "KERNEL_BW = [0.05, 0.05]"
   ]
  },
  {
   "cell_type": "code",
   "execution_count": 231,
   "id": "626423b3",
   "metadata": {},
   "outputs": [
    {
     "data": {
      "text/plain": [
       "(0.001, 0.1)"
      ]
     },
     "execution_count": 231,
     "metadata": {},
     "output_type": "execute_result"
    }
   ],
   "source": [
    "KERNEL_BW[0], KERNEL_BW[1]"
   ]
  },
  {
   "cell_type": "code",
   "execution_count": 289,
   "id": "7933c796",
   "metadata": {},
   "outputs": [],
   "source": [
    "#lxcPairs\n",
    "def meanShift_Rx(lxPairs, kernel_bandwidth):\n",
    "    stop_moving = [False for i in range(len(lxPairs))]\n",
    "    shiftedPairs = lxPairs.copy()\n",
    "        \n",
    "    while True:\n",
    "        max_shift_distance = 0\n",
    "        \n",
    "        for i in range(len(lxPairs)):\n",
    "            if not stop_moving[i]:\n",
    "                #print('x = ', i, shiftedPairs[i])\n",
    "                pair_new = shiftPair_Rx(shiftedPairs[i], lxPairs, kernel_bandwidth)  \n",
    "                \n",
    "                #print('y = ', i, pair_new)\n",
    "                distance_metric = distanceMetricRx(pair_new, shiftedPairs[i])\n",
    "                shift_distance = distance_metric[0] * distance_metric[1]\n",
    "                max_shift_distance = max(max_shift_distance, shift_distance)\n",
    "                shiftedPairs[i] = pair_new\n",
    "                \n",
    "                if shift_distance < EPSILON:\n",
    "                    stop_moving[i] = True\n",
    "                \n",
    "        if max_shift_distance < EPSILON:\n",
    "            break\n",
    "            \n",
    "    return shiftedPairs"
   ]
  },
  {
   "cell_type": "code",
   "execution_count": 292,
   "id": "f93b5bb4",
   "metadata": {},
   "outputs": [
    {
     "name": "stdout",
     "output_type": "stream",
     "text": [
      "[259, 285, array([ 0.70710678,  0.70710678, -0.        ]), array([0., 0., 0.])] 22 [259, 285, array([ 0.70710678,  0.70710678, -0.        ]), array([0., 0., 0.])] (0.0, 0.0)\n",
      "[259, 285, array([ 0.70710678,  0.70710678, -0.        ]), array([0., 0., 0.])] 250 [550, 570, array([ 0.70710678,  0.70710678, -0.        ]), array([-0.02056, -0.02056,  0.     ])] (0.003121760987498162, 0.0)\n",
      "[259, 285, array([ 0.70710678,  0.70710678, -0.        ]), array([0., 0., 0.])] 269 [584, 600, array([ 0.70710874,  0.70710482, -0.        ]), array([2.50001387e-06, 2.50000000e-06, 0.00000000e+00])] (3.795926127280127e-07, 2.7739383084482916e-06)\n",
      "[259, 285, array([ 0.70710678,  0.70710678, -0.        ]), array([0., 0., 0.])] 271 [587, 597, array([ 0.70710678,  0.70710678, -0.        ]), array([0., 0., 0.])] (0.0, 0.0)\n",
      "[259, 285, array([ 0.70710678,  0.70710678, -0.        ]), array([0., 0., 0.])] 364 [773, 795, array([ 0.70710125,  0.70711231, -0.        ]), array([-0.03701359, -0.03701417,  0.        ])] (0.005620062736515237, 7.818779996154839e-06)\n",
      "[259, 285, array([ 0.70710678,  0.70710678, -0.        ]), array([0., 0., 0.])] 401 [811, 821, array([ 0.70710179,  0.70711177, -0.        ]), array([-0.03701031, -0.03701083,  0.        ])] (0.005619559760974337, 7.054814669127212e-06)\n",
      "[259, 285, array([ 0.70710678,  0.70710678, -0.        ]), array([0., 0., 0.])] 501 [996, 1020, array([ 0.70710678,  0.70710678, -0.        ]), array([-0.03701, -0.03701,  0.     ])] (0.005619473450744496, 0.0)\n"
     ]
    }
   ],
   "source": [
    "shiftedPairsFx = meanShift_Rx(lxcPairs, KERNEL_BW)"
   ]
  },
  {
   "cell_type": "code",
   "execution_count": 312,
   "id": "8ac68db7",
   "metadata": {},
   "outputs": [
    {
     "data": {
      "text/plain": [
       "512"
      ]
     },
     "execution_count": 312,
     "metadata": {},
     "output_type": "execute_result"
    }
   ],
   "source": [
    "len(shiftedPairsFx)"
   ]
  },
  {
   "cell_type": "code",
   "execution_count": 486,
   "id": "47ed06c2",
   "metadata": {},
   "outputs": [],
   "source": [
    "#distance / bounding_box, angle\n",
    "CLUSTER_EP = [0.1, 0.1]\n",
    "\n",
    "#distances_line / #distance_projections\n",
    "CLUSTER_RT = [0.05, 0.05]"
   ]
  },
  {
   "cell_type": "code",
   "execution_count": 371,
   "id": "5ec755d5",
   "metadata": {},
   "outputs": [],
   "source": [
    "def clusterRx(pairs, shiftedPairs):\n",
    "    cluster_set = []\n",
    "    \n",
    "    for i in range(0, len(shiftedPairs)):\n",
    "        found = False\n",
    "        c = 0\n",
    "        \n",
    "        for c in range(0, len(cluster_set)):\n",
    "            distance = distanceMetricRx(shiftedPairs[i], cluster_set[c][0])\n",
    "            if distance[0] < CLUSTER_EP[0] and distance[1] < CLUSTER_EP[1]:\n",
    "                found = True\n",
    "                break\n",
    "        \n",
    "        if not found:\n",
    "            #mode, original points, shifted points\n",
    "            cluster = [shiftedPairs[i], [], [], []]\n",
    "            cluster_set.append(cluster)\n",
    "            c = len(cluster_set) - 1\n",
    "        \n",
    "        cluster_set[c][1].append(i)\n",
    "        cluster_set[c][2].append(pairs[i])\n",
    "        cluster_set[c][3].append(shiftedPairs[i])\n",
    "    \n",
    "    return cluster_set"
   ]
  },
  {
   "cell_type": "code",
   "execution_count": 391,
   "id": "f33cdfbf",
   "metadata": {},
   "outputs": [],
   "source": [
    "n_cluster = clusterRx(lxcPairs, shiftedPairsFx)\n",
    "#n_cluster"
   ]
  },
  {
   "cell_type": "code",
   "execution_count": 392,
   "id": "a1ffe0ca",
   "metadata": {},
   "outputs": [
    {
     "data": {
      "text/plain": [
       "128"
      ]
     },
     "execution_count": 392,
     "metadata": {},
     "output_type": "execute_result"
    }
   ],
   "source": [
    "len(n_cluster)"
   ]
  },
  {
   "cell_type": "code",
   "execution_count": 528,
   "id": "081262df",
   "metadata": {},
   "outputs": [
    {
     "data": {
      "text/plain": [
       "[[127,\n",
       "  159,\n",
       "  array([ 0.83811743, -0.32647235,  0.43700684]),\n",
       "  array([ 1.88460393, -0.73419254,  0.98287473])],\n",
       " [11, 54, 58, 68, 71, 123, 154],\n",
       " [[127,\n",
       "   159,\n",
       "   array([ 0.8375182 , -0.32672394,  0.43796659]),\n",
       "   array([ 2.01971781, -0.78791142,  1.05617875])],\n",
       "  [291,\n",
       "   363,\n",
       "   array([ 0.87575126, -0.31365869,  0.36698496]),\n",
       "   array([ 1.54508682, -0.55338762,  0.6474711 ])],\n",
       "  [291,\n",
       "   395,\n",
       "   array([ 0.86620311, -0.29372365,  0.40425065]),\n",
       "   array([ 1.67066883, -0.56651257,  0.7796889 ])],\n",
       "  [292,\n",
       "   363,\n",
       "   array([ 0.84831528, -0.34970207,  0.39757974]),\n",
       "   array([ 1.6214583 , -0.66841579,  0.75992852])],\n",
       "  [292,\n",
       "   395,\n",
       "   array([ 0.83873628, -0.32621157,  0.43601315]),\n",
       "   array([ 1.74479847, -0.67860837,  0.90702537])],\n",
       "  [313,\n",
       "   401,\n",
       "   array([ 0.82535571, -0.3938982 ,  0.40451471]),\n",
       "   array([ 1.60413969, -0.7655702 ,  0.78620417])],\n",
       "  [342,\n",
       "   371,\n",
       "   array([ 0.83053951, -0.37785531,  0.40918149]),\n",
       "   array([ 1.57229828, -0.71531968,  0.77462343])]],\n",
       " [[127,\n",
       "   159,\n",
       "   array([ 0.83811743, -0.32647235,  0.43700684]),\n",
       "   array([ 1.88460393, -0.73419254,  0.98287473])],\n",
       "  [291,\n",
       "   363,\n",
       "   array([ 0.87215184, -0.30580303,  0.38188436]),\n",
       "   array([ 1.59500712, -0.55860494,  0.7000292 ])],\n",
       "  [291,\n",
       "   395,\n",
       "   array([ 0.87019426, -0.30171589,  0.38952468]),\n",
       "   array([ 1.62074854, -0.56129525,  0.7271308 ])],\n",
       "  [292,\n",
       "   363,\n",
       "   array([ 0.83991759, -0.35405133,  0.41132238]),\n",
       "   array([ 1.63436709, -0.68761772,  0.80141418])],\n",
       "  [292,\n",
       "   395,\n",
       "   array([ 0.84074532, -0.3320991 ,  0.4276184 ]),\n",
       "   array([ 1.81797432, -0.71701099,  0.92751073])],\n",
       "  [313,\n",
       "   401,\n",
       "   array([ 0.82791888, -0.38607839,  0.4068093 ]),\n",
       "   array([ 1.58858988, -0.74103027,  0.7805487 ])],\n",
       "  [342,\n",
       "   371,\n",
       "   array([ 0.83456827, -0.37447088,  0.40406356]),\n",
       "   array([ 1.59840266, -0.71742419,  0.77388829])]]]"
      ]
     },
     "execution_count": 528,
     "metadata": {},
     "output_type": "execute_result"
    }
   ],
   "source": [
    "n_cluster[9]"
   ]
  },
  {
   "cell_type": "code",
   "execution_count": 419,
   "id": "d1f58ca0",
   "metadata": {},
   "outputs": [
    {
     "name": "stdout",
     "output_type": "stream",
     "text": [
      "9 7\n",
      "10 13\n",
      "12 23\n",
      "14 30\n",
      "15 12\n",
      "16 34\n",
      "17 25\n",
      "18 27\n",
      "19 4\n",
      "20 24\n",
      "25 26\n",
      "27 5\n",
      "28 4\n",
      "29 26\n",
      "30 10\n",
      "32 15\n",
      "42 21\n",
      "96 27\n",
      "103 9\n",
      "104 6\n"
     ]
    }
   ],
   "source": [
    "for x in range(0, len(n_cluster)):\n",
    "    if len(n_cluster[x][1]) > 3:\n",
    "        print(x, len(n_cluster[x][1]))"
   ]
  },
  {
   "cell_type": "code",
   "execution_count": 398,
   "id": "720edd3b",
   "metadata": {},
   "outputs": [],
   "source": [
    "def clusterRx2(pairs):\n",
    "    cluster_set = []\n",
    "    \n",
    "    for i in range(0, len(pairs)):\n",
    "        found = False\n",
    "        c = 0\n",
    "        \n",
    "        for c in range(0, len(cluster_set)):\n",
    "            distance = distanceMetricRx(pairs[i], cluster_set[c][0])\n",
    "            if distance[0] < CLUSTER_EP[0] and distance[1] < CLUSTER_EP[1]:\n",
    "                found = True\n",
    "                break\n",
    "        \n",
    "        if not found:\n",
    "            #mode, original points\n",
    "            cluster = [pairs[i], [], []]\n",
    "            cluster_set.append(cluster)\n",
    "            c = len(cluster_set) - 1\n",
    "        \n",
    "        cluster_set[c][1].append(i)\n",
    "        cluster_set[c][2].append(pairs[i])\n",
    "    \n",
    "    return cluster_set"
   ]
  },
  {
   "cell_type": "code",
   "execution_count": 399,
   "id": "12db4f62",
   "metadata": {},
   "outputs": [],
   "source": [
    "n_cluster2 = clusterRx2(lxcPairs)"
   ]
  },
  {
   "cell_type": "code",
   "execution_count": 418,
   "id": "6a486d65",
   "metadata": {},
   "outputs": [
    {
     "name": "stdout",
     "output_type": "stream",
     "text": [
      "18\n"
     ]
    }
   ],
   "source": [
    "for x in range(0, len(n_cluster2)):\n",
    "    if (22 in n_cluster2[x][1]):\n",
    "        print(x)"
   ]
  },
  {
   "cell_type": "code",
   "execution_count": 420,
   "id": "3e996b2b",
   "metadata": {},
   "outputs": [
    {
     "name": "stdout",
     "output_type": "stream",
     "text": [
      "9 7\n",
      "10 12\n",
      "12 23\n",
      "14 30\n",
      "15 13\n",
      "16 34\n",
      "17 24\n",
      "18 27\n",
      "20 24\n",
      "25 26\n",
      "27 4\n",
      "28 4\n",
      "29 26\n",
      "30 10\n",
      "32 20\n",
      "43 21\n",
      "78 4\n",
      "93 28\n",
      "101 9\n"
     ]
    }
   ],
   "source": [
    "for x in range(0, len(n_cluster2)):\n",
    "    if len(n_cluster2[x][1]) > 3:\n",
    "        print(x, len(n_cluster2[x][1]))"
   ]
  },
  {
   "cell_type": "code",
   "execution_count": 427,
   "id": "5b96002b",
   "metadata": {},
   "outputs": [],
   "source": [
    "def normalized(X):\n",
    "    return X / np.linalg.norm(X)"
   ]
  },
  {
   "cell_type": "code",
   "execution_count": 428,
   "id": "895678bf",
   "metadata": {},
   "outputs": [],
   "source": [
    "A = [1/3, 1/3, 1/3, -3]\n",
    "B = [1, 0, 0, -2]\n",
    "\n",
    "U = normalized(np.cross(A[:-1], B[:-1]))\n",
    "M = np.array((A[:-1], B[:-1], U))\n",
    "X = np.array((-A[-1], -B[-1], 0.))"
   ]
  },
  {
   "cell_type": "code",
   "execution_count": 432,
   "id": "c3b9462f",
   "metadata": {},
   "outputs": [
    {
     "data": {
      "text/plain": [
       "(array([ 0.        ,  0.70710678, -0.70710678]),\n",
       " array([[ 0.33333333,  0.33333333,  0.33333333],\n",
       "        [ 1.        ,  0.        ,  0.        ],\n",
       "        [ 0.        ,  0.70710678, -0.70710678]]),\n",
       " array([3., 2., 0.]),\n",
       " array([2. , 3.5, 3.5]))"
      ]
     },
     "execution_count": 432,
     "metadata": {},
     "output_type": "execute_result"
    }
   ],
   "source": [
    "U, M, X, np.linalg.solve(M, X)"
   ]
  },
  {
   "cell_type": "code",
   "execution_count": 456,
   "id": "2d0b24c6",
   "metadata": {},
   "outputs": [],
   "source": [
    "def projectPointLine(point, line, pointLine):\n",
    "    ap = point - pointLine\n",
    "    ab = line\n",
    "    return pointLine + np.dot(ap, ab)/np.dot(ab, ab) * ab"
   ]
  },
  {
   "cell_type": "code",
   "execution_count": 477,
   "id": "6dfcbc6a",
   "metadata": {},
   "outputs": [],
   "source": [
    "def distancePointLine(point, line, pointLine):\n",
    "    return np.linalg.norm(point - projectPointLine(point, line, pointLine))"
   ]
  },
  {
   "cell_type": "code",
   "execution_count": 479,
   "id": "d56cb9cc",
   "metadata": {},
   "outputs": [
    {
     "data": {
      "text/plain": [
       "1.0620432616075952"
      ]
     },
     "execution_count": 479,
     "metadata": {},
     "output_type": "execute_result"
    }
   ],
   "source": [
    "distancePointLine(np.array([0, 0, 0]), np.array([0.31361367, 0.27279294, 0.90952212]), np.array([1, 2, 3]))"
   ]
  },
  {
   "cell_type": "code",
   "execution_count": 460,
   "id": "0dc07d85",
   "metadata": {},
   "outputs": [
    {
     "data": {
      "text/plain": [
       "array([-0.12517242,  1.0212828 , -0.26315243])"
      ]
     },
     "execution_count": 460,
     "metadata": {},
     "output_type": "execute_result"
    }
   ],
   "source": [
    "projectPointLine(np.array([0, 0, 0]), np.array([0.31361367, 0.27279294, 0.90952212]), np.array([1, 2, 3]))"
   ]
  },
  {
   "cell_type": "code",
   "execution_count": 461,
   "id": "2ae4bc23",
   "metadata": {},
   "outputs": [
    {
     "data": {
      "text/plain": [
       "-4.523009744517026e-10"
      ]
     },
     "execution_count": 461,
     "metadata": {},
     "output_type": "execute_result"
    }
   ],
   "source": [
    "np.dot([-0.12517242,  1.0212828 , -0.26315243], [0.31361367, 0.27279294, 0.90952212])"
   ]
  },
  {
   "cell_type": "code",
   "execution_count": 435,
   "id": "f414d811",
   "metadata": {},
   "outputs": [
    {
     "data": {
      "text/plain": [
       "(array([0.31361367, 0.27279294, 0.90952212]),\n",
       " array([1.56130636, 1.35808284, 4.52799987]),\n",
       " array([0.10147684, 0.0345258 , 0.99423861]),\n",
       " array([0.49051945, 0.16689105, 4.8059574 ]))"
      ]
     },
     "execution_count": 435,
     "metadata": {},
     "output_type": "execute_result"
    }
   ],
   "source": [
    "lxcPairs[1][2], lxcPairs[1][3], lxcPairs[2][2], lxcPairs[2][3]"
   ]
  },
  {
   "cell_type": "code",
   "execution_count": 439,
   "id": "bcfd3b00",
   "metadata": {},
   "outputs": [
    {
     "data": {
      "text/plain": [
       "array([ 0.73665951, -0.67427918, -0.05177213])"
      ]
     },
     "execution_count": 439,
     "metadata": {},
     "output_type": "execute_result"
    }
   ],
   "source": [
    "normalized(np.cross(lxcPairs[1][2], lxcPairs[2][2]))"
   ]
  },
  {
   "cell_type": "code",
   "execution_count": 466,
   "id": "bc7cfe1e",
   "metadata": {},
   "outputs": [
    {
     "data": {
      "text/plain": [
       "(-4.978438444982922, -4.833806832055721)"
      ]
     },
     "execution_count": 466,
     "metadata": {},
     "output_type": "execute_result"
    }
   ],
   "source": [
    "-np.dot(lxcPairs[1][2], lxcPairs[1][3]), -np.dot(lxcPairs[2][2], lxcPairs[2][3])"
   ]
  },
  {
   "cell_type": "code",
   "execution_count": 480,
   "id": "35a05724",
   "metadata": {},
   "outputs": [],
   "source": [
    "def planesIntersection(pairM, pairN):\n",
    "    U = normalized(np.cross(pairM[2], pairN[2]))\n",
    "    M = np.array((pairM[2], pairN[2], U))\n",
    "    X = np.array((np.dot(pairM[2], pairM[3]), np.dot(pairN[2], pairN[3]), 0.))\n",
    "    \n",
    "    origin = np.array([0, 0, 0])\n",
    "    return correctDirection(U), projectPointLine(origin, U, np.linalg.solve(M, X))"
   ]
  },
  {
   "cell_type": "code",
   "execution_count": 481,
   "id": "7aa48d5d",
   "metadata": {},
   "outputs": [
    {
     "data": {
      "text/plain": [
       "(array([ 0.73665951, -0.67427918, -0.05177213]),\n",
       " array([1.32836568, 1.09128052, 4.6883425 ]))"
      ]
     },
     "execution_count": 481,
     "metadata": {},
     "output_type": "execute_result"
    }
   ],
   "source": [
    "L = planesIntersection(lxcPairs[1], lxcPairs[2])\n",
    "L"
   ]
  },
  {
   "cell_type": "code",
   "execution_count": 467,
   "id": "6a56a280",
   "metadata": {},
   "outputs": [
    {
     "data": {
      "text/plain": [
       "(0.0, -8.881784197001252e-16)"
      ]
     },
     "execution_count": 467,
     "metadata": {},
     "output_type": "execute_result"
    }
   ],
   "source": [
    "pM = lxcPairs[1]\n",
    "pN = lxcPairs[2]\n",
    "np.dot(L[1],pM[2]) - np.dot(pM[2],pM[3]), np.dot(L[1],pN[2]) - np.dot(pN[2],pN[3])"
   ]
  },
  {
   "cell_type": "code",
   "execution_count": 470,
   "id": "cab422a9",
   "metadata": {},
   "outputs": [
    {
     "data": {
      "text/plain": [
       "(0.08947648543259511, 5.275059058765836)"
      ]
     },
     "execution_count": 470,
     "metadata": {},
     "output_type": "execute_result"
    }
   ],
   "source": [
    "k1[lxcPairs[1][0]], k2[lxcPairs[1][0]]"
   ]
  },
  {
   "cell_type": "code",
   "execution_count": 493,
   "id": "eea36e81",
   "metadata": {},
   "outputs": [
    {
     "data": {
      "text/plain": [
       "(False,\n",
       " 0.9986857980835615,\n",
       " array([0.10147684, 0.0345258 , 0.99423861]),\n",
       " array([ 0.13308172, -0.00571861,  0.99108857]))"
      ]
     },
     "execution_count": 493,
     "metadata": {},
     "output_type": "execute_result"
    }
   ],
   "source": [
    "not_parallel = np.dot(lxcPairs[2][2], lxcPairs[3][2]) < TH_RATIO_CRV\n",
    "not_parallel, np.dot(lxcPairs[2][2], lxcPairs[3][2]), lxcPairs[2][2], lxcPairs[3][2]"
   ]
  },
  {
   "cell_type": "code",
   "execution_count": 505,
   "id": "a9e454bc",
   "metadata": {},
   "outputs": [],
   "source": [
    "def BaseContinuousRotation(pairs):\n",
    "    lrPairs = []\n",
    "    for m in range(0, len(pairs) - 1):\n",
    "        for n in range(m+1, len(pairs)):\n",
    "            rpM = pairs[m]\n",
    "            rpN = pairs[n]            \n",
    "            ratio_k1 = max(k1[rpM[0]], k1[rpM[1]]) / max(k1[rpN[0]], k1[rpN[0]])\n",
    "            ratio_k2 = max(k2[rpM[0]], k2[rpM[1]]) / max(k2[rpN[0]], k2[rpN[0]])\n",
    "            not_parallel = np.dot(rpM[2], rpN[2]) < TH_RATIO_CRV\n",
    "            \n",
    "            if TH_RATIO_CRV < ratio_k1 < 1 / TH_RATIO_CRV and TH_RATIO_CRV < ratio_k2 < 1 / TH_RATIO_CRV and not_parallel:\n",
    "                #print(m, rpM[2], n, rpN[2])\n",
    "                line = planesIntersection(rpM, rpN)\n",
    "                \n",
    "                p1_i = v[rpM[0]]\n",
    "                p2_i = v[rpN[0]]                \n",
    "                distance_1i = distancePointLine(p1_i, line[0], line[1])\n",
    "                projection_1i = projectPointLine(p1_i, line[0], line[1])\n",
    "                \n",
    "                distance_2i = distancePointLine(p2_i, line[0], line[1])\n",
    "                projection_2i = projectPointLine(p2_i, line[0], line[1])\n",
    "                \n",
    "                if np.linalg.norm(projection_1i - projection_2i) < CLUSTER_EP[0] and distance_1i - distance_2i < CLUSTER_EP[0]:\n",
    "                    #line[0], line[1]\n",
    "                    rtPair = [rpM[0], rpM[1], rpN[0], rpN[1], line]\n",
    "                    lrPairs.append(rtPair)\n",
    "    return lrPairs"
   ]
  },
  {
   "cell_type": "code",
   "execution_count": 506,
   "id": "21fc25f1",
   "metadata": {},
   "outputs": [],
   "source": [
    "lcrPairs = BaseContinuousRotation(lxcPairs)"
   ]
  },
  {
   "cell_type": "code",
   "execution_count": 507,
   "id": "074d8fb3",
   "metadata": {},
   "outputs": [
    {
     "data": {
      "text/plain": [
       "5057"
      ]
     },
     "execution_count": 507,
     "metadata": {},
     "output_type": "execute_result"
    }
   ],
   "source": [
    "len(lcrPairs)"
   ]
  },
  {
   "cell_type": "code",
   "execution_count": 540,
   "id": "f4d31c03",
   "metadata": {},
   "outputs": [
    {
     "data": {
      "text/plain": [
       "(array([-0. ,  0. ,  0.5]),\n",
       " array([3.03754315e-06, 1.68672731e-06, 0.00000000e+00]))"
      ]
     },
     "execution_count": 540,
     "metadata": {},
     "output_type": "execute_result"
    }
   ],
   "source": [
    "0.5*lcrPairs[4][4][0], 0.5*lcrPairs[4][4][1]"
   ]
  },
  {
   "cell_type": "code",
   "execution_count": 545,
   "id": "ec5d320f",
   "metadata": {},
   "outputs": [],
   "source": [
    "shifted_pair = [lcrPairs[4][0], lcrPairs[4][1], lcrPairs[4][2], lcrPairs[4][3], [np.array([0.0, 0.0, 0.0]), np.array([0.0, 0.0, 0.0])]]"
   ]
  },
  {
   "cell_type": "code",
   "execution_count": 546,
   "id": "75321193",
   "metadata": {},
   "outputs": [
    {
     "data": {
      "text/plain": [
       "[259, 260, 259, 273, [array([0., 0., 0.]), array([0., 0., 0.])]]"
      ]
     },
     "execution_count": 546,
     "metadata": {},
     "output_type": "execute_result"
    }
   ],
   "source": [
    "shifted_pair"
   ]
  },
  {
   "cell_type": "code",
   "execution_count": 518,
   "id": "8f9dbc75",
   "metadata": {},
   "outputs": [
    {
     "data": {
      "text/plain": [
       "0.0"
      ]
     },
     "execution_count": 518,
     "metadata": {},
     "output_type": "execute_result"
    }
   ],
   "source": [
    "va = np.array([-0.,  0.,  1.])\n",
    "vb = np.array([-0.,  0.,  1.])\n",
    "vc = np.dot(va, vb)\n",
    "math.acos(vc)"
   ]
  },
  {
   "cell_type": "code",
   "execution_count": 562,
   "id": "b6b44247",
   "metadata": {},
   "outputs": [],
   "source": [
    "def distanceMetricRt(rtPairA, rtPairB):\n",
    "    module = np.linalg.norm(rtPairA[4][0]) * np.linalg.norm(rtPairB[4][0])\n",
    "    angle = math.acos(min(1.0, abs(np.dot(rtPairA[4][0], rtPairB[4][0])) / module))\n",
    "        \n",
    "    origin = np.array([0, 0, 0])\n",
    "    distance = np.linalg.norm(rtPairA[4][1] - rtPairB[4][1])\n",
    "    \n",
    "    return distance / diagonal_bbox, angle"
   ]
  },
  {
   "cell_type": "code",
   "execution_count": 548,
   "id": "e8c6daa8",
   "metadata": {},
   "outputs": [],
   "source": [
    "def shiftPair_Rt(rtPair, rtList, kernel_bandwidth):\n",
    "    totalW = 0.0\n",
    "    shifted_pair = [rtPair[0], rtPair[1], rtPair[2], rtPair[3], [np.array([0.0, 0.0, 0.0]), np.array([0.0, 0.0, 0.0])]]\n",
    "    \n",
    "    for i in range(len(rtList)):\n",
    "        distanceMetric = distanceMetricRt(rtPair, rtList[i])\n",
    "        \n",
    "        if distanceMetric[0] < kernel_bandwidth[0] and distanceMetric[1] < kernel_bandwidth[1]:            \n",
    "            # A list cannot directly handle a mathematical operations, while array can\n",
    "            weight = epanechnikov_weight(distanceMetric, kernel_bandwidth)\n",
    "            shifted_pair[4][0] += rtList[i][4][0] * weight\n",
    "            shifted_pair[4][1] += rtList[i][4][1] * weight\n",
    "            totalW += weight\n",
    "    \n",
    "    if totalW > 0:\n",
    "        shifted_pair[4][0] = shifted_pair[4][0] / np.linalg.norm(shifted_pair[4])\n",
    "        shifted_pair[4][1] = shifted_pair[4][1] / totalW\n",
    "        \n",
    "        return shifted_pair\n",
    "    else:\n",
    "        return rtPair"
   ]
  },
  {
   "cell_type": "code",
   "execution_count": 554,
   "id": "71ba81ba",
   "metadata": {},
   "outputs": [],
   "source": [
    "#lxcPairs\n",
    "def meanShift_Rt(lrPairs, kernel_bandwidth):\n",
    "    stop_moving = [False for i in range(len(lrPairs))]\n",
    "    shiftedPairs = lrPairs.copy()\n",
    "        \n",
    "    while True:\n",
    "        max_shift_distance = 0\n",
    "        \n",
    "        for i in range(len(lrPairs)):\n",
    "            if not stop_moving[i]:\n",
    "                pair_new = shiftPair_Rt(shiftedPairs[i], lrPairs, kernel_bandwidth)  \n",
    "                \n",
    "                distance_metric = distanceMetricRt(pair_new, shiftedPairs[i])\n",
    "                shift_distance = distance_metric[0] * distance_metric[1]\n",
    "                max_shift_distance = max(max_shift_distance, shift_distance)\n",
    "                shiftedPairs[i] = pair_new\n",
    "                \n",
    "                if shift_distance < EPSILON:\n",
    "                    stop_moving[i] = True\n",
    "                \n",
    "        if max_shift_distance < EPSILON:\n",
    "            break\n",
    "            \n",
    "    return shiftedPairs"
   ]
  },
  {
   "cell_type": "code",
   "execution_count": 550,
   "id": "6cc23acd",
   "metadata": {},
   "outputs": [],
   "source": [
    "def clusterRt(pairs, shiftedPairs):\n",
    "    cluster_set = []\n",
    "    \n",
    "    for i in range(0, len(shiftedPairs)):\n",
    "        found = False\n",
    "        c = 0\n",
    "        \n",
    "        for c in range(0, len(cluster_set)):\n",
    "            distance = distanceMetricRt(shiftedPairs[i], cluster_set[c][0])\n",
    "            if distance[0] < CLUSTER_EP[0] and distance[1] < CLUSTER_EP[1]:\n",
    "                found = True\n",
    "                break\n",
    "        \n",
    "        if not found:\n",
    "            #mode, original points, shifted points\n",
    "            cluster = [shiftedPairs[i], [], [], []]\n",
    "            cluster_set.append(cluster)\n",
    "            c = len(cluster_set) - 1\n",
    "        \n",
    "        cluster_set[c][1].append(i)\n",
    "        cluster_set[c][2].append(pairs[i])\n",
    "        cluster_set[c][3].append(shiftedPairs[i])\n",
    "    \n",
    "    return cluster_set"
   ]
  },
  {
   "cell_type": "code",
   "execution_count": 563,
   "id": "19af2993",
   "metadata": {},
   "outputs": [
    {
     "ename": "KeyboardInterrupt",
     "evalue": "",
     "output_type": "error",
     "traceback": [
      "\u001b[1;31m---------------------------------------------------------------------------\u001b[0m",
      "\u001b[1;31mKeyboardInterrupt\u001b[0m                         Traceback (most recent call last)",
      "Input \u001b[1;32mIn [563]\u001b[0m, in \u001b[0;36m<cell line: 1>\u001b[1;34m()\u001b[0m\n\u001b[1;32m----> 1\u001b[0m shiftedPairsRt \u001b[38;5;241m=\u001b[39m \u001b[43mmeanShift_Rt\u001b[49m\u001b[43m(\u001b[49m\u001b[43mlcrPairs\u001b[49m\u001b[43m,\u001b[49m\u001b[43m \u001b[49m\u001b[43mKERNEL_BW\u001b[49m\u001b[43m)\u001b[49m\n",
      "Input \u001b[1;32mIn [554]\u001b[0m, in \u001b[0;36mmeanShift_Rt\u001b[1;34m(lrPairs, kernel_bandwidth)\u001b[0m\n\u001b[0;32m      9\u001b[0m \u001b[38;5;28;01mfor\u001b[39;00m i \u001b[38;5;129;01min\u001b[39;00m \u001b[38;5;28mrange\u001b[39m(\u001b[38;5;28mlen\u001b[39m(lrPairs)):\n\u001b[0;32m     10\u001b[0m     \u001b[38;5;28;01mif\u001b[39;00m \u001b[38;5;129;01mnot\u001b[39;00m stop_moving[i]:\n\u001b[1;32m---> 11\u001b[0m         pair_new \u001b[38;5;241m=\u001b[39m \u001b[43mshiftPair_Rt\u001b[49m\u001b[43m(\u001b[49m\u001b[43mshiftedPairs\u001b[49m\u001b[43m[\u001b[49m\u001b[43mi\u001b[49m\u001b[43m]\u001b[49m\u001b[43m,\u001b[49m\u001b[43m \u001b[49m\u001b[43mlrPairs\u001b[49m\u001b[43m,\u001b[49m\u001b[43m \u001b[49m\u001b[43mkernel_bandwidth\u001b[49m\u001b[43m)\u001b[49m  \n\u001b[0;32m     13\u001b[0m         distance_metric \u001b[38;5;241m=\u001b[39m distanceMetricRt(pair_new, shiftedPairs[i])\n\u001b[0;32m     14\u001b[0m         shift_distance \u001b[38;5;241m=\u001b[39m distance_metric[\u001b[38;5;241m0\u001b[39m] \u001b[38;5;241m*\u001b[39m distance_metric[\u001b[38;5;241m1\u001b[39m]\n",
      "Input \u001b[1;32mIn [548]\u001b[0m, in \u001b[0;36mshiftPair_Rt\u001b[1;34m(rtPair, rtList, kernel_bandwidth)\u001b[0m\n\u001b[0;32m      3\u001b[0m shifted_pair \u001b[38;5;241m=\u001b[39m [rtPair[\u001b[38;5;241m0\u001b[39m], rtPair[\u001b[38;5;241m1\u001b[39m], rtPair[\u001b[38;5;241m2\u001b[39m], rtPair[\u001b[38;5;241m3\u001b[39m], [np\u001b[38;5;241m.\u001b[39marray([\u001b[38;5;241m0.0\u001b[39m, \u001b[38;5;241m0.0\u001b[39m, \u001b[38;5;241m0.0\u001b[39m]), np\u001b[38;5;241m.\u001b[39marray([\u001b[38;5;241m0.0\u001b[39m, \u001b[38;5;241m0.0\u001b[39m, \u001b[38;5;241m0.0\u001b[39m])]]\n\u001b[0;32m      5\u001b[0m \u001b[38;5;28;01mfor\u001b[39;00m i \u001b[38;5;129;01min\u001b[39;00m \u001b[38;5;28mrange\u001b[39m(\u001b[38;5;28mlen\u001b[39m(rtList)):\n\u001b[1;32m----> 6\u001b[0m     distanceMetric \u001b[38;5;241m=\u001b[39m \u001b[43mdistanceMetricRt\u001b[49m\u001b[43m(\u001b[49m\u001b[43mrtPair\u001b[49m\u001b[43m,\u001b[49m\u001b[43m \u001b[49m\u001b[43mrtList\u001b[49m\u001b[43m[\u001b[49m\u001b[43mi\u001b[49m\u001b[43m]\u001b[49m\u001b[43m)\u001b[49m\n\u001b[0;32m      8\u001b[0m     \u001b[38;5;28;01mif\u001b[39;00m distanceMetric[\u001b[38;5;241m0\u001b[39m] \u001b[38;5;241m<\u001b[39m kernel_bandwidth[\u001b[38;5;241m0\u001b[39m] \u001b[38;5;129;01mand\u001b[39;00m distanceMetric[\u001b[38;5;241m1\u001b[39m] \u001b[38;5;241m<\u001b[39m kernel_bandwidth[\u001b[38;5;241m1\u001b[39m]:            \n\u001b[0;32m      9\u001b[0m         \u001b[38;5;66;03m# A list cannot directly handle a mathematical operations, while array can\u001b[39;00m\n\u001b[0;32m     10\u001b[0m         weight \u001b[38;5;241m=\u001b[39m epanechnikov_weight(distanceMetric, kernel_bandwidth)\n",
      "Input \u001b[1;32mIn [562]\u001b[0m, in \u001b[0;36mdistanceMetricRt\u001b[1;34m(rtPairA, rtPairB)\u001b[0m\n\u001b[0;32m      1\u001b[0m \u001b[38;5;28;01mdef\u001b[39;00m \u001b[38;5;21mdistanceMetricRt\u001b[39m(rtPairA, rtPairB):\n\u001b[0;32m      2\u001b[0m     module \u001b[38;5;241m=\u001b[39m np\u001b[38;5;241m.\u001b[39mlinalg\u001b[38;5;241m.\u001b[39mnorm(rtPairA[\u001b[38;5;241m4\u001b[39m][\u001b[38;5;241m0\u001b[39m]) \u001b[38;5;241m*\u001b[39m np\u001b[38;5;241m.\u001b[39mlinalg\u001b[38;5;241m.\u001b[39mnorm(rtPairB[\u001b[38;5;241m4\u001b[39m][\u001b[38;5;241m0\u001b[39m])\n\u001b[1;32m----> 3\u001b[0m     angle \u001b[38;5;241m=\u001b[39m math\u001b[38;5;241m.\u001b[39macos(\u001b[38;5;28mmin\u001b[39m(\u001b[38;5;241m1.0\u001b[39m, \u001b[38;5;28mabs\u001b[39m(\u001b[43mnp\u001b[49m\u001b[38;5;241;43m.\u001b[39;49m\u001b[43mdot\u001b[49m\u001b[43m(\u001b[49m\u001b[43mrtPairA\u001b[49m\u001b[43m[\u001b[49m\u001b[38;5;241;43m4\u001b[39;49m\u001b[43m]\u001b[49m\u001b[43m[\u001b[49m\u001b[38;5;241;43m0\u001b[39;49m\u001b[43m]\u001b[49m\u001b[43m,\u001b[49m\u001b[43m \u001b[49m\u001b[43mrtPairB\u001b[49m\u001b[43m[\u001b[49m\u001b[38;5;241;43m4\u001b[39;49m\u001b[43m]\u001b[49m\u001b[43m[\u001b[49m\u001b[38;5;241;43m0\u001b[39;49m\u001b[43m]\u001b[49m\u001b[43m)\u001b[49m) \u001b[38;5;241m/\u001b[39m module))\n\u001b[0;32m      5\u001b[0m     origin \u001b[38;5;241m=\u001b[39m np\u001b[38;5;241m.\u001b[39marray([\u001b[38;5;241m0\u001b[39m, \u001b[38;5;241m0\u001b[39m, \u001b[38;5;241m0\u001b[39m])\n\u001b[0;32m      6\u001b[0m     distance \u001b[38;5;241m=\u001b[39m np\u001b[38;5;241m.\u001b[39mlinalg\u001b[38;5;241m.\u001b[39mnorm(rtPairA[\u001b[38;5;241m4\u001b[39m][\u001b[38;5;241m1\u001b[39m] \u001b[38;5;241m-\u001b[39m rtPairB[\u001b[38;5;241m4\u001b[39m][\u001b[38;5;241m1\u001b[39m])\n",
      "File \u001b[1;32m<__array_function__ internals>:5\u001b[0m, in \u001b[0;36mdot\u001b[1;34m(*args, **kwargs)\u001b[0m\n",
      "\u001b[1;31mKeyboardInterrupt\u001b[0m: "
     ]
    }
   ],
   "source": [
    "shiftedPairsRt = meanShift_Rt(lcrPairs, KERNEL_BW)"
   ]
  },
  {
   "cell_type": "code",
   "execution_count": null,
   "id": "dada2c16",
   "metadata": {},
   "outputs": [],
   "source": [
    "#Usar Kd-Tree o prescindir del mean shift."
   ]
  },
  {
   "cell_type": "code",
   "execution_count": 531,
   "id": "3f307a63",
   "metadata": {},
   "outputs": [],
   "source": [
    "n_clusterRt = clusterRt(lrPairs, shiftedPairsRt)"
   ]
  },
  {
   "cell_type": "code",
   "execution_count": 532,
   "id": "c9ce2092",
   "metadata": {},
   "outputs": [
    {
     "data": {
      "text/plain": [
       "128"
      ]
     },
     "execution_count": 532,
     "metadata": {},
     "output_type": "execute_result"
    }
   ],
   "source": [
    "len(n_clusterRt)"
   ]
  },
  {
   "cell_type": "code",
   "execution_count": 564,
   "id": "b4ef660b",
   "metadata": {},
   "outputs": [],
   "source": [
    "def clusterRt2(pairs):\n",
    "    cluster_set = []\n",
    "    \n",
    "    for i in range(0, len(pairs)):\n",
    "        found = False\n",
    "        c = 0\n",
    "        \n",
    "        for c in range(0, len(cluster_set)):\n",
    "            distance = distanceMetricRt(pairs[i], cluster_set[c][0])\n",
    "            if distance[0] < CLUSTER_EP[0] and distance[1] < CLUSTER_EP[1]:\n",
    "                found = True\n",
    "                break\n",
    "        \n",
    "        if not found:\n",
    "            #mode, original points\n",
    "            cluster = [pairs[i], [], []]\n",
    "            cluster_set.append(cluster)\n",
    "            c = len(cluster_set) - 1\n",
    "        \n",
    "        cluster_set[c][1].append(i)\n",
    "        cluster_set[c][2].append(pairs[i])\n",
    "    \n",
    "    return cluster_set"
   ]
  },
  {
   "cell_type": "code",
   "execution_count": 567,
   "id": "204c2c11",
   "metadata": {},
   "outputs": [],
   "source": [
    "n_cluster2_Rt = clusterRt2(lcrPairs)"
   ]
  },
  {
   "cell_type": "code",
   "execution_count": 571,
   "id": "9f89a9cb",
   "metadata": {},
   "outputs": [
    {
     "name": "stdout",
     "output_type": "stream",
     "text": [
      "1 42\n",
      "4 2015\n",
      "7 34\n",
      "8 95\n",
      "9 67\n",
      "10 68\n",
      "11 86\n",
      "13 60\n",
      "16 98\n",
      "18 30\n",
      "22 23\n",
      "25 29\n",
      "28 54\n",
      "30 46\n",
      "31 27\n",
      "32 100\n",
      "33 37\n",
      "34 59\n",
      "38 121\n",
      "39 23\n",
      "40 100\n",
      "42 116\n",
      "45 28\n",
      "52 33\n",
      "54 40\n",
      "62 41\n",
      "87 28\n",
      "92 21\n",
      "95 30\n",
      "106 68\n",
      "139 55\n",
      "202 47\n",
      "210 21\n",
      "231 34\n"
     ]
    }
   ],
   "source": [
    "for x in range(0, len(n_cluster2_Rt)):\n",
    "    if len(n_cluster2_Rt[x][1]) > 20:\n",
    "        print(x, len(n_cluster2_Rt[x][1]))"
   ]
  },
  {
   "cell_type": "code",
   "execution_count": 574,
   "id": "c8d46544",
   "metadata": {},
   "outputs": [
    {
     "data": {
      "text/plain": [
       "([259,\n",
       "  260,\n",
       "  259,\n",
       "  273,\n",
       "  (array([-0.,  0.,  1.]),\n",
       "   array([6.07508630e-06, 3.37345461e-06, 0.00000000e+00]))],\n",
       " 2015)"
      ]
     },
     "execution_count": 574,
     "metadata": {},
     "output_type": "execute_result"
    }
   ],
   "source": [
    "n_cluster2_Rt[4][0], len(n_cluster2_Rt[4][1])"
   ]
  },
  {
   "cell_type": "code",
   "execution_count": null,
   "id": "09b61ab8",
   "metadata": {},
   "outputs": [],
   "source": []
  },
  {
   "cell_type": "code",
   "execution_count": 348,
   "id": "1801cf82",
   "metadata": {},
   "outputs": [
    {
     "data": {
      "text/plain": [
       "(0.41745188130705396, 1.2311834058802362)"
      ]
     },
     "execution_count": 348,
     "metadata": {},
     "output_type": "execute_result"
    }
   ],
   "source": [
    "distanceMetricRx(shiftedPairsFx[6], n_cluster[0][0])"
   ]
  },
  {
   "cell_type": "code",
   "execution_count": 142,
   "id": "a12f94c3",
   "metadata": {},
   "outputs": [
    {
     "data": {
      "text/plain": [
       "1.0000000022565916"
      ]
     },
     "execution_count": 142,
     "metadata": {},
     "output_type": "execute_result"
    }
   ],
   "source": [
    "#x1 = [127, 159, np.array([ 0.8375182 , -0.32672394,  0.43796659]), -2.4115509526708188]\n",
    "#x2 = [127, 159, np.array([ 0.8375182 , -0.32672394,  0.43796659]), -2.4115509526708188]\n",
    "\n",
    "x1 = np.array([ 0.8375182 , -0.32672394,  0.43796659])\n",
    "x2 = np.array([ 0.8375182 , -0.32672394,  0.43796659])\n",
    "#math.acos(abs(x1[2].dot(x2[2])))\n",
    "abs(x1.dot(x2)) #math.acos(abs(x1.dot(x2)))"
   ]
  },
  {
   "cell_type": "code",
   "execution_count": 130,
   "id": "42a419cf",
   "metadata": {},
   "outputs": [],
   "source": [
    "#def DetectionReflectional(baseRx):\n",
    "shifted_point = [lxcPairs[2][0],  lxcPairs[2][1], np.array([0.0, 0.0, 0.0]), 0]\n",
    "lista = lxcPairs[2]\n",
    "shifted_point[2] = lista[2]\n",
    "shifted_point[3] = lista[3]\n",
    "shifted_point"
   ]
  },
  {
   "cell_type": "code",
   "execution_count": 266,
   "id": "65870917",
   "metadata": {},
   "outputs": [
    {
     "data": {
      "text/plain": [
       "(0.003121760987498162, 0.0)"
      ]
     },
     "execution_count": 266,
     "metadata": {},
     "output_type": "execute_result"
    }
   ],
   "source": [
    "distanceMetricRx(lxcPairs[22], lxcPairs[250])[0], distanceMetricRx(lxcPairs[271], lxcPairs[501])[1]"
   ]
  },
  {
   "cell_type": "code",
   "execution_count": 575,
   "id": "a018fe99",
   "metadata": {},
   "outputs": [
    {
     "data": {
      "text/plain": [
       "5389"
      ]
     },
     "execution_count": 575,
     "metadata": {},
     "output_type": "execute_result"
    }
   ],
   "source": [
    "lDist = []\n",
    "similar_pairs = []\n",
    "\n",
    "for i in range(len(lxcPairs)):\n",
    "    for j in range(i + 1, len(lxcPairs)):\n",
    "        #lDist.append(distanceMetricRx(lxcPairs[i], lxcPairs[j]))\n",
    "        origin = np.array([0, 0, 0])\n",
    "        projectionA = projectPointPlane(origin, lxcPairs[i][2], lxcPairs[i][3])\n",
    "        projectionB = projectPointPlane(origin, lxcPairs[j][2], lxcPairs[j][3])\n",
    "        distance = np.linalg.norm(projectionA - projectionB) / diagonal_bbox\n",
    "        if abs(np.dot(lxcPairs[i][2], lxcPairs[j][2])) > 0.99 and distance < 0.05: #0.98\n",
    "            similar_pairs.append([i, j, distance, math.acos(min(abs(np.dot(lxcPairs[i][2], lxcPairs[j][2])), 1.0))])\n",
    "            #print(i, j, distance, math.acos(min(abs(np.dot(lxcPairs[i][2], lxcPairs[j][2])), 1.0)))\n",
    "            \n",
    "len(similar_pairs)        \n",
    "#np.percentile(lDist, 10), np.percentile(lDist, 25), np.percentile(lDist, 40), np.percentile(lDist, 55), np.percentile(lDist, 70), np.percentile(lDist, 85)"
   ]
  },
  {
   "cell_type": "code",
   "execution_count": 194,
   "id": "d2895241",
   "metadata": {},
   "outputs": [
    {
     "data": {
      "text/plain": [
       "(array([ 0.08726476,  0.0731308 ,  0.0400593 , ..., -2.54055871,\n",
       "        -2.54062088, -2.54056058]),\n",
       " array([5.67214749e+00, 6.04994646e+00, 5.55570293e+00, ...,\n",
       "        1.41687329e-03, 1.41637564e-03, 1.07589602e-04]))"
      ]
     },
     "execution_count": 194,
     "metadata": {},
     "output_type": "execute_result"
    }
   ],
   "source": [
    "k1, k2"
   ]
  },
  {
   "cell_type": "code",
   "execution_count": 281,
   "id": "86474be5",
   "metadata": {},
   "outputs": [
    {
     "data": {
      "text/plain": [
       "([259,\n",
       "  285,\n",
       "  array([ 0.70710678,  0.70710678, -0.        ]),\n",
       "  array([0., 0., 0.])],\n",
       " [550,\n",
       "  570,\n",
       "  array([ 0.70710678,  0.70710678, -0.        ]),\n",
       "  array([-0.02056, -0.02056,  0.     ])],\n",
       " [587,\n",
       "  597,\n",
       "  array([ 0.70710678,  0.70710678, -0.        ]),\n",
       "  array([0., 0., 0.])],\n",
       " [996,\n",
       "  1020,\n",
       "  array([ 0.70710678,  0.70710678, -0.        ]),\n",
       "  array([-0.03701, -0.03701,  0.     ])])"
      ]
     },
     "execution_count": 281,
     "metadata": {},
     "output_type": "execute_result"
    }
   ],
   "source": [
    "lxcPairs[22], lxcPairs[250], lxcPairs[271], lxcPairs[501]"
   ]
  },
  {
   "cell_type": "code",
   "execution_count": 208,
   "id": "4d04ee9a",
   "metadata": {},
   "outputs": [
    {
     "data": {
      "text/plain": [
       "(array([ 0.19729, -0.99185,  6.80349]),\n",
       " array([ 0.99185, -0.19729,  6.80349]),\n",
       " array([-1.25006, -0.24865,  5.08451]),\n",
       " array([0.24865, 1.25006, 5.08451]))"
      ]
     },
     "execution_count": 208,
     "metadata": {},
     "output_type": "execute_result"
    }
   ],
   "source": [
    "v[lxcPairs[22][0]], v[lxcPairs[22][1]], v[lxcPairs[271][0]], v[lxcPairs[271][1]]"
   ]
  },
  {
   "cell_type": "code",
   "execution_count": 299,
   "id": "ac413f99",
   "metadata": {},
   "outputs": [
    {
     "name": "stdout",
     "output_type": "stream",
     "text": [
      "True False\n"
     ]
    }
   ],
   "source": [
    "x = np.array([7, 8])\n",
    "y = np.array([6, 10])\n",
    "\n",
    "c = x > y\n",
    "print(any(c), all(c))"
   ]
  },
  {
   "cell_type": "code",
   "execution_count": 301,
   "id": "fcc06ed8",
   "metadata": {},
   "outputs": [
    {
     "name": "stdout",
     "output_type": "stream",
     "text": [
      "True False\n"
     ]
    }
   ],
   "source": [
    "cx = distanceMetricRx(lxcPairs[22], lxcPairs[250]) > y\n",
    "print(any(c), all(c))"
   ]
  },
  {
   "cell_type": "code",
   "execution_count": 305,
   "id": "3955478e",
   "metadata": {},
   "outputs": [],
   "source": [
    "p3 = []\n",
    "for i in range(0, len(p3)):\n",
    "    print(i)"
   ]
  },
  {
   "cell_type": "code",
   "execution_count": 422,
   "id": "a5cbeb90",
   "metadata": {},
   "outputs": [
    {
     "data": {
      "text/plain": [
       "([[[0.0, 2.0, 4.0], [], []]], [], [])"
      ]
     },
     "execution_count": 422,
     "metadata": {},
     "output_type": "execute_result"
    }
   ],
   "source": [
    "set_clus = []\n",
    "clus = [[0.0, 2.0, 4.0], [], []]\n",
    "set_clus.append(clus)\n",
    "set_clus, clus[1], clus[2]"
   ]
  },
  {
   "cell_type": "code",
   "execution_count": 315,
   "id": "8da0f5ab",
   "metadata": {},
   "outputs": [],
   "source": [
    "clus2 = [[0.0, 2.0, 4.0], np.array([]), np.array([])]"
   ]
  },
  {
   "cell_type": "code",
   "execution_count": 320,
   "id": "dc6152de",
   "metadata": {},
   "outputs": [],
   "source": [
    "clus[1].append(lxcPairs[0])\n",
    "clus[2].append(shiftedPairsFx[0])"
   ]
  },
  {
   "cell_type": "code",
   "execution_count": 321,
   "id": "b21ef2eb",
   "metadata": {},
   "outputs": [
    {
     "data": {
      "text/plain": [
       "[[0.0, 2.0, 4.0],\n",
       " [[4,\n",
       "   33,\n",
       "   array([ 0.14220045, -0.65268028,  0.74416899]),\n",
       "   array([ 0.56531429, -2.59471394,  2.95842496])]],\n",
       " [[4,\n",
       "   33,\n",
       "   array([ 0.14220045, -0.65268028,  0.74416899]),\n",
       "   array([ 0.56531429, -2.59471394,  2.95842496])]]]"
      ]
     },
     "execution_count": 321,
     "metadata": {},
     "output_type": "execute_result"
    }
   ],
   "source": [
    "clus"
   ]
  },
  {
   "cell_type": "code",
   "execution_count": null,
   "id": "1598e702",
   "metadata": {},
   "outputs": [],
   "source": []
  }
 ],
 "metadata": {
  "kernelspec": {
   "display_name": "Python 3 (ipykernel)",
   "language": "python",
   "name": "python3"
  },
  "language_info": {
   "codemirror_mode": {
    "name": "ipython",
    "version": 3
   },
   "file_extension": ".py",
   "mimetype": "text/x-python",
   "name": "python",
   "nbconvert_exporter": "python",
   "pygments_lexer": "ipython3",
   "version": "3.9.12"
  }
 },
 "nbformat": 4,
 "nbformat_minor": 5
}
