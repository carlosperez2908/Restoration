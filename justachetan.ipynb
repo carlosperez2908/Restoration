{
 "cells": [
  {
   "cell_type": "code",
   "execution_count": 2,
   "id": "c3ad0845",
   "metadata": {},
   "outputs": [],
   "source": [
    "import argparse\n",
    "import numpy as np\n",
    "from argparse import RawTextHelpFormatter"
   ]
  },
  {
   "cell_type": "code",
   "execution_count": 3,
   "id": "ff18c35b",
   "metadata": {},
   "outputs": [],
   "source": [
    "def get_heron_area(a, b, c):\n",
    "\n",
    "    x = np.linalg.norm((b - a), 2)\n",
    "    y = np.linalg.norm((c - a), 2)\n",
    "    z = np.linalg.norm((c - b), 2)\n",
    "    s = (x + y + z) * 0.5\n",
    "\n",
    "    return (s * (s - x) * (s - y) * (s - z)) ** 0.5"
   ]
  },
  {
   "cell_type": "code",
   "execution_count": 4,
   "id": "fab88c86",
   "metadata": {},
   "outputs": [],
   "source": [
    "def calc_A_mixed(vertices, triangles):\n",
    "\n",
    "    numv = vertices.shape[0]\n",
    "    numt = triangles.shape[0]\n",
    "\n",
    "    A_mixed = np.zeros((numv, numt))\n",
    "\n",
    "    mean_curvature_normal_operator = np.zeros((numv, numt, 3))\n",
    "\n",
    "    for i in range(numv):\n",
    "\n",
    "        req_t = triangles[(triangles[:, 0] == i) | (\n",
    "            triangles[:, 1] == i) | (triangles[:, 2] == i)]\n",
    "\n",
    "        for j in range(len(req_t)):\n",
    "\n",
    "            tid = np.where(np.all(triangles == req_t[j], axis=1))\n",
    "\n",
    "            nbhr = [v for v in req_t[j] if v != i]\n",
    "\n",
    "            vec1 = (vertices[nbhr[0]] - vertices[i]) / \\\n",
    "                np.linalg.norm(vertices[nbhr[0]] - vertices[i], 2)\n",
    "            vec2 = (vertices[nbhr[1]] - vertices[i]) / \\\n",
    "                np.linalg.norm(vertices[nbhr[1]] - vertices[i], 2)\n",
    "            angle_at_x = np.arccos(np.dot(vec1, vec2))\n",
    "\n",
    "            if angle_at_x > np.pi / 2:\n",
    "                A_mixed[i, tid] = get_heron_area(\n",
    "                    vertices[i], vertices[nbhr[0]], vertices[nbhr[1]]) / 2\n",
    "                continue\n",
    "\n",
    "            vec1a = (vertices[i] - vertices[nbhr[0]]) / \\\n",
    "                np.linalg.norm(vertices[i] - vertices[nbhr[0]], 2)\n",
    "            vec2a = (vertices[nbhr[1]] - vertices[nbhr[0]]) / \\\n",
    "                np.linalg.norm(vertices[nbhr[1]] - vertices[nbhr[0]], 2)\n",
    "\n",
    "            inner_prod = np.dot(vec1a, vec2a)\n",
    "            angle1 = np.arccos(inner_prod)\n",
    "\n",
    "            if angle1 > np.pi / 2:\n",
    "                A_mixed[i, tid] = get_heron_area(\n",
    "                    vertices[i], vertices[nbhr[0]], vertices[nbhr[1]]) / 4\n",
    "                continue\n",
    "\n",
    "            vec1b = (vertices[i] - vertices[nbhr[1]]) / \\\n",
    "                np.linalg.norm(vertices[i] - vertices[nbhr[1]], 2)\n",
    "            vec2b = (vertices[nbhr[0]] - vertices[nbhr[1]]) / \\\n",
    "                np.linalg.norm(vertices[nbhr[0]] - vertices[nbhr[1]], 2)\n",
    "\n",
    "            inner_prod = np.dot(vec1b, vec2b)\n",
    "            angle2 = np.arccos(inner_prod)\n",
    "\n",
    "            if angle2 > np.pi / 2:\n",
    "                A_mixed[i, tid] = get_heron_area(\n",
    "                    vertices[i], vertices[nbhr[0]], vertices[nbhr[1]]) / 4\n",
    "                continue\n",
    "\n",
    "            cot_1 = 1 / np.tan(angle1)\n",
    "            cot_2 = 1 / np.tan(angle2)\n",
    "\n",
    "            A_v_of_tid = 0.125 * ((cot_1 * np.linalg.norm(vertices[i] - vertices[nbhr[\n",
    "                1]], 2)**2) + (cot_2 * np.linalg.norm(vertices[i] - vertices[nbhr[0]], 2)**2))\n",
    "\n",
    "            mean_curvature_normal_operator_at_v_t = ((1 / np.tan(angle1)) * (\n",
    "                vertices[i] - vertices[nbhr[1]])) + ((1 / np.tan(angle2)) * (vertices[i] - vertices[nbhr[0]]))\n",
    "\n",
    "            A_mixed[i, tid] = A_v_of_tid\n",
    "            mean_curvature_normal_operator[\n",
    "                i, tid] = mean_curvature_normal_operator_at_v_t\n",
    "\n",
    "    A_mixed = np.sum(A_mixed, axis=1)\n",
    "    # Set zeros in A_mixed to very small values\n",
    "    A_mixed[A_mixed == 0] = 10 ** -40\n",
    "    mean_curvature_normal_operator = (\n",
    "        (1 / (2 * A_mixed)) * np.sum(mean_curvature_normal_operator, axis=1).T).T\n",
    "\n",
    "    return A_mixed, mean_curvature_normal_operator"
   ]
  },
  {
   "cell_type": "code",
   "execution_count": 5,
   "id": "344009c0",
   "metadata": {},
   "outputs": [],
   "source": [
    "def get_mean_curvature(mean_curvature_normal_operator_vector):\n",
    "    K_H = 0.5 * \\\n",
    "        np.linalg.norm(mean_curvature_normal_operator_vector, 2, axis=1)\n",
    "    return K_H"
   ]
  },
  {
   "cell_type": "code",
   "execution_count": 6,
   "id": "aa6a9caf",
   "metadata": {},
   "outputs": [],
   "source": [
    "def get_gaussian_curvature(vertices, triangles, A_mixed):\n",
    "    numv = vertices.shape[0]\n",
    "    numt = triangles.shape[0]\n",
    "    K_G = np.zeros(numv)\n",
    "    for i in range(numv):\n",
    "        sum_theta = 0\n",
    "        req_t = triangles[(triangles[:, 0] == i) | (\n",
    "            triangles[:, 1] == i) | (triangles[:, 2] == i)]\n",
    "\n",
    "        for j in range(req_t.shape[0]):\n",
    "\n",
    "            nbhrs = [v for v in req_t[j] if v != i]\n",
    "            vec1 = vertices[nbhrs[0]] - vertices[i]\n",
    "            vec1 = vec1 / np.linalg.norm(vec1, 2)\n",
    "            vec2 = vertices[nbhrs[1]] - vertices[i]\n",
    "            vec2 = vec2 / np.linalg.norm(vec2, 2)\n",
    "            angle = np.arccos(np.dot(vec1, vec2))\n",
    "            sum_theta += angle\n",
    "\n",
    "        K_G[i] = ((2 * np.pi) - sum_theta) / A_mixed[i]\n",
    "    return K_G"
   ]
  },
  {
   "cell_type": "code",
   "execution_count": 7,
   "id": "33c8cb84",
   "metadata": {},
   "outputs": [],
   "source": [
    "def get_principal_curvatures(K_H, K_G):\n",
    "    numv = vertices.shape[0]\n",
    "    numt = triangles.shape[0]\n",
    "    zeros = np.zeros(numv)\n",
    "    delx = np.sqrt(np.max(np.vstack((K_H**2 - K_G, zeros)), axis=0))\n",
    "    K_1 = K_H + delx\n",
    "    K_2 = K_H - delx\n",
    "    return K_1, K_2"
   ]
  },
  {
   "cell_type": "code",
   "execution_count": 8,
   "id": "dec628ab",
   "metadata": {},
   "outputs": [],
   "source": [
    "def read_off(file):\n",
    "    n_verts, n_faces, n_dontknow = tuple(\n",
    "        [int(s) for s in file.readline().strip().split(' ')])\n",
    "    verts = [[float(s) for s in file.readline().strip().split(' ')]\n",
    "             for i_vert in range(n_verts)]\n",
    "    faces = [[int(s) for s in file.readline().strip().split(' ')][1:]\n",
    "             for i_face in range(n_faces)]\n",
    "    return np.array(verts, dtype=np.float64), np.array(faces, dtype=np.int64)"
   ]
  },
  {
   "cell_type": "code",
   "execution_count": 9,
   "id": "0980496b",
   "metadata": {},
   "outputs": [],
   "source": [
    "#f = open(mesh_file)\n",
    "#vertices, triangles = read_off(f)\n",
    "\n",
    "import igl\n",
    "vertices, triangles = igl.read_triangle_mesh(\"3dPotteryDs/3D Models/Lagynos/qpvase5.obj\")\n",
    "\n",
    "A_mixed = None\n",
    "mean_curvature_normal_operator_vec = None\n",
    "\n",
    "A_mixed, mean_curvature_normal_operator_vec = calc_A_mixed(vertices, triangles)\n",
    "\n",
    "K_H = None\n",
    "K_G = None\n",
    "K_1 = None\n",
    "K_2 = None\n",
    "\n",
    "\n",
    "if K_H is None:\n",
    "    K_H = get_mean_curvature(mean_curvature_normal_operator_vec)\n",
    "if K_G is None:\n",
    "    K_G = get_gaussian_curvature(vertices, triangles, A_mixed)\n",
    "    \n",
    "K_1, K_2 = get_principal_curvatures(K_H, K_G)        \n",
    "#np.save(\"./\" + inp.split(\".\")[0] + \"_K1.npy\", K_1)\n",
    "#np.save(\"./\" + inp.split(\".\")[0] + \"_K2.npy\", K_2)\n",
    "#print(\"[DiffGeoOps]: Principal Curvature 1 for\", inp, \"saved to\", \"./\" + inp.split(\".\")[0] + \"_K1.npy\")\n",
    "#print(\"[DiffGeoOps]: Principal Curvature 2 for\", inp, \"saved to\", \"./\" + inp.split(\".\")[0] + \"_K2.npy\")"
   ]
  },
  {
   "cell_type": "code",
   "execution_count": 10,
   "id": "0b9e872e",
   "metadata": {},
   "outputs": [
    {
     "data": {
      "text/plain": [
       "(array([5.64937976, 5.38150797, 5.76438039, ..., 1.12288504, 1.12358572,\n",
       "        1.12291449]),\n",
       " array([5.64937976, 5.38150797, 5.76438039, ..., 1.12288504, 1.12358572,\n",
       "        1.12291449]))"
      ]
     },
     "execution_count": 10,
     "metadata": {},
     "output_type": "execute_result"
    }
   ],
   "source": [
    "K_1, K_2"
   ]
  },
  {
   "cell_type": "code",
   "execution_count": null,
   "id": "b795643f",
   "metadata": {},
   "outputs": [],
   "source": []
  }
 ],
 "metadata": {
  "kernelspec": {
   "display_name": "Python 3 (ipykernel)",
   "language": "python",
   "name": "python3"
  },
  "language_info": {
   "codemirror_mode": {
    "name": "ipython",
    "version": 3
   },
   "file_extension": ".py",
   "mimetype": "text/x-python",
   "name": "python",
   "nbconvert_exporter": "python",
   "pygments_lexer": "ipython3",
   "version": "3.9.12"
  }
 },
 "nbformat": 4,
 "nbformat_minor": 5
}
